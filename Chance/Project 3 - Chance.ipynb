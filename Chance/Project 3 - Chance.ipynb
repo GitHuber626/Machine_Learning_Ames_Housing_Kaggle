{
 "cells": [
  {
   "cell_type": "code",
   "execution_count": 1,
   "id": "665c4fc9",
   "metadata": {},
   "outputs": [],
   "source": [
    "import warnings\n",
    "import time\n",
    "import numpy as np\n",
    "import pandas as pd\n",
    "import seaborn as sns\n",
    "import matplotlib.pyplot as plt\n",
    "%matplotlib inline\n",
    "from collections import Counter"
   ]
  },
  {
   "cell_type": "code",
   "execution_count": 2,
   "id": "9f80493a",
   "metadata": {},
   "outputs": [],
   "source": [
    "warnings.filterwarnings('ignore')\n",
    "House_Sub=pd.read_csv('Ames Real Estate Data.csv')\n",
    "House_Main=pd.read_csv('Ames_HousePrice.csv',index_col=0)"
   ]
  },
  {
   "cell_type": "code",
   "execution_count": 3,
   "id": "cdcf0892",
   "metadata": {},
   "outputs": [
    {
     "data": {
      "text/plain": [
       "0.9965116279069768"
      ]
     },
     "execution_count": 3,
     "metadata": {},
     "output_type": "execute_result"
    }
   ],
   "source": [
    "House_Main['PoolQC'].isnull().sum()/len(House_Main['PoolQC'])"
   ]
  },
  {
   "cell_type": "code",
   "execution_count": 4,
   "id": "46e95f33",
   "metadata": {},
   "outputs": [
    {
     "data": {
      "text/html": [
       "<div>\n",
       "<style scoped>\n",
       "    .dataframe tbody tr th:only-of-type {\n",
       "        vertical-align: middle;\n",
       "    }\n",
       "\n",
       "    .dataframe tbody tr th {\n",
       "        vertical-align: top;\n",
       "    }\n",
       "\n",
       "    .dataframe thead th {\n",
       "        text-align: right;\n",
       "    }\n",
       "</style>\n",
       "<table border=\"1\" class=\"dataframe\">\n",
       "  <thead>\n",
       "    <tr style=\"text-align: right;\">\n",
       "      <th></th>\n",
       "      <th>PID</th>\n",
       "      <th>GrLivArea</th>\n",
       "      <th>SalePrice</th>\n",
       "      <th>MSSubClass</th>\n",
       "      <th>MSZoning</th>\n",
       "      <th>LotFrontage</th>\n",
       "      <th>LotArea</th>\n",
       "      <th>Street</th>\n",
       "      <th>Alley</th>\n",
       "      <th>LotShape</th>\n",
       "      <th>...</th>\n",
       "      <th>ScreenPorch</th>\n",
       "      <th>PoolArea</th>\n",
       "      <th>PoolQC</th>\n",
       "      <th>Fence</th>\n",
       "      <th>MiscFeature</th>\n",
       "      <th>MiscVal</th>\n",
       "      <th>MoSold</th>\n",
       "      <th>YrSold</th>\n",
       "      <th>SaleType</th>\n",
       "      <th>SaleCondition</th>\n",
       "    </tr>\n",
       "  </thead>\n",
       "  <tbody>\n",
       "    <tr>\n",
       "      <th>count</th>\n",
       "      <td>2.580000e+03</td>\n",
       "      <td>2580.000000</td>\n",
       "      <td>2580.000000</td>\n",
       "      <td>2580.000000</td>\n",
       "      <td>2580</td>\n",
       "      <td>2118.000000</td>\n",
       "      <td>2580.000000</td>\n",
       "      <td>2580</td>\n",
       "      <td>168</td>\n",
       "      <td>2580</td>\n",
       "      <td>...</td>\n",
       "      <td>2580.000000</td>\n",
       "      <td>2580.000000</td>\n",
       "      <td>9</td>\n",
       "      <td>525</td>\n",
       "      <td>97</td>\n",
       "      <td>2580.000000</td>\n",
       "      <td>2580.000000</td>\n",
       "      <td>2580.000000</td>\n",
       "      <td>2580</td>\n",
       "      <td>2580</td>\n",
       "    </tr>\n",
       "    <tr>\n",
       "      <th>unique</th>\n",
       "      <td>NaN</td>\n",
       "      <td>NaN</td>\n",
       "      <td>NaN</td>\n",
       "      <td>NaN</td>\n",
       "      <td>7</td>\n",
       "      <td>NaN</td>\n",
       "      <td>NaN</td>\n",
       "      <td>2</td>\n",
       "      <td>2</td>\n",
       "      <td>4</td>\n",
       "      <td>...</td>\n",
       "      <td>NaN</td>\n",
       "      <td>NaN</td>\n",
       "      <td>4</td>\n",
       "      <td>4</td>\n",
       "      <td>4</td>\n",
       "      <td>NaN</td>\n",
       "      <td>NaN</td>\n",
       "      <td>NaN</td>\n",
       "      <td>10</td>\n",
       "      <td>6</td>\n",
       "    </tr>\n",
       "    <tr>\n",
       "      <th>top</th>\n",
       "      <td>NaN</td>\n",
       "      <td>NaN</td>\n",
       "      <td>NaN</td>\n",
       "      <td>NaN</td>\n",
       "      <td>RL</td>\n",
       "      <td>NaN</td>\n",
       "      <td>NaN</td>\n",
       "      <td>Pave</td>\n",
       "      <td>Grvl</td>\n",
       "      <td>Reg</td>\n",
       "      <td>...</td>\n",
       "      <td>NaN</td>\n",
       "      <td>NaN</td>\n",
       "      <td>TA</td>\n",
       "      <td>MnPrv</td>\n",
       "      <td>Shed</td>\n",
       "      <td>NaN</td>\n",
       "      <td>NaN</td>\n",
       "      <td>NaN</td>\n",
       "      <td>WD</td>\n",
       "      <td>Normal</td>\n",
       "    </tr>\n",
       "    <tr>\n",
       "      <th>freq</th>\n",
       "      <td>NaN</td>\n",
       "      <td>NaN</td>\n",
       "      <td>NaN</td>\n",
       "      <td>NaN</td>\n",
       "      <td>2008</td>\n",
       "      <td>NaN</td>\n",
       "      <td>NaN</td>\n",
       "      <td>2570</td>\n",
       "      <td>105</td>\n",
       "      <td>1641</td>\n",
       "      <td>...</td>\n",
       "      <td>NaN</td>\n",
       "      <td>NaN</td>\n",
       "      <td>3</td>\n",
       "      <td>301</td>\n",
       "      <td>88</td>\n",
       "      <td>NaN</td>\n",
       "      <td>NaN</td>\n",
       "      <td>NaN</td>\n",
       "      <td>2392</td>\n",
       "      <td>2414</td>\n",
       "    </tr>\n",
       "    <tr>\n",
       "      <th>mean</th>\n",
       "      <td>7.148300e+08</td>\n",
       "      <td>1486.039922</td>\n",
       "      <td>178059.623256</td>\n",
       "      <td>57.691860</td>\n",
       "      <td>NaN</td>\n",
       "      <td>68.516053</td>\n",
       "      <td>10120.153488</td>\n",
       "      <td>NaN</td>\n",
       "      <td>NaN</td>\n",
       "      <td>NaN</td>\n",
       "      <td>...</td>\n",
       "      <td>16.200388</td>\n",
       "      <td>1.662016</td>\n",
       "      <td>NaN</td>\n",
       "      <td>NaN</td>\n",
       "      <td>NaN</td>\n",
       "      <td>48.731395</td>\n",
       "      <td>6.150775</td>\n",
       "      <td>2007.838372</td>\n",
       "      <td>NaN</td>\n",
       "      <td>NaN</td>\n",
       "    </tr>\n",
       "    <tr>\n",
       "      <th>std</th>\n",
       "      <td>1.886626e+08</td>\n",
       "      <td>488.650181</td>\n",
       "      <td>75031.089374</td>\n",
       "      <td>42.802105</td>\n",
       "      <td>NaN</td>\n",
       "      <td>22.835831</td>\n",
       "      <td>8126.937892</td>\n",
       "      <td>NaN</td>\n",
       "      <td>NaN</td>\n",
       "      <td>NaN</td>\n",
       "      <td>...</td>\n",
       "      <td>56.824783</td>\n",
       "      <td>30.339396</td>\n",
       "      <td>NaN</td>\n",
       "      <td>NaN</td>\n",
       "      <td>NaN</td>\n",
       "      <td>498.725058</td>\n",
       "      <td>2.670647</td>\n",
       "      <td>1.312333</td>\n",
       "      <td>NaN</td>\n",
       "      <td>NaN</td>\n",
       "    </tr>\n",
       "    <tr>\n",
       "      <th>min</th>\n",
       "      <td>5.263011e+08</td>\n",
       "      <td>334.000000</td>\n",
       "      <td>12789.000000</td>\n",
       "      <td>20.000000</td>\n",
       "      <td>NaN</td>\n",
       "      <td>21.000000</td>\n",
       "      <td>1300.000000</td>\n",
       "      <td>NaN</td>\n",
       "      <td>NaN</td>\n",
       "      <td>NaN</td>\n",
       "      <td>...</td>\n",
       "      <td>0.000000</td>\n",
       "      <td>0.000000</td>\n",
       "      <td>NaN</td>\n",
       "      <td>NaN</td>\n",
       "      <td>NaN</td>\n",
       "      <td>0.000000</td>\n",
       "      <td>1.000000</td>\n",
       "      <td>2006.000000</td>\n",
       "      <td>NaN</td>\n",
       "      <td>NaN</td>\n",
       "    </tr>\n",
       "    <tr>\n",
       "      <th>25%</th>\n",
       "      <td>5.313630e+08</td>\n",
       "      <td>1112.000000</td>\n",
       "      <td>129975.000000</td>\n",
       "      <td>20.000000</td>\n",
       "      <td>NaN</td>\n",
       "      <td>57.000000</td>\n",
       "      <td>7406.750000</td>\n",
       "      <td>NaN</td>\n",
       "      <td>NaN</td>\n",
       "      <td>NaN</td>\n",
       "      <td>...</td>\n",
       "      <td>0.000000</td>\n",
       "      <td>0.000000</td>\n",
       "      <td>NaN</td>\n",
       "      <td>NaN</td>\n",
       "      <td>NaN</td>\n",
       "      <td>0.000000</td>\n",
       "      <td>4.000000</td>\n",
       "      <td>2007.000000</td>\n",
       "      <td>NaN</td>\n",
       "      <td>NaN</td>\n",
       "    </tr>\n",
       "    <tr>\n",
       "      <th>50%</th>\n",
       "      <td>5.354546e+08</td>\n",
       "      <td>1436.000000</td>\n",
       "      <td>159900.000000</td>\n",
       "      <td>50.000000</td>\n",
       "      <td>NaN</td>\n",
       "      <td>68.000000</td>\n",
       "      <td>9391.000000</td>\n",
       "      <td>NaN</td>\n",
       "      <td>NaN</td>\n",
       "      <td>NaN</td>\n",
       "      <td>...</td>\n",
       "      <td>0.000000</td>\n",
       "      <td>0.000000</td>\n",
       "      <td>NaN</td>\n",
       "      <td>NaN</td>\n",
       "      <td>NaN</td>\n",
       "      <td>0.000000</td>\n",
       "      <td>6.000000</td>\n",
       "      <td>2008.000000</td>\n",
       "      <td>NaN</td>\n",
       "      <td>NaN</td>\n",
       "    </tr>\n",
       "    <tr>\n",
       "      <th>75%</th>\n",
       "      <td>9.071811e+08</td>\n",
       "      <td>1733.000000</td>\n",
       "      <td>209625.000000</td>\n",
       "      <td>70.000000</td>\n",
       "      <td>NaN</td>\n",
       "      <td>80.000000</td>\n",
       "      <td>11494.000000</td>\n",
       "      <td>NaN</td>\n",
       "      <td>NaN</td>\n",
       "      <td>NaN</td>\n",
       "      <td>...</td>\n",
       "      <td>0.000000</td>\n",
       "      <td>0.000000</td>\n",
       "      <td>NaN</td>\n",
       "      <td>NaN</td>\n",
       "      <td>NaN</td>\n",
       "      <td>0.000000</td>\n",
       "      <td>8.000000</td>\n",
       "      <td>2009.000000</td>\n",
       "      <td>NaN</td>\n",
       "      <td>NaN</td>\n",
       "    </tr>\n",
       "    <tr>\n",
       "      <th>max</th>\n",
       "      <td>1.007100e+09</td>\n",
       "      <td>4676.000000</td>\n",
       "      <td>755000.000000</td>\n",
       "      <td>190.000000</td>\n",
       "      <td>NaN</td>\n",
       "      <td>313.000000</td>\n",
       "      <td>215245.000000</td>\n",
       "      <td>NaN</td>\n",
       "      <td>NaN</td>\n",
       "      <td>NaN</td>\n",
       "      <td>...</td>\n",
       "      <td>576.000000</td>\n",
       "      <td>800.000000</td>\n",
       "      <td>NaN</td>\n",
       "      <td>NaN</td>\n",
       "      <td>NaN</td>\n",
       "      <td>15500.000000</td>\n",
       "      <td>12.000000</td>\n",
       "      <td>2010.000000</td>\n",
       "      <td>NaN</td>\n",
       "      <td>NaN</td>\n",
       "    </tr>\n",
       "  </tbody>\n",
       "</table>\n",
       "<p>11 rows × 81 columns</p>\n",
       "</div>"
      ],
      "text/plain": [
       "                 PID    GrLivArea      SalePrice   MSSubClass MSZoning  \\\n",
       "count   2.580000e+03  2580.000000    2580.000000  2580.000000     2580   \n",
       "unique           NaN          NaN            NaN          NaN        7   \n",
       "top              NaN          NaN            NaN          NaN       RL   \n",
       "freq             NaN          NaN            NaN          NaN     2008   \n",
       "mean    7.148300e+08  1486.039922  178059.623256    57.691860      NaN   \n",
       "std     1.886626e+08   488.650181   75031.089374    42.802105      NaN   \n",
       "min     5.263011e+08   334.000000   12789.000000    20.000000      NaN   \n",
       "25%     5.313630e+08  1112.000000  129975.000000    20.000000      NaN   \n",
       "50%     5.354546e+08  1436.000000  159900.000000    50.000000      NaN   \n",
       "75%     9.071811e+08  1733.000000  209625.000000    70.000000      NaN   \n",
       "max     1.007100e+09  4676.000000  755000.000000   190.000000      NaN   \n",
       "\n",
       "        LotFrontage        LotArea Street Alley LotShape  ...  ScreenPorch  \\\n",
       "count   2118.000000    2580.000000   2580   168     2580  ...  2580.000000   \n",
       "unique          NaN            NaN      2     2        4  ...          NaN   \n",
       "top             NaN            NaN   Pave  Grvl      Reg  ...          NaN   \n",
       "freq            NaN            NaN   2570   105     1641  ...          NaN   \n",
       "mean      68.516053   10120.153488    NaN   NaN      NaN  ...    16.200388   \n",
       "std       22.835831    8126.937892    NaN   NaN      NaN  ...    56.824783   \n",
       "min       21.000000    1300.000000    NaN   NaN      NaN  ...     0.000000   \n",
       "25%       57.000000    7406.750000    NaN   NaN      NaN  ...     0.000000   \n",
       "50%       68.000000    9391.000000    NaN   NaN      NaN  ...     0.000000   \n",
       "75%       80.000000   11494.000000    NaN   NaN      NaN  ...     0.000000   \n",
       "max      313.000000  215245.000000    NaN   NaN      NaN  ...   576.000000   \n",
       "\n",
       "           PoolArea PoolQC  Fence MiscFeature       MiscVal       MoSold  \\\n",
       "count   2580.000000      9    525          97   2580.000000  2580.000000   \n",
       "unique          NaN      4      4           4           NaN          NaN   \n",
       "top             NaN     TA  MnPrv        Shed           NaN          NaN   \n",
       "freq            NaN      3    301          88           NaN          NaN   \n",
       "mean       1.662016    NaN    NaN         NaN     48.731395     6.150775   \n",
       "std       30.339396    NaN    NaN         NaN    498.725058     2.670647   \n",
       "min        0.000000    NaN    NaN         NaN      0.000000     1.000000   \n",
       "25%        0.000000    NaN    NaN         NaN      0.000000     4.000000   \n",
       "50%        0.000000    NaN    NaN         NaN      0.000000     6.000000   \n",
       "75%        0.000000    NaN    NaN         NaN      0.000000     8.000000   \n",
       "max      800.000000    NaN    NaN         NaN  15500.000000    12.000000   \n",
       "\n",
       "             YrSold SaleType  SaleCondition  \n",
       "count   2580.000000     2580           2580  \n",
       "unique          NaN       10              6  \n",
       "top             NaN      WD          Normal  \n",
       "freq            NaN     2392           2414  \n",
       "mean    2007.838372      NaN            NaN  \n",
       "std        1.312333      NaN            NaN  \n",
       "min     2006.000000      NaN            NaN  \n",
       "25%     2007.000000      NaN            NaN  \n",
       "50%     2008.000000      NaN            NaN  \n",
       "75%     2009.000000      NaN            NaN  \n",
       "max     2010.000000      NaN            NaN  \n",
       "\n",
       "[11 rows x 81 columns]"
      ]
     },
     "execution_count": 4,
     "metadata": {},
     "output_type": "execute_result"
    }
   ],
   "source": [
    "House_Main.describe(include='all')"
   ]
  },
  {
   "cell_type": "markdown",
   "id": "8f46e33d",
   "metadata": {},
   "source": [
    "# Find Columns whose dtypes are numeric and initial cor analysis of those columns to target: SalePrice"
   ]
  },
  {
   "cell_type": "code",
   "execution_count": 5,
   "id": "980fe417",
   "metadata": {},
   "outputs": [],
   "source": [
    "#The target dependent varibale for this case is SalePrice column in House_Main table. In order to do some initial analysis, \n",
    "#we find columns that are of numeric type first.\n",
    "numerics = ['int16', 'int32', 'int64', 'float16', 'float32', 'float64']\n",
    "House_Main_Num=House_Main.select_dtypes(include=numerics)"
   ]
  },
  {
   "cell_type": "code",
   "execution_count": 6,
   "id": "1ae7621d",
   "metadata": {},
   "outputs": [],
   "source": [
    "#PID is not useful as it's working as an ID index, we drop that column\n",
    "House_Main_Num=House_Main_Num.drop(['PID'],axis=1)"
   ]
  },
  {
   "cell_type": "code",
   "execution_count": 7,
   "id": "c5feb75c",
   "metadata": {},
   "outputs": [],
   "source": [
    "#Do the correlation analysis of the numeric variables\n",
    "\n",
    "#set the display of output table/dataframe to max columns\n",
    "pd.set_option('display.max_columns',None)\n",
    "\n",
    "#Find the correlation of all numeric variables\n",
    "cormax=round(House_Main_Num.corr(),2)"
   ]
  },
  {
   "cell_type": "code",
   "execution_count": 8,
   "id": "381c3a69",
   "metadata": {},
   "outputs": [
    {
     "data": {
      "text/html": [
       "<div>\n",
       "<style scoped>\n",
       "    .dataframe tbody tr th:only-of-type {\n",
       "        vertical-align: middle;\n",
       "    }\n",
       "\n",
       "    .dataframe tbody tr th {\n",
       "        vertical-align: top;\n",
       "    }\n",
       "\n",
       "    .dataframe thead th {\n",
       "        text-align: right;\n",
       "    }\n",
       "</style>\n",
       "<table border=\"1\" class=\"dataframe\">\n",
       "  <thead>\n",
       "    <tr style=\"text-align: right;\">\n",
       "      <th></th>\n",
       "      <th>GrLivArea</th>\n",
       "      <th>SalePrice</th>\n",
       "      <th>MSSubClass</th>\n",
       "      <th>LotFrontage</th>\n",
       "      <th>LotArea</th>\n",
       "      <th>OverallQual</th>\n",
       "      <th>OverallCond</th>\n",
       "      <th>YearBuilt</th>\n",
       "      <th>YearRemodAdd</th>\n",
       "      <th>MasVnrArea</th>\n",
       "      <th>BsmtFinSF1</th>\n",
       "      <th>BsmtFinSF2</th>\n",
       "      <th>BsmtUnfSF</th>\n",
       "      <th>TotalBsmtSF</th>\n",
       "      <th>1stFlrSF</th>\n",
       "      <th>2ndFlrSF</th>\n",
       "      <th>LowQualFinSF</th>\n",
       "      <th>BsmtFullBath</th>\n",
       "      <th>BsmtHalfBath</th>\n",
       "      <th>FullBath</th>\n",
       "      <th>HalfBath</th>\n",
       "      <th>BedroomAbvGr</th>\n",
       "      <th>KitchenAbvGr</th>\n",
       "      <th>TotRmsAbvGrd</th>\n",
       "      <th>Fireplaces</th>\n",
       "      <th>GarageYrBlt</th>\n",
       "      <th>GarageCars</th>\n",
       "      <th>GarageArea</th>\n",
       "      <th>WoodDeckSF</th>\n",
       "      <th>OpenPorchSF</th>\n",
       "      <th>EnclosedPorch</th>\n",
       "      <th>3SsnPorch</th>\n",
       "      <th>ScreenPorch</th>\n",
       "      <th>PoolArea</th>\n",
       "      <th>MiscVal</th>\n",
       "      <th>MoSold</th>\n",
       "      <th>YrSold</th>\n",
       "    </tr>\n",
       "  </thead>\n",
       "  <tbody>\n",
       "    <tr>\n",
       "      <th>GrLivArea</th>\n",
       "      <td>1.00</td>\n",
       "      <td>0.72</td>\n",
       "      <td>0.07</td>\n",
       "      <td>0.35</td>\n",
       "      <td>0.26</td>\n",
       "      <td>0.56</td>\n",
       "      <td>-0.11</td>\n",
       "      <td>0.23</td>\n",
       "      <td>0.31</td>\n",
       "      <td>0.39</td>\n",
       "      <td>0.16</td>\n",
       "      <td>-0.02</td>\n",
       "      <td>0.25</td>\n",
       "      <td>0.41</td>\n",
       "      <td>0.54</td>\n",
       "      <td>0.67</td>\n",
       "      <td>0.09</td>\n",
       "      <td>0.04</td>\n",
       "      <td>-0.05</td>\n",
       "      <td>0.64</td>\n",
       "      <td>0.45</td>\n",
       "      <td>0.54</td>\n",
       "      <td>0.13</td>\n",
       "      <td>0.81</td>\n",
       "      <td>0.46</td>\n",
       "      <td>0.27</td>\n",
       "      <td>0.50</td>\n",
       "      <td>0.48</td>\n",
       "      <td>0.25</td>\n",
       "      <td>0.32</td>\n",
       "      <td>0.00</td>\n",
       "      <td>0.01</td>\n",
       "      <td>0.10</td>\n",
       "      <td>0.06</td>\n",
       "      <td>-0.00</td>\n",
       "      <td>0.04</td>\n",
       "      <td>-0.01</td>\n",
       "    </tr>\n",
       "    <tr>\n",
       "      <th>SalePrice</th>\n",
       "      <td>0.72</td>\n",
       "      <td>1.00</td>\n",
       "      <td>-0.08</td>\n",
       "      <td>0.36</td>\n",
       "      <td>0.27</td>\n",
       "      <td>0.79</td>\n",
       "      <td>-0.10</td>\n",
       "      <td>0.54</td>\n",
       "      <td>0.51</td>\n",
       "      <td>0.50</td>\n",
       "      <td>0.46</td>\n",
       "      <td>0.02</td>\n",
       "      <td>0.17</td>\n",
       "      <td>0.65</td>\n",
       "      <td>0.64</td>\n",
       "      <td>0.26</td>\n",
       "      <td>-0.03</td>\n",
       "      <td>0.29</td>\n",
       "      <td>-0.03</td>\n",
       "      <td>0.53</td>\n",
       "      <td>0.29</td>\n",
       "      <td>0.15</td>\n",
       "      <td>-0.11</td>\n",
       "      <td>0.49</td>\n",
       "      <td>0.49</td>\n",
       "      <td>0.52</td>\n",
       "      <td>0.64</td>\n",
       "      <td>0.63</td>\n",
       "      <td>0.33</td>\n",
       "      <td>0.31</td>\n",
       "      <td>-0.12</td>\n",
       "      <td>0.03</td>\n",
       "      <td>0.12</td>\n",
       "      <td>0.03</td>\n",
       "      <td>-0.02</td>\n",
       "      <td>0.01</td>\n",
       "      <td>-0.00</td>\n",
       "    </tr>\n",
       "    <tr>\n",
       "      <th>MSSubClass</th>\n",
       "      <td>0.07</td>\n",
       "      <td>-0.08</td>\n",
       "      <td>1.00</td>\n",
       "      <td>-0.44</td>\n",
       "      <td>-0.20</td>\n",
       "      <td>0.06</td>\n",
       "      <td>-0.08</td>\n",
       "      <td>0.05</td>\n",
       "      <td>0.06</td>\n",
       "      <td>0.02</td>\n",
       "      <td>-0.07</td>\n",
       "      <td>-0.07</td>\n",
       "      <td>-0.11</td>\n",
       "      <td>-0.22</td>\n",
       "      <td>-0.26</td>\n",
       "      <td>0.31</td>\n",
       "      <td>0.01</td>\n",
       "      <td>-0.00</td>\n",
       "      <td>-0.01</td>\n",
       "      <td>0.14</td>\n",
       "      <td>0.18</td>\n",
       "      <td>-0.02</td>\n",
       "      <td>0.25</td>\n",
       "      <td>0.03</td>\n",
       "      <td>-0.05</td>\n",
       "      <td>0.11</td>\n",
       "      <td>-0.03</td>\n",
       "      <td>-0.09</td>\n",
       "      <td>-0.02</td>\n",
       "      <td>-0.01</td>\n",
       "      <td>-0.03</td>\n",
       "      <td>-0.04</td>\n",
       "      <td>-0.06</td>\n",
       "      <td>-0.01</td>\n",
       "      <td>-0.03</td>\n",
       "      <td>0.01</td>\n",
       "      <td>-0.03</td>\n",
       "    </tr>\n",
       "    <tr>\n",
       "      <th>LotFrontage</th>\n",
       "      <td>0.35</td>\n",
       "      <td>0.36</td>\n",
       "      <td>-0.44</td>\n",
       "      <td>1.00</td>\n",
       "      <td>0.46</td>\n",
       "      <td>0.18</td>\n",
       "      <td>-0.05</td>\n",
       "      <td>0.10</td>\n",
       "      <td>0.06</td>\n",
       "      <td>0.20</td>\n",
       "      <td>0.18</td>\n",
       "      <td>0.06</td>\n",
       "      <td>0.10</td>\n",
       "      <td>0.31</td>\n",
       "      <td>0.44</td>\n",
       "      <td>0.01</td>\n",
       "      <td>-0.01</td>\n",
       "      <td>0.11</td>\n",
       "      <td>-0.03</td>\n",
       "      <td>0.17</td>\n",
       "      <td>0.03</td>\n",
       "      <td>0.25</td>\n",
       "      <td>0.02</td>\n",
       "      <td>0.34</td>\n",
       "      <td>0.25</td>\n",
       "      <td>0.05</td>\n",
       "      <td>0.30</td>\n",
       "      <td>0.34</td>\n",
       "      <td>0.12</td>\n",
       "      <td>0.14</td>\n",
       "      <td>0.00</td>\n",
       "      <td>0.03</td>\n",
       "      <td>0.08</td>\n",
       "      <td>0.09</td>\n",
       "      <td>0.02</td>\n",
       "      <td>0.00</td>\n",
       "      <td>-0.00</td>\n",
       "    </tr>\n",
       "    <tr>\n",
       "      <th>LotArea</th>\n",
       "      <td>0.26</td>\n",
       "      <td>0.27</td>\n",
       "      <td>-0.20</td>\n",
       "      <td>0.46</td>\n",
       "      <td>1.00</td>\n",
       "      <td>0.08</td>\n",
       "      <td>-0.03</td>\n",
       "      <td>0.01</td>\n",
       "      <td>0.01</td>\n",
       "      <td>0.10</td>\n",
       "      <td>0.16</td>\n",
       "      <td>0.08</td>\n",
       "      <td>0.02</td>\n",
       "      <td>0.22</td>\n",
       "      <td>0.31</td>\n",
       "      <td>0.02</td>\n",
       "      <td>-0.00</td>\n",
       "      <td>0.12</td>\n",
       "      <td>0.03</td>\n",
       "      <td>0.12</td>\n",
       "      <td>0.03</td>\n",
       "      <td>0.14</td>\n",
       "      <td>-0.01</td>\n",
       "      <td>0.20</td>\n",
       "      <td>0.25</td>\n",
       "      <td>-0.02</td>\n",
       "      <td>0.18</td>\n",
       "      <td>0.20</td>\n",
       "      <td>0.16</td>\n",
       "      <td>0.08</td>\n",
       "      <td>0.02</td>\n",
       "      <td>0.02</td>\n",
       "      <td>0.05</td>\n",
       "      <td>0.05</td>\n",
       "      <td>0.04</td>\n",
       "      <td>0.01</td>\n",
       "      <td>-0.02</td>\n",
       "    </tr>\n",
       "  </tbody>\n",
       "</table>\n",
       "</div>"
      ],
      "text/plain": [
       "             GrLivArea  SalePrice  MSSubClass  LotFrontage  LotArea  \\\n",
       "GrLivArea         1.00       0.72        0.07         0.35     0.26   \n",
       "SalePrice         0.72       1.00       -0.08         0.36     0.27   \n",
       "MSSubClass        0.07      -0.08        1.00        -0.44    -0.20   \n",
       "LotFrontage       0.35       0.36       -0.44         1.00     0.46   \n",
       "LotArea           0.26       0.27       -0.20         0.46     1.00   \n",
       "\n",
       "             OverallQual  OverallCond  YearBuilt  YearRemodAdd  MasVnrArea  \\\n",
       "GrLivArea           0.56        -0.11       0.23          0.31        0.39   \n",
       "SalePrice           0.79        -0.10       0.54          0.51        0.50   \n",
       "MSSubClass          0.06        -0.08       0.05          0.06        0.02   \n",
       "LotFrontage         0.18        -0.05       0.10          0.06        0.20   \n",
       "LotArea             0.08        -0.03       0.01          0.01        0.10   \n",
       "\n",
       "             BsmtFinSF1  BsmtFinSF2  BsmtUnfSF  TotalBsmtSF  1stFlrSF  \\\n",
       "GrLivArea          0.16       -0.02       0.25         0.41      0.54   \n",
       "SalePrice          0.46        0.02       0.17         0.65      0.64   \n",
       "MSSubClass        -0.07       -0.07      -0.11        -0.22     -0.26   \n",
       "LotFrontage        0.18        0.06       0.10         0.31      0.44   \n",
       "LotArea            0.16        0.08       0.02         0.22      0.31   \n",
       "\n",
       "             2ndFlrSF  LowQualFinSF  BsmtFullBath  BsmtHalfBath  FullBath  \\\n",
       "GrLivArea        0.67          0.09          0.04         -0.05      0.64   \n",
       "SalePrice        0.26         -0.03          0.29         -0.03      0.53   \n",
       "MSSubClass       0.31          0.01         -0.00         -0.01      0.14   \n",
       "LotFrontage      0.01         -0.01          0.11         -0.03      0.17   \n",
       "LotArea          0.02         -0.00          0.12          0.03      0.12   \n",
       "\n",
       "             HalfBath  BedroomAbvGr  KitchenAbvGr  TotRmsAbvGrd  Fireplaces  \\\n",
       "GrLivArea        0.45          0.54          0.13          0.81        0.46   \n",
       "SalePrice        0.29          0.15         -0.11          0.49        0.49   \n",
       "MSSubClass       0.18         -0.02          0.25          0.03       -0.05   \n",
       "LotFrontage      0.03          0.25          0.02          0.34        0.25   \n",
       "LotArea          0.03          0.14         -0.01          0.20        0.25   \n",
       "\n",
       "             GarageYrBlt  GarageCars  GarageArea  WoodDeckSF  OpenPorchSF  \\\n",
       "GrLivArea           0.27        0.50        0.48        0.25         0.32   \n",
       "SalePrice           0.52        0.64        0.63        0.33         0.31   \n",
       "MSSubClass          0.11       -0.03       -0.09       -0.02        -0.01   \n",
       "LotFrontage         0.05        0.30        0.34        0.12         0.14   \n",
       "LotArea            -0.02        0.18        0.20        0.16         0.08   \n",
       "\n",
       "             EnclosedPorch  3SsnPorch  ScreenPorch  PoolArea  MiscVal  MoSold  \\\n",
       "GrLivArea             0.00       0.01         0.10      0.06    -0.00    0.04   \n",
       "SalePrice            -0.12       0.03         0.12      0.03    -0.02    0.01   \n",
       "MSSubClass           -0.03      -0.04        -0.06     -0.01    -0.03    0.01   \n",
       "LotFrontage           0.00       0.03         0.08      0.09     0.02    0.00   \n",
       "LotArea               0.02       0.02         0.05      0.05     0.04    0.01   \n",
       "\n",
       "             YrSold  \n",
       "GrLivArea     -0.01  \n",
       "SalePrice     -0.00  \n",
       "MSSubClass    -0.03  \n",
       "LotFrontage   -0.00  \n",
       "LotArea       -0.02  "
      ]
     },
     "execution_count": 8,
     "metadata": {},
     "output_type": "execute_result"
    }
   ],
   "source": [
    "cormax.head()"
   ]
  },
  {
   "cell_type": "code",
   "execution_count": 9,
   "id": "1581e9ef",
   "metadata": {},
   "outputs": [
    {
     "data": {
      "text/plain": [
       "GrLivArea        0.72\n",
       "SalePrice        1.00\n",
       "MSSubClass      -0.08\n",
       "LotFrontage      0.36\n",
       "LotArea          0.27\n",
       "OverallQual      0.79\n",
       "OverallCond     -0.10\n",
       "YearBuilt        0.54\n",
       "YearRemodAdd     0.51\n",
       "MasVnrArea       0.50\n",
       "BsmtFinSF1       0.46\n",
       "BsmtFinSF2       0.02\n",
       "BsmtUnfSF        0.17\n",
       "TotalBsmtSF      0.65\n",
       "1stFlrSF         0.64\n",
       "2ndFlrSF         0.26\n",
       "LowQualFinSF    -0.03\n",
       "BsmtFullBath     0.29\n",
       "BsmtHalfBath    -0.03\n",
       "FullBath         0.53\n",
       "HalfBath         0.29\n",
       "BedroomAbvGr     0.15\n",
       "KitchenAbvGr    -0.11\n",
       "TotRmsAbvGrd     0.49\n",
       "Fireplaces       0.49\n",
       "GarageYrBlt      0.52\n",
       "GarageCars       0.64\n",
       "GarageArea       0.63\n",
       "WoodDeckSF       0.33\n",
       "OpenPorchSF      0.31\n",
       "EnclosedPorch   -0.12\n",
       "3SsnPorch        0.03\n",
       "ScreenPorch      0.12\n",
       "PoolArea         0.03\n",
       "MiscVal         -0.02\n",
       "MoSold           0.01\n",
       "YrSold          -0.00\n",
       "Name: SalePrice, dtype: float64"
      ]
     },
     "execution_count": 9,
     "metadata": {},
     "output_type": "execute_result"
    }
   ],
   "source": [
    "#From the above table we find the correlation of SalePrice and other independent numeric varibales\n",
    "cormax=cormax['SalePrice']\n",
    "cormax"
   ]
  },
  {
   "cell_type": "code",
   "execution_count": 430,
   "id": "cef25b3e",
   "metadata": {},
   "outputs": [],
   "source": [
    "#Copy the cormax table and take out SalePrice, our target column\n",
    "cormax_plot=cormax.copy()\n",
    "cormax_plot=cormax_plot[cormax_plot.index!='SalePrice']"
   ]
  },
  {
   "cell_type": "code",
   "execution_count": 431,
   "id": "ca52cd71",
   "metadata": {},
   "outputs": [],
   "source": [
    "#Make a Data Frame from the updated cormax_plot table\n",
    "\n",
    "cormax_plot=pd.DataFrame(np.concatenate((np.array(cormax_plot.index.tolist()).reshape(-1,1),\n",
    "                                         np.array(cormax_plot.tolist()).reshape(-1,1)),axis=1))"
   ]
  },
  {
   "cell_type": "code",
   "execution_count": 432,
   "id": "a67aa40c",
   "metadata": {},
   "outputs": [],
   "source": [
    "#Change column names of the cormax_plot table\n",
    "cormax_plot.columns=['Feature','Correlation between numerical features and Sales Price']"
   ]
  },
  {
   "cell_type": "code",
   "execution_count": 433,
   "id": "e5eb5033",
   "metadata": {},
   "outputs": [],
   "source": [
    "cormax_plot['Correlation between numerical features and Sales Price']=pd.to_numeric(cormax_plot[\n",
    "    'Correlation between numerical features and Sales Price'])"
   ]
  },
  {
   "cell_type": "code",
   "execution_count": 434,
   "id": "8a0a817f",
   "metadata": {},
   "outputs": [
    {
     "data": {
      "text/plain": [
       "13         1stFlrSF\n",
       "14         2ndFlrSF\n",
       "30        3SsnPorch\n",
       "20     BedroomAbvGr\n",
       "9        BsmtFinSF1\n",
       "10       BsmtFinSF2\n",
       "16     BsmtFullBath\n",
       "17     BsmtHalfBath\n",
       "11        BsmtUnfSF\n",
       "29    EnclosedPorch\n",
       "23       Fireplaces\n",
       "18         FullBath\n",
       "26       GarageArea\n",
       "25       GarageCars\n",
       "24      GarageYrBlt\n",
       "0         GrLivArea\n",
       "19         HalfBath\n",
       "21     KitchenAbvGr\n",
       "3           LotArea\n",
       "2       LotFrontage\n",
       "15     LowQualFinSF\n",
       "1        MSSubClass\n",
       "8        MasVnrArea\n",
       "33          MiscVal\n",
       "34           MoSold\n",
       "28      OpenPorchSF\n",
       "5       OverallCond\n",
       "4       OverallQual\n",
       "32         PoolArea\n",
       "31      ScreenPorch\n",
       "22     TotRmsAbvGrd\n",
       "12      TotalBsmtSF\n",
       "27       WoodDeckSF\n",
       "6         YearBuilt\n",
       "7      YearRemodAdd\n",
       "35           YrSold\n",
       "Name: Feature, dtype: object"
      ]
     },
     "execution_count": 434,
     "metadata": {},
     "output_type": "execute_result"
    }
   ],
   "source": [
    "cormax_plot.Feature.sort_values()"
   ]
  },
  {
   "cell_type": "code",
   "execution_count": 435,
   "id": "ac572d48",
   "metadata": {},
   "outputs": [
    {
     "data": {
      "text/plain": [
       "[<matplotlib.axis.XTick at 0x23c16be7970>,\n",
       " <matplotlib.axis.XTick at 0x23c16be7940>,\n",
       " <matplotlib.axis.XTick at 0x23c16c02520>,\n",
       " <matplotlib.axis.XTick at 0x23c16c02d60>,\n",
       " <matplotlib.axis.XTick at 0x23c16c15220>,\n",
       " <matplotlib.axis.XTick at 0x23c16c15790>,\n",
       " <matplotlib.axis.XTick at 0x23c157e3130>,\n",
       " <matplotlib.axis.XTick at 0x23c16bea220>,\n",
       " <matplotlib.axis.XTick at 0x23c16bea730>,\n",
       " <matplotlib.axis.XTick at 0x23c16beac40>,\n",
       " <matplotlib.axis.XTick at 0x23c14557190>,\n",
       " <matplotlib.axis.XTick at 0x23c145576a0>]"
      ]
     },
     "execution_count": 435,
     "metadata": {},
     "output_type": "execute_result"
    },
    {
     "data": {
      "image/png": "[encoded data removed]",
      "text/plain": [
       "<Figure size 1800x1440 with 1 Axes>"
      ]
     },
     "metadata": {},
     "output_type": "display_data"
    }
   ],
   "source": [
    "fig = plt.figure(figsize=(25, 20))\n",
    "ax = sns.barplot(x=cormax_plot['Correlation between numerical features and Sales Price'], y=cormax_plot.Feature, data=cormax_plot,\n",
    "                 order=cormax_plot.sort_values('Correlation between numerical features and Sales Price').Feature)\n",
    "sns.set(font_scale=2)\n",
    "ax.xaxis.set_ticks(np.arange(-0.2,1,0.1))"
   ]
  },
  {
   "cell_type": "markdown",
   "id": "6a2fc5d0",
   "metadata": {},
   "source": [
    "## Some Plots to show the relationships between variables and target"
   ]
  },
  {
   "cell_type": "code",
   "execution_count": 292,
   "id": "96caab90",
   "metadata": {},
   "outputs": [
    {
     "data": {
      "text/plain": [
       "array([[<AxesSubplot:title={'center':'GrLivArea'}>,\n",
       "        <AxesSubplot:title={'center':'SalePrice'}>,\n",
       "        <AxesSubplot:title={'center':'MSSubClass'}>,\n",
       "        <AxesSubplot:title={'center':'LotFrontage'}>,\n",
       "        <AxesSubplot:title={'center':'LotArea'}>,\n",
       "        <AxesSubplot:title={'center':'OverallQual'}>],\n",
       "       [<AxesSubplot:title={'center':'OverallCond'}>,\n",
       "        <AxesSubplot:title={'center':'YearBuilt'}>,\n",
       "        <AxesSubplot:title={'center':'YearRemodAdd'}>,\n",
       "        <AxesSubplot:title={'center':'MasVnrArea'}>,\n",
       "        <AxesSubplot:title={'center':'BsmtFinSF1'}>,\n",
       "        <AxesSubplot:title={'center':'BsmtFinSF2'}>],\n",
       "       [<AxesSubplot:title={'center':'TotalBsmtSF'}>,\n",
       "        <AxesSubplot:title={'center':'1stFlrSF'}>,\n",
       "        <AxesSubplot:title={'center':'2ndFlrSF'}>,\n",
       "        <AxesSubplot:title={'center':'LowQualFinSF'}>,\n",
       "        <AxesSubplot:title={'center':'BsmtFullBath'}>,\n",
       "        <AxesSubplot:title={'center':'BsmtHalfBath'}>],\n",
       "       [<AxesSubplot:title={'center':'FullBath'}>,\n",
       "        <AxesSubplot:title={'center':'HalfBath'}>,\n",
       "        <AxesSubplot:title={'center':'BedroomAbvGr'}>,\n",
       "        <AxesSubplot:title={'center':'KitchenAbvGr'}>,\n",
       "        <AxesSubplot:title={'center':'TotRmsAbvGrd'}>,\n",
       "        <AxesSubplot:title={'center':'Fireplaces'}>],\n",
       "       [<AxesSubplot:title={'center':'GarageYrBlt'}>,\n",
       "        <AxesSubplot:title={'center':'GarageCars'}>,\n",
       "        <AxesSubplot:title={'center':'GarageArea'}>,\n",
       "        <AxesSubplot:title={'center':'WoodDeckSF'}>,\n",
       "        <AxesSubplot:title={'center':'OpenPorchSF'}>,\n",
       "        <AxesSubplot:title={'center':'EnclosedPorch'}>],\n",
       "       [<AxesSubplot:title={'center':'3SsnPorch'}>,\n",
       "        <AxesSubplot:title={'center':'ScreenPorch'}>,\n",
       "        <AxesSubplot:title={'center':'PoolArea'}>,\n",
       "        <AxesSubplot:title={'center':'MiscVal'}>,\n",
       "        <AxesSubplot:title={'center':'MoSold'}>,\n",
       "        <AxesSubplot:title={'center':'YrSold'}>]], dtype=object)"
      ]
     },
     "execution_count": 292,
     "metadata": {},
     "output_type": "execute_result"
    },
    {
     "data": {
      "image/png": "[encoded data removed]",
      "text/plain": [
       "<Figure size 1440x1080 with 36 Axes>"
      ]
     },
     "metadata": {
      "needs_background": "light"
     },
     "output_type": "display_data"
    }
   ],
   "source": [
    "#Distributions of numerical variables including target\n",
    "House_Main_Num.hist(bins=50,figsize=(20,15))"
   ]
  },
  {
   "cell_type": "code",
   "execution_count": 218,
   "id": "e3933590",
   "metadata": {},
   "outputs": [
    {
     "data": {
      "image/png": "[encoded data removed]",
      "text/plain": [
       "<Figure size 432x288 with 1 Axes>"
      ]
     },
     "metadata": {
      "needs_background": "light"
     },
     "output_type": "display_data"
    }
   ],
   "source": [
    "#House_Main_Nonnum_Init.loc[:,~House_Main_Nonnum_Init.columns.isin(Binary)]\n",
    "for i in House_Main_Num.loc[:,~House_Main_Num.columns.isin(['SalePrice'])].columns:\n",
    "    sns.scatterplot(x= i, y= 'SalePrice', data=House_Main_Num)"
   ]
  },
  {
   "cell_type": "code",
   "execution_count": 344,
   "id": "a70751f8",
   "metadata": {},
   "outputs": [],
   "source": [
    "Sale_Type_Price=House_Main.copy()"
   ]
  },
  {
   "cell_type": "code",
   "execution_count": 345,
   "id": "930a1bee",
   "metadata": {},
   "outputs": [
    {
     "data": {
      "text/plain": [
       "WD       2392\n",
       "New        79\n",
       "COD        50\n",
       "ConLD      23\n",
       "CWD        11\n",
       "ConLw       8\n",
       "ConLI       7\n",
       "Con         5\n",
       "Oth         4\n",
       "VWD         1\n",
       "Name: SaleType, dtype: int64"
      ]
     },
     "execution_count": 345,
     "metadata": {},
     "output_type": "execute_result"
    }
   ],
   "source": [
    "#We look at SaleType, Since we will exclude this variable from our model feature selection because Sale Type data\n",
    "#are gathered at Sale thus not really useful for prediction purpose.\n",
    "Sale_Type_Price.SaleType.value_counts()"
   ]
  },
  {
   "cell_type": "code",
   "execution_count": 346,
   "id": "943dab76",
   "metadata": {},
   "outputs": [],
   "source": [
    "Sale_Type_Price.SaleType=Sale_Type_Price.SaleType.apply(lambda x: \n",
    "                                         'Warranty Deed - Conventional' if x=='WD'\n",
    "                                         else 'Warranty Deed - Cash' if x=='CWD' \n",
    "                                         else 'Warranty Deed - VA Loan' if x=='VWD' \n",
    "                                         else 'Home just constructed and sold' if x=='New' \n",
    "                                         else 'Court Officer Deed/Estate' if x=='COD'\n",
    "                                         else 'Contract 15% Down payment regular terms' if x=='Con'\n",
    "                                         else 'Contract Low Down payment and low interest' if x=='ConLw'\n",
    "                                         else 'Contract Low Interest' if x=='ConLI'\n",
    "                                         else 'Contract Low Down' if x=='ConLD'\n",
    "                                         else 'Other')      "
   ]
  },
  {
   "cell_type": "code",
   "execution_count": 347,
   "id": "999beedd",
   "metadata": {},
   "outputs": [
    {
     "data": {
      "image/png": "[encoded data removed]",
      "text/plain": [
       "<Figure size 2160x720 with 1 Axes>"
      ]
     },
     "metadata": {
      "needs_background": "light"
     },
     "output_type": "display_data"
    }
   ],
   "source": [
    "fig = plt.figure(figsize=(30, 10))\n",
    "ax1 = plt.subplot(gs[0, 0])\n",
    "g = sns.boxplot(y=Sale_Type_Price.SalePrice, x=Sale_Type_Price.SaleType, data=Sale_Type_Price, ax=ax1)\n",
    "ylim = ax1.get_ylim()\n",
    "plt.grid(axis='y')\n",
    "g.set_xticklabels(g.get_xticklabels(),rotation = 25)\n",
    "g.set(xlabel='Sale Type', ylabel='Sales Price in US Dollars')\n",
    "plt.show()"
   ]
  },
  {
   "cell_type": "code",
   "execution_count": 348,
   "id": "3c2cc5b9",
   "metadata": {},
   "outputs": [],
   "source": [
    "Sale_Type_Price.Foundation=Sale_Type_Price.Foundation.apply(lambda x: \n",
    "                                         'Brick & Tile' if x=='BrkTil'\n",
    "                                         else 'Cinder Block' if x=='CBlock' \n",
    "                                         else 'Poured Concrete' if x=='PConc' \n",
    "                                         else 'Slab' if x=='Slab' \n",
    "                                         else 'Stone' if x=='Stone'\n",
    "                                         else 'Wood')      "
   ]
  },
  {
   "cell_type": "code",
   "execution_count": 349,
   "id": "3d011a7f",
   "metadata": {},
   "outputs": [
    {
     "data": {
      "image/png": "[encoded data removed]",
      "text/plain": [
       "<Figure size 1800x720 with 1 Axes>"
      ]
     },
     "metadata": {
      "needs_background": "light"
     },
     "output_type": "display_data"
    }
   ],
   "source": [
    "fig = plt.figure(figsize=(25, 10))\n",
    "ax1 = plt.subplot(gs[0, 0])\n",
    "g = sns.boxplot(y=Sale_Type_Price.SalePrice, x=Sale_Type_Price.Foundation, data=Sale_Type_Price, ax=ax1)\n",
    "ylim = ax1.get_ylim()\n",
    "plt.grid(axis='y')\n",
    "g.set(xlabel='House Foundation', ylabel='Sales Price in US Dollars')\n",
    "#plt.legend(labels=['Cinder Block','Brick & Tile','Poured Contrete','Slab','Stone','Wood'])\n",
    "plt.show()"
   ]
  },
  {
   "cell_type": "code",
   "execution_count": 10,
   "id": "8b0cc59d",
   "metadata": {},
   "outputs": [
    {
     "data": {
      "text/plain": [
       "SalePrice        1.00\n",
       "OverallQual      0.79\n",
       "GrLivArea        0.72\n",
       "TotalBsmtSF      0.65\n",
       "1stFlrSF         0.64\n",
       "GarageCars       0.64\n",
       "GarageArea       0.63\n",
       "YearBuilt        0.54\n",
       "FullBath         0.53\n",
       "GarageYrBlt      0.52\n",
       "YearRemodAdd     0.51\n",
       "MasVnrArea       0.50\n",
       "Fireplaces       0.49\n",
       "TotRmsAbvGrd     0.49\n",
       "BsmtFinSF1       0.46\n",
       "LotFrontage      0.36\n",
       "WoodDeckSF       0.33\n",
       "OpenPorchSF      0.31\n",
       "BsmtFullBath     0.29\n",
       "HalfBath         0.29\n",
       "LotArea          0.27\n",
       "2ndFlrSF         0.26\n",
       "BsmtUnfSF        0.17\n",
       "BedroomAbvGr     0.15\n",
       "ScreenPorch      0.12\n",
       "EnclosedPorch    0.12\n",
       "KitchenAbvGr     0.11\n",
       "OverallCond      0.10\n",
       "MSSubClass       0.08\n",
       "3SsnPorch        0.03\n",
       "PoolArea         0.03\n",
       "BsmtHalfBath     0.03\n",
       "LowQualFinSF     0.03\n",
       "BsmtFinSF2       0.02\n",
       "MiscVal          0.02\n",
       "MoSold           0.01\n",
       "YrSold           0.00\n",
       "Name: SalePrice, dtype: float64"
      ]
     },
     "execution_count": 10,
     "metadata": {},
     "output_type": "execute_result"
    }
   ],
   "source": [
    "#We sort the correlation from highest to lowest\n",
    "np.abs(cormax).sort_values(ascending=False)"
   ]
  },
  {
   "cell_type": "code",
   "execution_count": null,
   "id": "55f8d9f5",
   "metadata": {},
   "outputs": [],
   "source": []
  },
  {
   "cell_type": "markdown",
   "id": "d6b9eb54",
   "metadata": {},
   "source": [
    "# Find columns whose dtypes are non-numeric and label-encode or dummify variables in those columns"
   ]
  },
  {
   "cell_type": "code",
   "execution_count": 11,
   "id": "edb4c66d",
   "metadata": {},
   "outputs": [
    {
     "data": {
      "text/plain": [
       "MSZoning         object\n",
       "Street           object\n",
       "Alley            object\n",
       "LotShape         object\n",
       "LandContour      object\n",
       "Utilities        object\n",
       "LotConfig        object\n",
       "LandSlope        object\n",
       "Neighborhood     object\n",
       "Condition1       object\n",
       "Condition2       object\n",
       "BldgType         object\n",
       "HouseStyle       object\n",
       "RoofStyle        object\n",
       "RoofMatl         object\n",
       "Exterior1st      object\n",
       "Exterior2nd      object\n",
       "MasVnrType       object\n",
       "ExterQual        object\n",
       "ExterCond        object\n",
       "Foundation       object\n",
       "BsmtQual         object\n",
       "BsmtCond         object\n",
       "BsmtExposure     object\n",
       "BsmtFinType1     object\n",
       "BsmtFinType2     object\n",
       "Heating          object\n",
       "HeatingQC        object\n",
       "CentralAir       object\n",
       "Electrical       object\n",
       "KitchenQual      object\n",
       "Functional       object\n",
       "FireplaceQu      object\n",
       "GarageType       object\n",
       "GarageFinish     object\n",
       "GarageQual       object\n",
       "GarageCond       object\n",
       "PavedDrive       object\n",
       "PoolQC           object\n",
       "Fence            object\n",
       "MiscFeature      object\n",
       "SaleType         object\n",
       "SaleCondition    object\n",
       "dtype: object"
      ]
     },
     "execution_count": 11,
     "metadata": {},
     "output_type": "execute_result"
    }
   ],
   "source": [
    "#Get all the columns whose dtypes are not numeric, i.e. object\n",
    "House_Main_Nonnum=House_Main.select_dtypes(exclude=numerics)\n",
    "House_Main_Nonnum.dtypes"
   ]
  },
  {
   "cell_type": "code",
   "execution_count": 12,
   "id": "d082bf3d",
   "metadata": {},
   "outputs": [
    {
     "data": {
      "text/plain": [
       "43"
      ]
     },
     "execution_count": 12,
     "metadata": {},
     "output_type": "execute_result"
    }
   ],
   "source": [
    "House_Main_Nonnum.shape[1] #We know there are 43 variables whose dtypes are 'object'"
   ]
  },
  {
   "cell_type": "code",
   "execution_count": 13,
   "id": "8e548a46",
   "metadata": {},
   "outputs": [
    {
     "data": {
      "text/plain": [
       "MSZoning            0\n",
       "Street              0\n",
       "Alley            2412\n",
       "LotShape            0\n",
       "LandContour         0\n",
       "Utilities           0\n",
       "LotConfig           0\n",
       "LandSlope           0\n",
       "Neighborhood        0\n",
       "Condition1          0\n",
       "Condition2          0\n",
       "BldgType            0\n",
       "HouseStyle          0\n",
       "RoofStyle           0\n",
       "RoofMatl            0\n",
       "Exterior1st         0\n",
       "Exterior2nd         0\n",
       "MasVnrType         14\n",
       "ExterQual           0\n",
       "ExterCond           0\n",
       "Foundation          0\n",
       "BsmtQual           69\n",
       "BsmtCond           69\n",
       "BsmtExposure       71\n",
       "BsmtFinType1       69\n",
       "BsmtFinType2       70\n",
       "Heating             0\n",
       "HeatingQC           0\n",
       "CentralAir          0\n",
       "Electrical          1\n",
       "KitchenQual         0\n",
       "Functional          0\n",
       "FireplaceQu      1241\n",
       "GarageType        127\n",
       "GarageFinish      129\n",
       "GarageQual        129\n",
       "GarageCond        129\n",
       "PavedDrive          0\n",
       "PoolQC           2571\n",
       "Fence            2055\n",
       "MiscFeature      2483\n",
       "SaleType            0\n",
       "SaleCondition       0\n",
       "dtype: int64"
      ]
     },
     "execution_count": 13,
     "metadata": {},
     "output_type": "execute_result"
    }
   ],
   "source": [
    "House_Main_Nonnum.isnull().sum(axis=0) #From the list below, we know some object variables have null-type values."
   ]
  },
  {
   "cell_type": "code",
   "execution_count": 14,
   "id": "e829e92c",
   "metadata": {},
   "outputs": [
    {
     "data": {
      "text/plain": [
       "MSZoning         0\n",
       "Street           0\n",
       "LotShape         0\n",
       "LandContour      0\n",
       "Utilities        0\n",
       "LotConfig        0\n",
       "LandSlope        0\n",
       "Neighborhood     0\n",
       "Condition1       0\n",
       "Condition2       0\n",
       "BldgType         0\n",
       "HouseStyle       0\n",
       "RoofStyle        0\n",
       "RoofMatl         0\n",
       "Exterior1st      0\n",
       "Exterior2nd      0\n",
       "ExterQual        0\n",
       "ExterCond        0\n",
       "Foundation       0\n",
       "Heating          0\n",
       "HeatingQC        0\n",
       "CentralAir       0\n",
       "KitchenQual      0\n",
       "Functional       0\n",
       "PavedDrive       0\n",
       "SaleType         0\n",
       "SaleCondition    0\n",
       "dtype: int64"
      ]
     },
     "execution_count": 14,
     "metadata": {},
     "output_type": "execute_result"
    }
   ],
   "source": [
    "#Subset the House_Main_Nonnum columns that do not have nan values\n",
    "House_Main_Nonnum_Init=House_Main_Nonnum[House_Main_Nonnum.columns[~House_Main_Nonnum.isnull().any()]]\n",
    "\n",
    "House_Main_Nonnum_Init.isnull().sum(axis=0)"
   ]
  },
  {
   "cell_type": "code",
   "execution_count": 15,
   "id": "5d5d33ca",
   "metadata": {},
   "outputs": [
    {
     "data": {
      "text/plain": [
       "<bound method DataFrame.value_counts of     MSZoning Street LotShape LandContour Utilities LotConfig LandSlope  \\\n",
       "1         RL   Pave      Reg         Lvl    AllPub    Corner       Gtl   \n",
       "2         RL   Pave      Reg         Lvl    AllPub    Inside       Gtl   \n",
       "3    C (all)   Pave      Reg         Lvl    AllPub    Inside       Gtl   \n",
       "4         RL   Pave      Reg         Lvl    AllPub    Corner       Gtl   \n",
       "5         RL   Pave      Reg         Lvl    AllPub    Inside       Gtl   \n",
       "..       ...    ...      ...         ...       ...       ...       ...   \n",
       "759       RL   Pave      Reg         Lvl    AllPub    Inside       Gtl   \n",
       "760       RL   Pave      IR1         Lvl    AllPub   CulDSac       Gtl   \n",
       "761       RH   Pave      Reg         HLS    AllPub    Inside       Gtl   \n",
       "762       RL   Pave      Reg         Lvl    AllPub    Inside       Gtl   \n",
       "763       RL   Pave      IR1         Lvl    AllPub    Inside       Gtl   \n",
       "\n",
       "    Neighborhood Condition1 Condition2 BldgType HouseStyle RoofStyle RoofMatl  \\\n",
       "1          SWISU       Norm       Norm     1Fam     1Story     Gable  CompShg   \n",
       "2        Edwards       Norm       Norm   TwnhsE     1Story     Gable  CompShg   \n",
       "3         IDOTRR       Norm       Norm     1Fam     1Story       Hip  CompShg   \n",
       "4        OldTown       Norm       Norm     1Fam     2Story     Gable  CompShg   \n",
       "5         NWAmes       Norm       Norm     1Fam     2Story     Gable  CompShg   \n",
       "..           ...        ...        ...      ...        ...       ...      ...   \n",
       "759      BrkSide       Norm       Norm     1Fam     1.5Unf     Gable  CompShg   \n",
       "760      Edwards       Norm       Norm     1Fam     1Story       Hip  CompShg   \n",
       "761      Crawfor       Norm       Norm   Duplex     2Story     Gable  CompShg   \n",
       "762      CollgCr       Norm       Norm     1Fam     2Story     Gable  CompShg   \n",
       "763      SawyerW       Norm       Norm     1Fam     2Story     Gable  CompShg   \n",
       "\n",
       "    Exterior1st Exterior2nd ExterQual ExterCond Foundation Heating HeatingQC  \\\n",
       "1       Wd Sdng     Wd Sdng        TA        TA     CBlock    GasA        TA   \n",
       "2       HdBoard     HdBoard        Gd        TA     CBlock    GasA        TA   \n",
       "3       MetalSd     MetalSd        Gd        TA     BrkTil    GasA        Ex   \n",
       "4       MetalSd     MetalSd        Gd        Gd     BrkTil    GasA        Gd   \n",
       "5       VinylSd     VinylSd        Gd        TA      PConc    GasA        Ex   \n",
       "..          ...         ...       ...       ...        ...     ...       ...   \n",
       "759     Wd Sdng     Wd Sdng        TA        TA     BrkTil    Grav        Fa   \n",
       "760     BrkFace     Wd Sdng        TA        TA       Slab    GasA        Ex   \n",
       "761     MetalSd     MetalSd        TA        TA     CBlock    GasA        TA   \n",
       "762     VinylSd     VinylSd        Gd        TA      PConc    GasA        Ex   \n",
       "763     VinylSd     VinylSd        Gd        TA      PConc    GasA        Ex   \n",
       "\n",
       "    CentralAir KitchenQual Functional PavedDrive SaleType SaleCondition  \n",
       "1            Y          TA        Typ          Y      WD         Normal  \n",
       "2            Y          Gd        Typ          Y      WD         Normal  \n",
       "3            Y          Gd        Typ          N      WD         Normal  \n",
       "4            Y          TA        Typ          N      WD         Normal  \n",
       "5            Y          Gd        Typ          Y      WD         Normal  \n",
       "..         ...         ...        ...        ...      ...           ...  \n",
       "759          N          Fa        Typ          P      WD         Normal  \n",
       "760          Y          TA       Min2          Y      WD         Normal  \n",
       "761          N          TA        Typ          Y      WD         Normal  \n",
       "762          Y          Gd        Typ          Y      WD         Normal  \n",
       "763          Y          Gd        Typ          Y      WD         Normal  \n",
       "\n",
       "[2580 rows x 27 columns]>"
      ]
     },
     "execution_count": 15,
     "metadata": {},
     "output_type": "execute_result"
    }
   ],
   "source": [
    "#We do a value counts here to make sure words are not used to represent numbers (like 'One', 'Two', ...) If there are we \n",
    "#could just replace with integers. (The result shows none)\n",
    "House_Main_Nonnum_Init.value_counts"
   ]
  },
  {
   "cell_type": "code",
   "execution_count": 16,
   "id": "63312d4b",
   "metadata": {},
   "outputs": [
    {
     "name": "stdout",
     "output_type": "stream",
     "text": [
      "MSZoning 0\n",
      "Street 0\n",
      "LotShape 0\n",
      "LandContour 0\n",
      "Utilities 0\n",
      "LotConfig 0\n",
      "LandSlope 0\n",
      "Neighborhood 0\n",
      "Condition1 0\n",
      "Condition2 0\n",
      "BldgType 0\n",
      "HouseStyle 0\n",
      "RoofStyle 0\n",
      "RoofMatl 0\n",
      "Exterior1st 0\n",
      "Exterior2nd 0\n",
      "ExterQual 0\n",
      "ExterCond 0\n",
      "Foundation 0\n",
      "Heating 0\n",
      "HeatingQC 0\n",
      "CentralAir 0\n",
      "KitchenQual 0\n",
      "Functional 0\n",
      "PavedDrive 0\n",
      "SaleType 0\n",
      "SaleCondition 0\n"
     ]
    }
   ],
   "source": [
    "#Making sure there's no empty cells in the columns of House_Main_Nonnum_Init\n",
    "for col in House_Main_Nonnum_Init:\n",
    "    print(col,(House_Main_Nonnum_Init[col].values=='').sum())"
   ]
  },
  {
   "cell_type": "code",
   "execution_count": 17,
   "id": "8efbfc21",
   "metadata": {},
   "outputs": [
    {
     "name": "stdout",
     "output_type": "stream",
     "text": [
      "MSZoning ['RL' 'C (all)' 'RM' 'FV' 'RH' 'I (all)' 'A (agr)']\n",
      "Street ['Pave' 'Grvl']\n",
      "LotShape ['Reg' 'IR1' 'IR3' 'IR2']\n",
      "LandContour ['Lvl' 'Bnk' 'HLS' 'Low']\n",
      "Utilities ['AllPub' 'NoSewr']\n",
      "LotConfig ['Corner' 'Inside' 'FR2' 'CulDSac' 'FR3']\n",
      "LandSlope ['Gtl' 'Mod' 'Sev']\n",
      "Neighborhood ['SWISU' 'Edwards' 'IDOTRR' 'OldTown' 'NWAmes' 'Blmngtn' 'Mitchel'\n",
      " 'NridgHt' 'NAmes' 'CollgCr' 'SawyerW' 'MeadowV' 'BrDale' 'Gilbert'\n",
      " 'Timber' 'Somerst' 'BrkSide' 'NoRidge' 'Sawyer' 'Crawfor' 'Greens'\n",
      " 'ClearCr' 'GrnHill' 'StoneBr' 'Veenker' 'NPkVill' 'Blueste' 'Landmrk']\n",
      "Condition1 ['Norm' 'RRAn' 'PosN' 'Artery' 'RRAe' 'Feedr' 'PosA' 'RRNn' 'RRNe']\n",
      "Condition2 ['Norm' 'PosN' 'Feedr' 'Artery' 'PosA' 'RRNn' 'RRAn' 'RRAe']\n",
      "BldgType ['1Fam' 'TwnhsE' '2fmCon' 'Twnhs' 'Duplex']\n",
      "HouseStyle ['1Story' '2Story' 'SFoyer' 'SLvl' '1.5Fin' '2.5Unf' '1.5Unf' '2.5Fin']\n",
      "RoofStyle ['Gable' 'Hip' 'Mansard' 'Gambrel' 'Flat' 'Shed']\n",
      "RoofMatl ['CompShg' 'Tar&Grv' 'WdShake' 'WdShngl' 'Metal' 'Roll' 'Membran']\n",
      "Exterior1st ['Wd Sdng' 'HdBoard' 'MetalSd' 'VinylSd' 'WdShing' 'Plywood' 'Stucco'\n",
      " 'CemntBd' 'BrkFace' 'AsbShng' 'BrkComm' 'ImStucc' 'AsphShn' 'CBlock'\n",
      " 'PreCast']\n",
      "Exterior2nd ['Wd Sdng' 'HdBoard' 'MetalSd' 'VinylSd' 'Wd Shng' 'Plywood' 'Stucco'\n",
      " 'CmentBd' 'AsbShng' 'ImStucc' 'BrkFace' 'Brk Cmn' 'CBlock' 'AsphShn'\n",
      " 'Stone' 'PreCast']\n",
      "ExterQual ['TA' 'Gd' 'Fa' 'Ex']\n",
      "ExterCond ['TA' 'Gd' 'Fa' 'Ex' 'Po']\n",
      "Foundation ['CBlock' 'BrkTil' 'PConc' 'Slab' 'Stone' 'Wood']\n",
      "Heating ['GasA' 'GasW' 'Grav' 'Wall' 'OthW' 'Floor']\n",
      "HeatingQC ['TA' 'Ex' 'Gd' 'Fa' 'Po']\n",
      "CentralAir ['Y' 'N']\n",
      "KitchenQual ['TA' 'Gd' 'Ex' 'Fa' 'Po']\n",
      "Functional ['Typ' 'Min2' 'Min1' 'Mod' 'Sal' 'Maj1' 'Maj2']\n",
      "PavedDrive ['Y' 'N' 'P']\n",
      "SaleType ['WD ' 'ConLD' 'New' 'Oth' 'ConLw' 'COD' 'CWD' 'Con' 'ConLI' 'VWD']\n",
      "SaleCondition ['Normal' 'Partial' 'AdjLand' 'Abnorml' 'Alloca' 'Family']\n"
     ]
    }
   ],
   "source": [
    "for col in House_Main_Nonnum_Init:\n",
    "    print(col,House_Main_Nonnum_Init[col].unique())"
   ]
  },
  {
   "cell_type": "code",
   "execution_count": 18,
   "id": "97e096b9",
   "metadata": {},
   "outputs": [
    {
     "name": "stdout",
     "output_type": "stream",
     "text": [
      "RL         2008\n",
      "RM          418\n",
      "FV          113\n",
      "RH           21\n",
      "C (all)      17\n",
      "I (all)       2\n",
      "A (agr)       1\n",
      "Name: MSZoning, dtype: int64\n",
      "Pave    2570\n",
      "Grvl      10\n",
      "Name: Street, dtype: int64\n",
      "Reg    1641\n",
      "IR1     855\n",
      "IR2      71\n",
      "IR3      13\n",
      "Name: LotShape, dtype: int64\n",
      "Lvl    2337\n",
      "HLS      96\n",
      "Bnk      95\n",
      "Low      52\n",
      "Name: LandContour, dtype: int64\n",
      "AllPub    2578\n",
      "NoSewr       2\n",
      "Name: Utilities, dtype: int64\n",
      "Inside     1886\n",
      "Corner      439\n",
      "CulDSac     164\n",
      "FR2          78\n",
      "FR3          13\n",
      "Name: LotConfig, dtype: int64\n",
      "Gtl    2458\n",
      "Mod     109\n",
      "Sev      13\n",
      "Name: LandSlope, dtype: int64\n",
      "NAmes      410\n",
      "CollgCr    236\n",
      "OldTown    213\n",
      "Edwards    165\n",
      "Somerst    143\n",
      "Gilbert    143\n",
      "Sawyer     139\n",
      "NWAmes     123\n",
      "NridgHt    121\n",
      "SawyerW    113\n",
      "Mitchel    104\n",
      "BrkSide    103\n",
      "Crawfor     93\n",
      "IDOTRR      76\n",
      "NoRidge     67\n",
      "Timber      54\n",
      "StoneBr     43\n",
      "SWISU       42\n",
      "ClearCr     40\n",
      "MeadowV     34\n",
      "BrDale      29\n",
      "Blmngtn     23\n",
      "Veenker     23\n",
      "NPkVill     22\n",
      "Blueste     10\n",
      "Greens       8\n",
      "GrnHill      2\n",
      "Landmrk      1\n",
      "Name: Neighborhood, dtype: int64\n",
      "Norm      2228\n",
      "Feedr      137\n",
      "Artery      81\n",
      "RRAn        40\n",
      "PosN        37\n",
      "RRAe        26\n",
      "PosA        19\n",
      "RRNn         8\n",
      "RRNe         4\n",
      "Name: Condition1, dtype: int64\n",
      "Norm      2555\n",
      "Feedr       12\n",
      "PosA         3\n",
      "PosN         3\n",
      "Artery       3\n",
      "RRNn         2\n",
      "RRAn         1\n",
      "RRAe         1\n",
      "Name: Condition2, dtype: int64\n",
      "1Fam      2139\n",
      "TwnhsE     202\n",
      "Twnhs       98\n",
      "Duplex      87\n",
      "2fmCon      54\n",
      "Name: BldgType, dtype: int64\n",
      "1Story    1288\n",
      "2Story     773\n",
      "1.5Fin     284\n",
      "SLvl       118\n",
      "SFoyer      70\n",
      "2.5Unf      22\n",
      "1.5Unf      19\n",
      "2.5Fin       6\n",
      "Name: HouseStyle, dtype: int64\n",
      "Gable      2059\n",
      "Hip         473\n",
      "Gambrel      18\n",
      "Flat         16\n",
      "Mansard      10\n",
      "Shed          4\n",
      "Name: RoofStyle, dtype: int64\n",
      "CompShg    2544\n",
      "Tar&Grv      18\n",
      "WdShake       8\n",
      "WdShngl       7\n",
      "Metal         1\n",
      "Membran       1\n",
      "Roll          1\n",
      "Name: RoofMatl, dtype: int64\n",
      "VinylSd    868\n",
      "HdBoard    416\n",
      "MetalSd    407\n",
      "Wd Sdng    385\n",
      "Plywood    194\n",
      "CemntBd     97\n",
      "BrkFace     80\n",
      "WdShing     51\n",
      "Stucco      37\n",
      "AsbShng     34\n",
      "BrkComm      5\n",
      "AsphShn      2\n",
      "CBlock       2\n",
      "PreCast      1\n",
      "ImStucc      1\n",
      "Name: Exterior1st, dtype: int64\n",
      "VinylSd    856\n",
      "MetalSd    404\n",
      "HdBoard    380\n",
      "Wd Sdng    369\n",
      "Plywood    238\n",
      "CmentBd     97\n",
      "Wd Shng     76\n",
      "BrkFace     46\n",
      "Stucco      37\n",
      "AsbShng     31\n",
      "Brk Cmn     21\n",
      "ImStucc     13\n",
      "AsphShn      4\n",
      "Stone        4\n",
      "CBlock       3\n",
      "PreCast      1\n",
      "Name: Exterior2nd, dtype: int64\n",
      "TA    1636\n",
      "Gd     841\n",
      "Ex      73\n",
      "Fa      30\n",
      "Name: ExterQual, dtype: int64\n",
      "TA    2232\n",
      "Gd     279\n",
      "Fa      56\n",
      "Ex      11\n",
      "Po       2\n",
      "Name: ExterCond, dtype: int64\n",
      "CBlock    1140\n",
      "PConc     1105\n",
      "BrkTil     278\n",
      "Slab        42\n",
      "Stone       10\n",
      "Wood         5\n",
      "Name: Foundation, dtype: int64\n",
      "GasA     2540\n",
      "GasW       25\n",
      "Grav        7\n",
      "Wall        5\n",
      "OthW        2\n",
      "Floor       1\n",
      "Name: Heating, dtype: int64\n",
      "Ex    1293\n",
      "TA     768\n",
      "Gd     434\n",
      "Fa      84\n",
      "Po       1\n",
      "Name: HeatingQC, dtype: int64\n",
      "Y    2417\n",
      "N     163\n",
      "Name: CentralAir, dtype: int64\n",
      "TA    1358\n",
      "Gd    1017\n",
      "Ex     142\n",
      "Fa      62\n",
      "Po       1\n",
      "Name: KitchenQual, dtype: int64\n",
      "Typ     2399\n",
      "Min2      66\n",
      "Min1      57\n",
      "Mod       32\n",
      "Maj1      18\n",
      "Maj2       7\n",
      "Sal        1\n",
      "Name: Functional, dtype: int64\n",
      "Y    2336\n",
      "N     184\n",
      "P      60\n",
      "Name: PavedDrive, dtype: int64\n",
      "WD       2392\n",
      "New        79\n",
      "COD        50\n",
      "ConLD      23\n",
      "CWD        11\n",
      "ConLw       8\n",
      "ConLI       7\n",
      "Con         5\n",
      "Oth         4\n",
      "VWD         1\n",
      "Name: SaleType, dtype: int64\n",
      "Normal     2414\n",
      "Partial      82\n",
      "Abnorml      61\n",
      "Family       17\n",
      "Alloca        4\n",
      "AdjLand       2\n",
      "Name: SaleCondition, dtype: int64\n"
     ]
    }
   ],
   "source": [
    "for col in House_Main_Nonnum_Init:\n",
    "    print(House_Main_Nonnum_Init[col].value_counts())"
   ]
  },
  {
   "cell_type": "code",
   "execution_count": 19,
   "id": "2d9c62ce",
   "metadata": {},
   "outputs": [],
   "source": [
    "#From the above tables we could handle different columns as follows:\n",
    "# MSZoning: Group C, I, A into 'non-residential'\n",
    "# HeatingQC, KitchenQual: Group Fa, Po into 'Ba' as 'Below Average'\n",
    "Drop=['Street', 'Utilities','Condition2', 'RoofMatl', 'SaleType', 'SaleCondition']\n",
    "# Keep: LandContour, BldgType, ExterQual, ExterCond, Foundation, PavedDrive\n",
    "# LotConfig: Group FR2 and FR3 into 'Frontage'\n",
    "# Convert to binary: LotShape, LandSlope, Condition1, Heating, CentralAir, Functional\n",
    "# Use .75 Threshold: Neiborhood, Exterior1st, Exterior2nd\n",
    "# Use .90 Threshold: HouseStyle, RoofStyle"
   ]
  },
  {
   "cell_type": "code",
   "execution_count": 20,
   "id": "9bdad96f",
   "metadata": {},
   "outputs": [
    {
     "data": {
      "text/plain": [
       "(2580, 27)"
      ]
     },
     "execution_count": 20,
     "metadata": {},
     "output_type": "execute_result"
    }
   ],
   "source": [
    "House_Main_Nonnum_Init.shape"
   ]
  },
  {
   "cell_type": "code",
   "execution_count": 21,
   "id": "1cd82d54",
   "metadata": {},
   "outputs": [
    {
     "data": {
      "text/plain": [
       "(2580, 21)"
      ]
     },
     "execution_count": 21,
     "metadata": {},
     "output_type": "execute_result"
    }
   ],
   "source": [
    "#Dropping columns\n",
    "House_Main_Nonnum_Init=House_Main_Nonnum_Init.drop(Drop,axis=1)\n",
    "House_Main_Nonnum_Init.shape"
   ]
  },
  {
   "cell_type": "code",
   "execution_count": 22,
   "id": "77ac0c4f",
   "metadata": {},
   "outputs": [],
   "source": [
    "#MSZoning: Group C, I, A into 'non-residential'\n",
    "#House_Main_Nonnum_Init['MSZoning']=\n",
    "House_Main_Nonnum_Init['MSZoning']=House_Main_Nonnum_Init['MSZoning'].apply(lambda x: \n",
    "                                         'Non-residential' if x=='C (all)'\n",
    "                                         else 'Non-residential' if x=='I (all)' \n",
    "                                         else 'Non-residential' if x=='A (agr)' \n",
    "                                         else 'RL' if x=='RL' \n",
    "                                         else 'RM' if x=='RM'\n",
    "                                         else 'FV' if x=='FV'\n",
    "                                         else 'RH')           "
   ]
  },
  {
   "cell_type": "code",
   "execution_count": 23,
   "id": "70de8d3d",
   "metadata": {},
   "outputs": [],
   "source": [
    "# HeatingQC, KitchenQual: Group Fa, Po into 'Ba' as 'Below Average'\n",
    "House_Main_Nonnum_Init['HeatingQC']=House_Main_Nonnum_Init['HeatingQC'].str.replace('Fa','Ba').str.replace('Po','Ba')"
   ]
  },
  {
   "cell_type": "code",
   "execution_count": 24,
   "id": "f415bb74",
   "metadata": {},
   "outputs": [],
   "source": [
    "# LotConfig: Group FR2 and FR3 into 'Frontage'\n",
    "for i in range(len(House_Main_Nonnum_Init['LotConfig'])):\n",
    "    if (House_Main_Nonnum_Init['LotConfig'].iloc[i] == 'FR2') or (House_Main_Nonnum_Init['LotConfig'].iloc[i] == 'FR3'):\n",
    "        House_Main_Nonnum_Init['LotConfig'].iloc[i]='Frontage'"
   ]
  },
  {
   "cell_type": "code",
   "execution_count": 25,
   "id": "e8652020",
   "metadata": {},
   "outputs": [
    {
     "data": {
      "text/plain": [
       "1    1641\n",
       "0     939\n",
       "Name: LotShape, dtype: int64"
      ]
     },
     "execution_count": 25,
     "metadata": {},
     "output_type": "execute_result"
    }
   ],
   "source": [
    "# Convert to binary: LotShape, LandSlope, Condition1, Heating, CentralAir, Functional\n",
    "\n",
    "#LotShape:\n",
    "House_Main_Nonnum_Init['LotShape']=House_Main_Nonnum_Init['LotShape'].map(lambda x: 1 if x=='Reg' else 0)\n",
    "House_Main_Nonnum_Init['LotShape'].value_counts()"
   ]
  },
  {
   "cell_type": "code",
   "execution_count": 26,
   "id": "954faf25",
   "metadata": {},
   "outputs": [
    {
     "data": {
      "text/plain": [
       "1    2458\n",
       "0     122\n",
       "Name: LandSlope, dtype: int64"
      ]
     },
     "execution_count": 26,
     "metadata": {},
     "output_type": "execute_result"
    }
   ],
   "source": [
    "#LandSlope:\n",
    "House_Main_Nonnum_Init['LandSlope']=House_Main_Nonnum_Init['LandSlope'].map(lambda x: 1 if x=='Gtl' else 0)\n",
    "House_Main_Nonnum_Init['LandSlope'].value_counts()"
   ]
  },
  {
   "cell_type": "code",
   "execution_count": 27,
   "id": "3373cc9c",
   "metadata": {},
   "outputs": [
    {
     "data": {
      "text/plain": [
       "1    2228\n",
       "0     352\n",
       "Name: Condition1, dtype: int64"
      ]
     },
     "execution_count": 27,
     "metadata": {},
     "output_type": "execute_result"
    }
   ],
   "source": [
    "#Condition1\n",
    "House_Main_Nonnum_Init['Condition1']=House_Main_Nonnum_Init['Condition1'].map(lambda x: 1 if x=='Norm' else 0)\n",
    "House_Main_Nonnum_Init['Condition1'].value_counts()"
   ]
  },
  {
   "cell_type": "code",
   "execution_count": 28,
   "id": "4b179105",
   "metadata": {},
   "outputs": [
    {
     "data": {
      "text/plain": [
       "1    2565\n",
       "0      15\n",
       "Name: Heating, dtype: int64"
      ]
     },
     "execution_count": 28,
     "metadata": {},
     "output_type": "execute_result"
    }
   ],
   "source": [
    "#Heating\n",
    "House_Main_Nonnum_Init['Heating']=House_Main_Nonnum_Init['Heating'].map(lambda x: 1 if ((x=='GasA') or (x=='GasW')) else 0)\n",
    "House_Main_Nonnum_Init['Heating'].value_counts()"
   ]
  },
  {
   "cell_type": "code",
   "execution_count": 29,
   "id": "3bad5336",
   "metadata": {},
   "outputs": [
    {
     "data": {
      "text/plain": [
       "1    2417\n",
       "0     163\n",
       "Name: CentralAir, dtype: int64"
      ]
     },
     "execution_count": 29,
     "metadata": {},
     "output_type": "execute_result"
    }
   ],
   "source": [
    "#CentralAir\n",
    "House_Main_Nonnum_Init['CentralAir']=House_Main_Nonnum_Init['CentralAir'].map(lambda x: 1 if x=='Y' else 0)\n",
    "House_Main_Nonnum_Init['CentralAir'].value_counts()"
   ]
  },
  {
   "cell_type": "code",
   "execution_count": 30,
   "id": "be639768",
   "metadata": {},
   "outputs": [
    {
     "data": {
      "text/plain": [
       "1    2399\n",
       "0     181\n",
       "Name: Functional, dtype: int64"
      ]
     },
     "execution_count": 30,
     "metadata": {},
     "output_type": "execute_result"
    }
   ],
   "source": [
    "#Functional\n",
    "House_Main_Nonnum_Init['Functional']=House_Main_Nonnum_Init['Functional'].map(lambda x: 1 if x=='Typ' else 0)\n",
    "House_Main_Nonnum_Init['Functional'].value_counts()"
   ]
  },
  {
   "cell_type": "code",
   "execution_count": 31,
   "id": "791e0c52",
   "metadata": {},
   "outputs": [],
   "source": [
    "#Use .75 Threshold: Neiborhood, Exterior1st, Exterior2nd\n",
    "\n",
    "def cumulatively_categorise(column,threshold=0.75):\n",
    "        #Find the threshold value using the percentage and number of observations in the column\n",
    "        threshold_value=int(threshold*len(column))\n",
    "        #Initialise an empty list for our new minimised categories\n",
    "        categories_list=[]\n",
    "        #Initialise a variable to calculate the sum of frequencies\n",
    "        s=0\n",
    "        #Create a counter dictionary of the form unique_value: frequency\n",
    "        counts=Counter(column)\n",
    "\n",
    "        #Loop through the category name and its corresponding frequency after sorting the categories by descending order of frequency\n",
    "        for i,j in counts.most_common():\n",
    "        #Add the frequency to the global sum\n",
    "          s+=dict(counts)[i]\n",
    "        #Append the category name to the list\n",
    "          categories_list.append(i)\n",
    "        #Check if the global sum has reached the threshold value, if so break the loop\n",
    "          if s>=threshold_value:\n",
    "                break\n",
    "        \n",
    "        #Replace all instances not in our new categories by Other  \n",
    "        column=column.apply(lambda x: x if x in categories_list else 'Other')\n",
    "        \n",
    "        return column"
   ]
  },
  {
   "cell_type": "code",
   "execution_count": 32,
   "id": "9dd9eba5",
   "metadata": {},
   "outputs": [
    {
     "name": "stdout",
     "output_type": "stream",
     "text": [
      "Other      567\n",
      "NAmes      410\n",
      "CollgCr    236\n",
      "OldTown    213\n",
      "Edwards    165\n",
      "Somerst    143\n",
      "Gilbert    143\n",
      "Sawyer     139\n",
      "NWAmes     123\n",
      "NridgHt    121\n",
      "SawyerW    113\n",
      "Mitchel    104\n",
      "BrkSide    103\n",
      "Name: Neighborhood, dtype: int64\n",
      "VinylSd    868\n",
      "Other      504\n",
      "HdBoard    416\n",
      "MetalSd    407\n",
      "Wd Sdng    385\n",
      "Name: Exterior1st, dtype: int64\n",
      "VinylSd    856\n",
      "Other      571\n",
      "MetalSd    404\n",
      "HdBoard    380\n",
      "Wd Sdng    369\n",
      "Name: Exterior2nd, dtype: int64\n"
     ]
    }
   ],
   "source": [
    "#Call the function with a default threshold of 75%\n",
    "\n",
    "Treshold_75=['Neighborhood','Exterior1st', 'Exterior2nd']\n",
    "for col in Treshold_75:\n",
    "    House_Main_Nonnum_Init[col]=cumulatively_categorise(House_Main_Nonnum_Init[col])\n",
    "print(House_Main_Nonnum_Init['Neighborhood'].value_counts())\n",
    "print(House_Main_Nonnum_Init['Exterior1st'].value_counts())\n",
    "print(House_Main_Nonnum_Init['Exterior2nd'].value_counts())"
   ]
  },
  {
   "cell_type": "code",
   "execution_count": 351,
   "id": "72a28247",
   "metadata": {},
   "outputs": [
    {
     "data": {
      "text/plain": [
       "1Story    1288\n",
       "2Story     773\n",
       "1.5Fin     284\n",
       "SLvl       118\n",
       "SFoyer      70\n",
       "2.5Unf      22\n",
       "1.5Unf      19\n",
       "2.5Fin       6\n",
       "Name: HouseStyle, dtype: int64"
      ]
     },
     "execution_count": 351,
     "metadata": {},
     "output_type": "execute_result"
    }
   ],
   "source": [
    "House_Main.HouseStyle.value_counts()"
   ]
  },
  {
   "cell_type": "code",
   "execution_count": 33,
   "id": "0c8339b5",
   "metadata": {},
   "outputs": [
    {
     "name": "stdout",
     "output_type": "stream",
     "text": [
      "1Story    1288\n",
      "2Story     773\n",
      "1.5Fin     284\n",
      "Other      235\n",
      "Name: HouseStyle, dtype: int64\n",
      "Gable    2059\n",
      "Hip       473\n",
      "Other      48\n",
      "Name: RoofStyle, dtype: int64\n"
     ]
    }
   ],
   "source": [
    "#Call the function with a default threshold of 90%\n",
    "\n",
    "Treshold_90=['HouseStyle', 'RoofStyle']\n",
    "for col in Treshold_90:\n",
    "    House_Main_Nonnum_Init[col]=cumulatively_categorise(House_Main_Nonnum_Init[col],threshold=0.90)\n",
    "print(House_Main_Nonnum_Init['HouseStyle'].value_counts())\n",
    "print(House_Main_Nonnum_Init['RoofStyle'].value_counts())"
   ]
  },
  {
   "cell_type": "code",
   "execution_count": 34,
   "id": "399afb26",
   "metadata": {},
   "outputs": [
    {
     "data": {
      "text/plain": [
       "Index(['LotShape', 'LandSlope', 'Condition1', 'Heating', 'CentralAir',\n",
       "       'Functional', 'MSZoning_Non-residential', 'MSZoning_RH', 'MSZoning_RL',\n",
       "       'MSZoning_RM', 'LandContour_HLS', 'LandContour_Low', 'LandContour_Lvl',\n",
       "       'LotConfig_CulDSac', 'LotConfig_Frontage', 'LotConfig_Inside',\n",
       "       'Neighborhood_CollgCr', 'Neighborhood_Edwards', 'Neighborhood_Gilbert',\n",
       "       'Neighborhood_Mitchel', 'Neighborhood_NAmes', 'Neighborhood_NWAmes',\n",
       "       'Neighborhood_NridgHt', 'Neighborhood_OldTown', 'Neighborhood_Other',\n",
       "       'Neighborhood_Sawyer', 'Neighborhood_SawyerW', 'Neighborhood_Somerst',\n",
       "       'BldgType_2fmCon', 'BldgType_Duplex', 'BldgType_Twnhs',\n",
       "       'BldgType_TwnhsE', 'HouseStyle_1Story', 'HouseStyle_2Story',\n",
       "       'HouseStyle_Other', 'RoofStyle_Hip', 'RoofStyle_Other',\n",
       "       'Exterior1st_MetalSd', 'Exterior1st_Other', 'Exterior1st_VinylSd',\n",
       "       'Exterior1st_Wd Sdng', 'Exterior2nd_MetalSd', 'Exterior2nd_Other',\n",
       "       'Exterior2nd_VinylSd', 'Exterior2nd_Wd Sdng', 'ExterQual_Fa',\n",
       "       'ExterQual_Gd', 'ExterQual_TA', 'ExterCond_Fa', 'ExterCond_Gd',\n",
       "       'ExterCond_Po', 'ExterCond_TA', 'Foundation_CBlock', 'Foundation_PConc',\n",
       "       'Foundation_Slab', 'Foundation_Stone', 'Foundation_Wood',\n",
       "       'HeatingQC_Ex', 'HeatingQC_Gd', 'HeatingQC_TA', 'KitchenQual_Fa',\n",
       "       'KitchenQual_Gd', 'KitchenQual_Po', 'KitchenQual_TA', 'PavedDrive_P',\n",
       "       'PavedDrive_Y'],\n",
       "      dtype='object')"
      ]
     },
     "execution_count": 34,
     "metadata": {},
     "output_type": "execute_result"
    }
   ],
   "source": [
    "#Dummy-Encoding Process:\n",
    "\n",
    "Binary=['LotShape', 'LandSlope', 'Condition1', 'Heating', 'CentralAir', 'Functional']\n",
    "Dummy=pd.get_dummies(House_Main_Nonnum_Init.loc[:,~House_Main_Nonnum_Init.columns.isin(Binary)],drop_first=True)\n",
    "House_Main_Nonnum_Init=House_Main_Nonnum_Init[Binary]\n",
    "House_Main_Nonnum_Init=pd.concat([House_Main_Nonnum_Init,Dummy],axis=1)\n",
    "House_Main_Nonnum_Init.columns"
   ]
  },
  {
   "cell_type": "code",
   "execution_count": 35,
   "id": "d2ce247a",
   "metadata": {},
   "outputs": [
    {
     "data": {
      "text/plain": [
       "PoolQC           2571\n",
       "MiscFeature      2483\n",
       "Alley            2412\n",
       "Fence            2055\n",
       "FireplaceQu      1241\n",
       "GarageCond        129\n",
       "GarageQual        129\n",
       "GarageFinish      129\n",
       "GarageType        127\n",
       "BsmtExposure       71\n",
       "BsmtFinType2       70\n",
       "BsmtFinType1       69\n",
       "BsmtQual           69\n",
       "BsmtCond           69\n",
       "MasVnrType         14\n",
       "Electrical          1\n",
       "Functional          0\n",
       "KitchenQual         0\n",
       "CentralAir          0\n",
       "HeatingQC           0\n",
       "Heating             0\n",
       "PavedDrive          0\n",
       "SaleType            0\n",
       "MSZoning            0\n",
       "Street              0\n",
       "Condition2          0\n",
       "LotShape            0\n",
       "LandContour         0\n",
       "Utilities           0\n",
       "LotConfig           0\n",
       "LandSlope           0\n",
       "Neighborhood        0\n",
       "Condition1          0\n",
       "BldgType            0\n",
       "Foundation          0\n",
       "HouseStyle          0\n",
       "RoofStyle           0\n",
       "RoofMatl            0\n",
       "Exterior1st         0\n",
       "Exterior2nd         0\n",
       "ExterQual           0\n",
       "ExterCond           0\n",
       "SaleCondition       0\n",
       "dtype: int64"
      ]
     },
     "execution_count": 35,
     "metadata": {},
     "output_type": "execute_result"
    }
   ],
   "source": [
    "House_Main_Nonnum.isnull().sum(axis=0).sort_values(ascending=False)"
   ]
  },
  {
   "cell_type": "code",
   "execution_count": 36,
   "id": "448e8bf6",
   "metadata": {},
   "outputs": [],
   "source": [
    "#Create another table that are categorical variables but contain NaN values\n",
    "\n",
    "#Cat_Drop=['PoolQC','Alley','FireplaceQu','Fence','MiscFeature']"
   ]
  },
  {
   "cell_type": "code",
   "execution_count": null,
   "id": "3469c245",
   "metadata": {},
   "outputs": [],
   "source": []
  },
  {
   "cell_type": "code",
   "execution_count": null,
   "id": "75411409",
   "metadata": {},
   "outputs": [],
   "source": []
  },
  {
   "cell_type": "code",
   "execution_count": null,
   "id": "9f2abe17",
   "metadata": {},
   "outputs": [],
   "source": []
  },
  {
   "cell_type": "code",
   "execution_count": 37,
   "id": "b316cc34",
   "metadata": {},
   "outputs": [],
   "source": [
    "#Dropping some numerical/Categorical columns because they have too many NaN values and NaN doesn't mean \n",
    "#anything in those columns:\n",
    "Num_Drop=['BsmtUnfSF']\n",
    "House_Main_Num=House_Main_Num.drop(Num_Drop,axis=1)"
   ]
  },
  {
   "cell_type": "code",
   "execution_count": 38,
   "id": "819cd406",
   "metadata": {},
   "outputs": [],
   "source": [
    "#Merge tables to create a ML table\n",
    "ML_df=pd.concat([House_Main_Nonnum_Init,House_Main_Num],axis=1)"
   ]
  },
  {
   "cell_type": "code",
   "execution_count": 39,
   "id": "f908b939",
   "metadata": {},
   "outputs": [],
   "source": [
    "#In order to build model, we create X-independent variables table, and y-dependent variable table\n",
    "ML_df_x=ML_df.loc[:,~ML_df.columns.isin(['SalePrice'])]\n",
    "ML_df_y=ML_df['SalePrice']"
   ]
  },
  {
   "cell_type": "markdown",
   "id": "ae158045",
   "metadata": {},
   "source": [
    "# Time to build Pipeline for our model!"
   ]
  },
  {
   "cell_type": "code",
   "execution_count": 61,
   "id": "aa8b4f30",
   "metadata": {},
   "outputs": [],
   "source": [
    "from sklearn.pipeline import Pipeline\n",
    "from sklearn.preprocessing import StandardScaler\n",
    "from sklearn.model_selection import GridSearchCV\n",
    "from sklearn.model_selection import StratifiedKFold\n",
    "from sklearn.linear_model import LinearRegression\n",
    "from sklearn.model_selection import train_test_split\n",
    "from sklearn.model_selection import cross_val_score\n",
    "from sklearn.linear_model import LinearRegression, Ridge, Lasso, ElasticNet\n",
    "from sklearn.model_selection import train_test_split\n",
    "from sklearn.model_selection import KFold"
   ]
  },
  {
   "cell_type": "code",
   "execution_count": 41,
   "id": "6fbd0dfd",
   "metadata": {},
   "outputs": [],
   "source": [
    "#Now we find all NaN values before we build our model\n",
    "NaN=[]\n",
    "for col in ML_df_x.columns:\n",
    "    if ML_df_x[col].isnull().sum(axis=0)>0:\n",
    "        NaN.append(col)"
   ]
  },
  {
   "cell_type": "code",
   "execution_count": 42,
   "id": "4393bd1e",
   "metadata": {},
   "outputs": [
    {
     "name": "stdout",
     "output_type": "stream",
     "text": [
      "LotFrontage [nan 42. 60. ... 82. nan 80.]\n",
      "MasVnrArea [  0. 149.   0. ...   0. 144. 125.]\n",
      "BsmtFinSF1 [238. 552. 737. ... 284. 841. 380.]\n",
      "BsmtFinSF2 [  0. 393.   0. ...   0.   0.   0.]\n",
      "TotalBsmtSF [ 856. 1049.  837. ... 1001.  985.  777.]\n",
      "BsmtFullBath [1. 1. 0. ... 0. 1. 0.]\n",
      "BsmtHalfBath [0. 0. 0. ... 0. 0. 0.]\n",
      "GarageYrBlt [1939. 1984. 1930. ... 1949. 2000. 1993.]\n",
      "GarageCars [2. 1. 1. ... 3. 2. 2.]\n",
      "GarageArea [399. 266. 216. ... 871. 486. 471.]\n"
     ]
    }
   ],
   "source": [
    "for i in NaN:\n",
    "    print(i,ML_df_x[i].values)"
   ]
  },
  {
   "cell_type": "code",
   "execution_count": 43,
   "id": "c0f3cbf3",
   "metadata": {},
   "outputs": [
    {
     "data": {
      "image/png": "[encoded data removed]",
      "text/plain": [
       "<Figure size 1800x720 with 2 Axes>"
      ]
     },
     "metadata": {
      "needs_background": "light"
     },
     "output_type": "display_data"
    }
   ],
   "source": [
    "import missingno as msno\n",
    "msno.matrix(ML_df_x);"
   ]
  },
  {
   "cell_type": "code",
   "execution_count": 44,
   "id": "33837e6e",
   "metadata": {},
   "outputs": [
    {
     "data": {
      "text/plain": [
       "<AxesSubplot:>"
      ]
     },
     "execution_count": 44,
     "metadata": {},
     "output_type": "execute_result"
    },
    {
     "data": {
      "image/png": "[encoded data removed]",
      "text/plain": [
       "<Figure size 1440x1080 with 1 Axes>"
      ]
     },
     "metadata": {
      "needs_background": "light"
     },
     "output_type": "display_data"
    }
   ],
   "source": [
    "plt.figure(figsize=(20,15))\n",
    "sns.heatmap(ML_df_x.isna(),cmap=\"BuPu\",cbar=False)"
   ]
  },
  {
   "cell_type": "code",
   "execution_count": 45,
   "id": "32259ec4",
   "metadata": {},
   "outputs": [
    {
     "data": {
      "text/plain": [
       "(614,\n",
       " LotFrontage     0.179070\n",
       " GarageYrBlt     0.050000\n",
       " MasVnrArea      0.005426\n",
       " BsmtFullBath    0.000775\n",
       " BsmtHalfBath    0.000775\n",
       " BsmtFinSF2      0.000388\n",
       " BsmtFinSF1      0.000388\n",
       " TotalBsmtSF     0.000388\n",
       " GarageArea      0.000388\n",
       " GarageCars      0.000388\n",
       " dtype: float64)"
      ]
     },
     "execution_count": 45,
     "metadata": {},
     "output_type": "execute_result"
    }
   ],
   "source": [
    "ML_df_x.isnull().sum().sum(), ML_df_x.isnull().mean().sort_values(ascending=False).head(10)"
   ]
  },
  {
   "cell_type": "code",
   "execution_count": 46,
   "id": "41a11d84",
   "metadata": {},
   "outputs": [],
   "source": [
    "from sklearn.ensemble import ExtraTreesRegressor\n",
    "from sklearn.experimental import enable_iterative_imputer\n",
    "from sklearn.impute import IterativeImputer"
   ]
  },
  {
   "cell_type": "code",
   "execution_count": 47,
   "id": "7fa5beb2",
   "metadata": {},
   "outputs": [],
   "source": [
    "#We use two methods on handling the null values of numerical independent variables:\n",
    "\n",
    "#1 We fill the NaN values with 0 when 0 makes sense for the independen variable:\n",
    "fillna_zero=['LotFrontage','MasVnrArea','BsmtFullBath','BsmtHalfBath','BsmtFinSF2','BsmtFinSF1','TotalBsmtSF','GarageArea','GarageCars','GarageYrBlt']\n",
    "\n",
    "ML_df_x[fillna_zero]=ML_df_x[fillna_zero].fillna(0)\n"
   ]
  },
  {
   "cell_type": "code",
   "execution_count": 48,
   "id": "0cc984cb",
   "metadata": {},
   "outputs": [
    {
     "data": {
      "text/plain": [
       "LotShape        0.0\n",
       "PavedDrive_P    0.0\n",
       "MasVnrArea      0.0\n",
       "YearRemodAdd    0.0\n",
       "YearBuilt       0.0\n",
       "OverallCond     0.0\n",
       "OverallQual     0.0\n",
       "LotArea         0.0\n",
       "LotFrontage     0.0\n",
       "MSSubClass      0.0\n",
       "dtype: float64"
      ]
     },
     "execution_count": 48,
     "metadata": {},
     "output_type": "execute_result"
    }
   ],
   "source": [
    "#Now we find the remaining columns with NaN values:\n",
    "ML_df_x.isnull().mean().sort_values(ascending=False).head(10)"
   ]
  },
  {
   "cell_type": "code",
   "execution_count": 49,
   "id": "f8e5e602",
   "metadata": {},
   "outputs": [],
   "source": [
    "#2  We use the following way to impute the missing values for GarageYrBlt(Not used for model, as we find fill NaN with\n",
    "#0 will be more appropriate):\n",
    "\n",
    "# Impute=IterativeImputer(\n",
    "#     estimator=ExtraTreesRegressor(),max_iter=15,random_state=42\n",
    "# )\n",
    "\n",
    "# ML_df_x.loc[:,:]=Impute.fit_transform(ML_df_x)\n",
    "\n",
    "#Another way to impute using datawig:\n",
    "#Import datawig\n",
    "# df_train, df_test = datawig.utils.random_split(ML_df_x)\n",
    "\n",
    "# #Initialize a SimpleImputer model\n",
    "# imputer = datawig.SimpleImputer(\n",
    "#     input_columns=ML_df_x.loc[:,~ML_df_x.columns.isin(NaN)].columns.tolist(), # column(s) containing information about the column we want to impute\n",
    "#     output_column= NaN, # the columns we'd like to impute values for\n",
    "#     output_path = 'imputer_model' # stores model data and metrics\n",
    "#     )\n",
    "\n",
    "# #Fit an imputer model on the train data\n",
    "# imputer.fit(train_df=df_train, num_epochs=50)\n",
    "\n",
    "# #Impute missing values and return original dataframe with predictions\n",
    "# imputed = imputer.predict(df_test)"
   ]
  },
  {
   "cell_type": "code",
   "execution_count": 50,
   "id": "d9d38728",
   "metadata": {},
   "outputs": [
    {
     "data": {
      "text/plain": [
       "<seaborn.axisgrid.FacetGrid at 0x23c7cc533a0>"
      ]
     },
     "execution_count": 50,
     "metadata": {},
     "output_type": "execute_result"
    },
    {
     "data": {
      "image/png": "[encoded data removed]",
      "text/plain": [
       "<Figure size 360x360 with 1 Axes>"
      ]
     },
     "metadata": {
      "needs_background": "light"
     },
     "output_type": "display_data"
    }
   ],
   "source": [
    "#Now we look at the distribution of our target\n",
    "sns.displot(ML_df_y)"
   ]
  },
  {
   "cell_type": "code",
   "execution_count": 51,
   "id": "e9019757",
   "metadata": {},
   "outputs": [],
   "source": [
    "# We can see the dependent variable is skewed, so we use 𝑙𝑜𝑔(𝑝𝑟𝑖𝑐𝑒)∼𝛽𝑓𝑒𝑎𝑡𝑢𝑟𝑒𝑓𝑒𝑎𝑡𝑢𝑟𝑒+𝛽0+𝜖 , \n",
    "#this would imply  𝑝𝑟𝑖𝑐𝑒∼𝑒𝛽𝑓𝑒𝑎𝑡𝑢𝑟𝑒⋅𝑓𝑒𝑎𝑡𝑢𝑟𝑒⋅𝑒𝛽0+𝜖 , which treats the feature as an optional attribute of the house\n",
    "ML_df_y=np.log(ML_df_y)\n",
    "# ML_df_y=ML_df_y.astype(int)\n",
    "# from sklearn.utils.multiclass import type_of_target\n",
    "# type_of_target(ML_df_y)"
   ]
  },
  {
   "cell_type": "code",
   "execution_count": 52,
   "id": "cf9bc77f",
   "metadata": {},
   "outputs": [
    {
     "data": {
      "text/plain": [
       "<seaborn.axisgrid.FacetGrid at 0x23c7cc53970>"
      ]
     },
     "execution_count": 52,
     "metadata": {},
     "output_type": "execute_result"
    },
    {
     "data": {
      "image/png": "[encoded data removed]",
      "text/plain": [
       "<Figure size 360x360 with 1 Axes>"
      ]
     },
     "metadata": {
      "needs_background": "light"
     },
     "output_type": "display_data"
    }
   ],
   "source": [
    "sns.displot(ML_df_y) #Now the sale prices of houses are normally distributed. We can start building our model"
   ]
  },
  {
   "cell_type": "code",
   "execution_count": null,
   "id": "11ab7919",
   "metadata": {},
   "outputs": [],
   "source": [
    "from sklearn.pipeline import Pipeline\n",
    "from sklearn.preprocessing import StandardScaler\n",
    "from sklearn.model_selection import GridSearchCV\n",
    "from sklearn.model_selection import StratifiedKFold\n",
    "from sklearn.linear_model import LinearRegression\n",
    "from sklearn.model_selection import train_test_split\n",
    "from sklearn.model_selection import cross_val_score\n",
    "from sklearn.linear_model import LinearRegression, Ridge, Lasso, ElasticNet\n",
    "from sklearn.model_selection import train_test_split\n",
    "from sklearn.model_selection import KFold"
   ]
  },
  {
   "cell_type": "code",
   "execution_count": 72,
   "id": "cd09128e",
   "metadata": {},
   "outputs": [
    {
     "data": {
      "text/plain": [
       "array([1.00000000e-10, 1.59731228e-10, 2.55140652e-10, 4.07539297e-10,\n",
       "       6.50967523e-10, 1.03979842e-09, 1.66088278e-09, 2.65294846e-09,\n",
       "       4.23758716e-09, 6.76875001e-09, 1.08118075e-08, 1.72698329e-08,\n",
       "       2.75853162e-08, 4.40623643e-08, 7.03813555e-08, 1.12421004e-07,\n",
       "       1.79571449e-07, 2.86831681e-07, 4.58159767e-07, 7.31824222e-07,\n",
       "       1.16895182e-06, 1.86718109e-06, 2.98247129e-06, 4.76393801e-06,\n",
       "       7.60949669e-06, 1.21547425e-05, 1.94149195e-05, 3.10116893e-05,\n",
       "       4.95353521e-05, 7.91234262e-05, 1.26384820e-04, 2.01876025e-04,\n",
       "       3.22459055e-04, 5.15067808e-04, 8.22724134e-04, 1.31414736e-03,\n",
       "       2.09910372e-03, 3.35292415e-03, 5.35566692e-03, 8.55467254e-03,\n",
       "       1.36644835e-02, 2.18264473e-02, 3.48636523e-02, 5.56881399e-02,\n",
       "       8.89513497e-02, 1.42083083e-01, 2.26951054e-01, 3.62511705e-01,\n",
       "       5.79044398e-01, 9.24914728e-01, 1.47737765e+00, 2.35983347e+00,\n",
       "       3.76939098e+00, 6.02089449e+00, 9.61724871e+00, 1.53617495e+01,\n",
       "       2.45375111e+01, 3.91940677e+01, 6.26051657e+01, 1.00000000e+02])"
      ]
     },
     "execution_count": 72,
     "metadata": {},
     "output_type": "execute_result"
    }
   ],
   "source": [
    "np.logspace()"
   ]
  },
  {
   "cell_type": "code",
   "execution_count": 71,
   "id": "b1ee6dc6",
   "metadata": {},
   "outputs": [
    {
     "name": "stdout",
     "output_type": "stream",
     "text": [
      "683.906849861145\n",
      "The best parameters are:  {'clf': Ridge(alpha=62.60516572014828), 'clf__alpha': 62.60516572014828}\n",
      "The score of the training model:  0.9160713941959847\n",
      "The score of the final model:  0.9262822441323615\n"
     ]
    }
   ],
   "source": [
    "#Pipeline Model\n",
    "X_train, X_test, y_train, y_test = train_test_split(ML_df_x, ML_df_y, test_size=0.3, random_state=42)\n",
    "N_alpha = 60\n",
    "N_rho   = 20\n",
    "alphaRange = np.logspace(-10, 2, N_alpha)\n",
    "rhoRange   = np.linspace(0.1,1, N_rho)\n",
    "elasticnet = ElasticNet()\n",
    "ridge = Ridge()\n",
    "pipe = Pipeline(\n",
    "    [\n",
    "    (\"standardize\", StandardScaler()),\n",
    "    (\"clf\", elasticnet)\n",
    "    ]\n",
    ")\n",
    "\n",
    "params = [\n",
    "    {\n",
    "    \"clf\":(ElasticNet(),),\n",
    "    \"clf__alpha\": alphaRange,\n",
    "    \"clf__l1_ratio\": rhoRange},\n",
    "    {\n",
    "    \"clf\":(Ridge(),),\n",
    "    \"clf__alpha\": alphaRange}\n",
    "]\n",
    "\n",
    "kfold=KFold(n_splits=5)\n",
    "#skfold = StratifiedKFold(n_splits=10, shuffle=True, random_state=42)\n",
    "\n",
    "gs = GridSearchCV(pipe, params, scoring=\"r2\", cv=kfold)\n",
    "\n",
    "start= time.time()\n",
    "gs.fit(X_train, y_train)\n",
    "print(time.time() - start)\n",
    "\n",
    "print(\"The best parameters are: \", gs.best_params_)\n",
    "print(\"The score of the training model: \", gs.score(X_train,y_train))\n",
    "print(\"The score of the final model: \", gs.score(X_test, y_test))"
   ]
  },
  {
   "cell_type": "code",
   "execution_count": 69,
   "id": "f0870ac9",
   "metadata": {},
   "outputs": [
    {
     "ename": "TypeError",
     "evalue": "__init__() takes 2 positional arguments but 3 were given",
     "output_type": "error",
     "traceback": [
      "\u001b[1;31m---------------------------------------------------------------------------\u001b[0m",
      "\u001b[1;31mTypeError\u001b[0m                                 Traceback (most recent call last)",
      "\u001b[1;32m<ipython-input-69-339e3e840df8>\u001b[0m in \u001b[0;36m<module>\u001b[1;34m\u001b[0m\n\u001b[0;32m      7\u001b[0m \u001b[0melasticnet\u001b[0m \u001b[1;33m=\u001b[0m \u001b[0mElasticNet\u001b[0m\u001b[1;33m(\u001b[0m\u001b[1;33m)\u001b[0m\u001b[1;33m\u001b[0m\u001b[1;33m\u001b[0m\u001b[0m\n\u001b[0;32m      8\u001b[0m \u001b[0mridge\u001b[0m \u001b[1;33m=\u001b[0m \u001b[0mRidge\u001b[0m\u001b[1;33m(\u001b[0m\u001b[1;33m)\u001b[0m\u001b[1;33m\u001b[0m\u001b[1;33m\u001b[0m\u001b[0m\n\u001b[1;32m----> 9\u001b[1;33m pipe = Pipeline(\n\u001b[0m\u001b[0;32m     10\u001b[0m     [\n\u001b[0;32m     11\u001b[0m     \u001b[1;33m(\u001b[0m\u001b[1;34m\"standardize\"\u001b[0m\u001b[1;33m,\u001b[0m \u001b[0mStandardScaler\u001b[0m\u001b[1;33m(\u001b[0m\u001b[1;33m)\u001b[0m\u001b[1;33m)\u001b[0m\u001b[1;33m,\u001b[0m\u001b[1;33m\u001b[0m\u001b[1;33m\u001b[0m\u001b[0m\n",
      "\u001b[1;31mTypeError\u001b[0m: __init__() takes 2 positional arguments but 3 were given"
     ]
    }
   ],
   "source": [
    "# #Pipeline Model\n",
    "# X_train, X_test, y_train, y_test = train_test_split(ML_df_x, ML_df_y, test_size=0.3, random_state=42)\n",
    "# N_alpha = 12\n",
    "# N_rho   = 10\n",
    "# alphaRange = np.logspace(-10, 2, N_alpha)\n",
    "# rhoRange   = np.linspace(0.1,1, N_rho)\n",
    "# elasticnet = ElasticNet()\n",
    "# ridge = Ridge()\n",
    "# pipe = Pipeline(\n",
    "#     [\n",
    "#     (\"standardize\", StandardScaler()),\n",
    "#     (\"elasticnet\", elasticnet)\n",
    "#     ]\n",
    "# )\n",
    "\n",
    "# params = [\n",
    "#     {\n",
    "#     \"elasticnet__alpha\": alphaRange,\n",
    "#     \"elasticnet__l1_ratio\": rhoRange},\n",
    "#     {\n",
    "#     \"ridge__alpha\": alphaRange}\n",
    "# ]\n",
    "\n",
    "# kfold=KFold(n_splits=5)\n",
    "# #skfold = StratifiedKFold(n_splits=10, shuffle=True, random_state=42)\n",
    "\n",
    "# gs = GridSearchCV(pipe, params, scoring=\"r2\", cv=kfold)\n",
    "\n",
    "# start= time.time()\n",
    "# gs.fit(X_train, y_train)\n",
    "# print(time.time() - start)\n",
    "\n",
    "# print(\"The best parameters are: \", gs.best_params_)\n",
    "# print(\"The score of the training model: \", gs.score(X_train,y_train))\n",
    "# print(\"The score of the final model: \", gs.score(X_test, y_test))"
   ]
  },
  {
   "cell_type": "code",
   "execution_count": 74,
   "id": "5470a9e7",
   "metadata": {},
   "outputs": [
    {
     "data": {
      "text/plain": [
       "array([-0.00496243, -0.00717788,  0.01625957, -0.00322483,  0.01869793,\n",
       "        0.01343167, -0.02030238, -0.00100948,  0.01152202, -0.01726696,\n",
       "        0.01327371,  0.00603899,  0.01183073,  0.00576804, -0.00272857,\n",
       "       -0.00034097, -0.0059283 , -0.01945663, -0.0069032 , -0.00603799,\n",
       "       -0.01705984, -0.00961901,  0.00966657, -0.01730406,  0.00168502,\n",
       "       -0.0037923 , -0.00950873,  0.01500417,  0.0105781 , -0.00581184,\n",
       "       -0.02004672, -0.00408505, -0.01174683, -0.00199033,  0.00438118,\n",
       "        0.00029378,  0.00288392,  0.00528343,  0.00320143, -0.00016829,\n",
       "       -0.01005204, -0.00044298, -0.00311874,  0.00747448,  0.01468643,\n",
       "        0.00158137, -0.00265464, -0.00988334, -0.01088399,  0.00180797,\n",
       "       -0.00127146,  0.00684725,  0.00382038,  0.01473361, -0.00042691,\n",
       "        0.0013635 ,  0.00059692,  0.00885159,  0.00512479, -0.00560528,\n",
       "       -0.00814724, -0.0151002 ,  0.00207919, -0.02438115,  0.00518697,\n",
       "        0.01218753,  0.06698681, -0.01320011,  0.00386086,  0.01383445,\n",
       "        0.08162848,  0.04769627,  0.04115172,  0.01528372,  0.00490002,\n",
       "        0.02705393,  0.01027539,  0.0253021 ,  0.05119219,  0.03177816,\n",
       "       -0.0030835 ,  0.01484213, -0.00044608,  0.01180898,  0.0067935 ,\n",
       "       -0.00759172, -0.00794885,  0.01339429,  0.01932148,  0.00599353,\n",
       "        0.02306085,  0.00940947,  0.00420312,  0.00060304,  0.00835941,\n",
       "        0.00403706,  0.01279365, -0.00331821,  0.00102297, -0.00346528,\n",
       "       -0.00557179])"
      ]
     },
     "execution_count": 74,
     "metadata": {},
     "output_type": "execute_result"
    }
   ],
   "source": [
    "gs.best_estimator_.named_steps[\"clf\"].coef_ #coefficients for each of the independent variables of our model"
   ]
  },
  {
   "cell_type": "code",
   "execution_count": 76,
   "id": "a579f032",
   "metadata": {},
   "outputs": [
    {
     "data": {
      "text/plain": [
       "12.00238181445389"
      ]
     },
     "execution_count": 76,
     "metadata": {},
     "output_type": "execute_result"
    }
   ],
   "source": [
    "gs.best_estimator_.named_steps[\"clf\"].intercept_ #intercept for each of the independent variables of our model"
   ]
  },
  {
   "cell_type": "markdown",
   "id": "dbcce1dc",
   "metadata": {},
   "source": [
    "# Visual verification of our model fitness"
   ]
  },
  {
   "cell_type": "code",
   "execution_count": 79,
   "id": "c79673cf",
   "metadata": {},
   "outputs": [
    {
     "data": {
      "image/png": "[encoded data removed]",
      "text/plain": [
       "<Figure size 720x720 with 1 Axes>"
      ]
     },
     "metadata": {
      "needs_background": "light"
     },
     "output_type": "display_data"
    }
   ],
   "source": [
    "#y train vs predicted y from X train using our model:\n",
    "\n",
    "plt.figure(figsize=(10,10))\n",
    "plt.scatter(np.exp(y_train),np.exp(gs.predict(X_train)),c='crimson')\n",
    "plt.yscale('linear')\n",
    "plt.xscale('linear')\n",
    "\n",
    "p1 = max(max(np.exp(gs.predict(X_train))), max(np.exp(y_train)))\n",
    "p2 = min(min(np.exp(gs.predict(X_train))), min(np.exp(y_train)))\n",
    "plt.plot([p1, p2], [p1, p2], 'b-')\n",
    "plt.xlabel('y_train', fontsize=15)\n",
    "plt.ylabel('predict of y_train from X_train', fontsize=15)\n",
    "plt.axis('equal')\n",
    "plt.show()"
   ]
  },
  {
   "cell_type": "code",
   "execution_count": 160,
   "id": "70731f5c",
   "metadata": {},
   "outputs": [
    {
     "ename": "ValueError",
     "evalue": "X has 101 features, but StandardScaler is expecting 40 features as input.",
     "output_type": "error",
     "traceback": [
      "\u001b[1;31m---------------------------------------------------------------------------\u001b[0m",
      "\u001b[1;31mValueError\u001b[0m                                Traceback (most recent call last)",
      "\u001b[1;32m<ipython-input-160-9fa92d545eef>\u001b[0m in \u001b[0;36m<module>\u001b[1;34m\u001b[0m\n\u001b[0;32m      2\u001b[0m \u001b[1;33m\u001b[0m\u001b[0m\n\u001b[0;32m      3\u001b[0m \u001b[0mplt\u001b[0m\u001b[1;33m.\u001b[0m\u001b[0mfigure\u001b[0m\u001b[1;33m(\u001b[0m\u001b[0mfigsize\u001b[0m\u001b[1;33m=\u001b[0m\u001b[1;33m(\u001b[0m\u001b[1;36m10\u001b[0m\u001b[1;33m,\u001b[0m\u001b[1;36m10\u001b[0m\u001b[1;33m)\u001b[0m\u001b[1;33m)\u001b[0m\u001b[1;33m\u001b[0m\u001b[1;33m\u001b[0m\u001b[0m\n\u001b[1;32m----> 4\u001b[1;33m \u001b[0mplt\u001b[0m\u001b[1;33m.\u001b[0m\u001b[0mscatter\u001b[0m\u001b[1;33m(\u001b[0m\u001b[0mnp\u001b[0m\u001b[1;33m.\u001b[0m\u001b[0mexp\u001b[0m\u001b[1;33m(\u001b[0m\u001b[0my_test\u001b[0m\u001b[1;33m)\u001b[0m\u001b[1;33m,\u001b[0m\u001b[0mnp\u001b[0m\u001b[1;33m.\u001b[0m\u001b[0mexp\u001b[0m\u001b[1;33m(\u001b[0m\u001b[0mgs\u001b[0m\u001b[1;33m.\u001b[0m\u001b[0mpredict\u001b[0m\u001b[1;33m(\u001b[0m\u001b[0mX_test\u001b[0m\u001b[1;33m)\u001b[0m\u001b[1;33m)\u001b[0m\u001b[1;33m,\u001b[0m\u001b[0mc\u001b[0m\u001b[1;33m=\u001b[0m\u001b[1;34m'crimson'\u001b[0m\u001b[1;33m)\u001b[0m\u001b[1;33m\u001b[0m\u001b[1;33m\u001b[0m\u001b[0m\n\u001b[0m\u001b[0;32m      5\u001b[0m \u001b[0mplt\u001b[0m\u001b[1;33m.\u001b[0m\u001b[0myscale\u001b[0m\u001b[1;33m(\u001b[0m\u001b[1;34m'linear'\u001b[0m\u001b[1;33m)\u001b[0m\u001b[1;33m\u001b[0m\u001b[1;33m\u001b[0m\u001b[0m\n\u001b[0;32m      6\u001b[0m \u001b[0mplt\u001b[0m\u001b[1;33m.\u001b[0m\u001b[0mxscale\u001b[0m\u001b[1;33m(\u001b[0m\u001b[1;34m'linear'\u001b[0m\u001b[1;33m)\u001b[0m\u001b[1;33m\u001b[0m\u001b[1;33m\u001b[0m\u001b[0m\n",
      "\u001b[1;32mC:\\Anaconda\\lib\\site-packages\\sklearn\\utils\\metaestimators.py\u001b[0m in \u001b[0;36m<lambda>\u001b[1;34m(*args, **kwargs)\u001b[0m\n\u001b[0;32m    111\u001b[0m \u001b[1;33m\u001b[0m\u001b[0m\n\u001b[0;32m    112\u001b[0m             \u001b[1;31m# lambda, but not partial, allows help() to work with update_wrapper\u001b[0m\u001b[1;33m\u001b[0m\u001b[1;33m\u001b[0m\u001b[1;33m\u001b[0m\u001b[0m\n\u001b[1;32m--> 113\u001b[1;33m             \u001b[0mout\u001b[0m \u001b[1;33m=\u001b[0m \u001b[1;32mlambda\u001b[0m \u001b[1;33m*\u001b[0m\u001b[0margs\u001b[0m\u001b[1;33m,\u001b[0m \u001b[1;33m**\u001b[0m\u001b[0mkwargs\u001b[0m\u001b[1;33m:\u001b[0m \u001b[0mself\u001b[0m\u001b[1;33m.\u001b[0m\u001b[0mfn\u001b[0m\u001b[1;33m(\u001b[0m\u001b[0mobj\u001b[0m\u001b[1;33m,\u001b[0m \u001b[1;33m*\u001b[0m\u001b[0margs\u001b[0m\u001b[1;33m,\u001b[0m \u001b[1;33m**\u001b[0m\u001b[0mkwargs\u001b[0m\u001b[1;33m)\u001b[0m  \u001b[1;31m# noqa\u001b[0m\u001b[1;33m\u001b[0m\u001b[1;33m\u001b[0m\u001b[0m\n\u001b[0m\u001b[0;32m    114\u001b[0m         \u001b[1;32melse\u001b[0m\u001b[1;33m:\u001b[0m\u001b[1;33m\u001b[0m\u001b[1;33m\u001b[0m\u001b[0m\n\u001b[0;32m    115\u001b[0m \u001b[1;33m\u001b[0m\u001b[0m\n",
      "\u001b[1;32mC:\\Anaconda\\lib\\site-packages\\sklearn\\model_selection\\_search.py\u001b[0m in \u001b[0;36mpredict\u001b[1;34m(self, X)\u001b[0m\n\u001b[0;32m    519\u001b[0m         \"\"\"\n\u001b[0;32m    520\u001b[0m         \u001b[0mcheck_is_fitted\u001b[0m\u001b[1;33m(\u001b[0m\u001b[0mself\u001b[0m\u001b[1;33m)\u001b[0m\u001b[1;33m\u001b[0m\u001b[1;33m\u001b[0m\u001b[0m\n\u001b[1;32m--> 521\u001b[1;33m         \u001b[1;32mreturn\u001b[0m \u001b[0mself\u001b[0m\u001b[1;33m.\u001b[0m\u001b[0mbest_estimator_\u001b[0m\u001b[1;33m.\u001b[0m\u001b[0mpredict\u001b[0m\u001b[1;33m(\u001b[0m\u001b[0mX\u001b[0m\u001b[1;33m)\u001b[0m\u001b[1;33m\u001b[0m\u001b[1;33m\u001b[0m\u001b[0m\n\u001b[0m\u001b[0;32m    522\u001b[0m \u001b[1;33m\u001b[0m\u001b[0m\n\u001b[0;32m    523\u001b[0m     \u001b[1;33m@\u001b[0m\u001b[0mavailable_if\u001b[0m\u001b[1;33m(\u001b[0m\u001b[0m_estimator_has\u001b[0m\u001b[1;33m(\u001b[0m\u001b[1;34m\"predict_proba\"\u001b[0m\u001b[1;33m)\u001b[0m\u001b[1;33m)\u001b[0m\u001b[1;33m\u001b[0m\u001b[1;33m\u001b[0m\u001b[0m\n",
      "\u001b[1;32mC:\\Anaconda\\lib\\site-packages\\sklearn\\utils\\metaestimators.py\u001b[0m in \u001b[0;36m<lambda>\u001b[1;34m(*args, **kwargs)\u001b[0m\n\u001b[0;32m    111\u001b[0m \u001b[1;33m\u001b[0m\u001b[0m\n\u001b[0;32m    112\u001b[0m             \u001b[1;31m# lambda, but not partial, allows help() to work with update_wrapper\u001b[0m\u001b[1;33m\u001b[0m\u001b[1;33m\u001b[0m\u001b[1;33m\u001b[0m\u001b[0m\n\u001b[1;32m--> 113\u001b[1;33m             \u001b[0mout\u001b[0m \u001b[1;33m=\u001b[0m \u001b[1;32mlambda\u001b[0m \u001b[1;33m*\u001b[0m\u001b[0margs\u001b[0m\u001b[1;33m,\u001b[0m \u001b[1;33m**\u001b[0m\u001b[0mkwargs\u001b[0m\u001b[1;33m:\u001b[0m \u001b[0mself\u001b[0m\u001b[1;33m.\u001b[0m\u001b[0mfn\u001b[0m\u001b[1;33m(\u001b[0m\u001b[0mobj\u001b[0m\u001b[1;33m,\u001b[0m \u001b[1;33m*\u001b[0m\u001b[0margs\u001b[0m\u001b[1;33m,\u001b[0m \u001b[1;33m**\u001b[0m\u001b[0mkwargs\u001b[0m\u001b[1;33m)\u001b[0m  \u001b[1;31m# noqa\u001b[0m\u001b[1;33m\u001b[0m\u001b[1;33m\u001b[0m\u001b[0m\n\u001b[0m\u001b[0;32m    114\u001b[0m         \u001b[1;32melse\u001b[0m\u001b[1;33m:\u001b[0m\u001b[1;33m\u001b[0m\u001b[1;33m\u001b[0m\u001b[0m\n\u001b[0;32m    115\u001b[0m \u001b[1;33m\u001b[0m\u001b[0m\n",
      "\u001b[1;32mC:\\Anaconda\\lib\\site-packages\\sklearn\\pipeline.py\u001b[0m in \u001b[0;36mpredict\u001b[1;34m(self, X, **predict_params)\u001b[0m\n\u001b[0;32m    467\u001b[0m         \u001b[0mXt\u001b[0m \u001b[1;33m=\u001b[0m \u001b[0mX\u001b[0m\u001b[1;33m\u001b[0m\u001b[1;33m\u001b[0m\u001b[0m\n\u001b[0;32m    468\u001b[0m         \u001b[1;32mfor\u001b[0m \u001b[0m_\u001b[0m\u001b[1;33m,\u001b[0m \u001b[0mname\u001b[0m\u001b[1;33m,\u001b[0m \u001b[0mtransform\u001b[0m \u001b[1;32min\u001b[0m \u001b[0mself\u001b[0m\u001b[1;33m.\u001b[0m\u001b[0m_iter\u001b[0m\u001b[1;33m(\u001b[0m\u001b[0mwith_final\u001b[0m\u001b[1;33m=\u001b[0m\u001b[1;32mFalse\u001b[0m\u001b[1;33m)\u001b[0m\u001b[1;33m:\u001b[0m\u001b[1;33m\u001b[0m\u001b[1;33m\u001b[0m\u001b[0m\n\u001b[1;32m--> 469\u001b[1;33m             \u001b[0mXt\u001b[0m \u001b[1;33m=\u001b[0m \u001b[0mtransform\u001b[0m\u001b[1;33m.\u001b[0m\u001b[0mtransform\u001b[0m\u001b[1;33m(\u001b[0m\u001b[0mXt\u001b[0m\u001b[1;33m)\u001b[0m\u001b[1;33m\u001b[0m\u001b[1;33m\u001b[0m\u001b[0m\n\u001b[0m\u001b[0;32m    470\u001b[0m         \u001b[1;32mreturn\u001b[0m \u001b[0mself\u001b[0m\u001b[1;33m.\u001b[0m\u001b[0msteps\u001b[0m\u001b[1;33m[\u001b[0m\u001b[1;33m-\u001b[0m\u001b[1;36m1\u001b[0m\u001b[1;33m]\u001b[0m\u001b[1;33m[\u001b[0m\u001b[1;36m1\u001b[0m\u001b[1;33m]\u001b[0m\u001b[1;33m.\u001b[0m\u001b[0mpredict\u001b[0m\u001b[1;33m(\u001b[0m\u001b[0mXt\u001b[0m\u001b[1;33m,\u001b[0m \u001b[1;33m**\u001b[0m\u001b[0mpredict_params\u001b[0m\u001b[1;33m)\u001b[0m\u001b[1;33m\u001b[0m\u001b[1;33m\u001b[0m\u001b[0m\n\u001b[0;32m    471\u001b[0m \u001b[1;33m\u001b[0m\u001b[0m\n",
      "\u001b[1;32mC:\\Anaconda\\lib\\site-packages\\sklearn\\preprocessing\\_data.py\u001b[0m in \u001b[0;36mtransform\u001b[1;34m(self, X, copy)\u001b[0m\n\u001b[0;32m    971\u001b[0m \u001b[1;33m\u001b[0m\u001b[0m\n\u001b[0;32m    972\u001b[0m         \u001b[0mcopy\u001b[0m \u001b[1;33m=\u001b[0m \u001b[0mcopy\u001b[0m \u001b[1;32mif\u001b[0m \u001b[0mcopy\u001b[0m \u001b[1;32mis\u001b[0m \u001b[1;32mnot\u001b[0m \u001b[1;32mNone\u001b[0m \u001b[1;32melse\u001b[0m \u001b[0mself\u001b[0m\u001b[1;33m.\u001b[0m\u001b[0mcopy\u001b[0m\u001b[1;33m\u001b[0m\u001b[1;33m\u001b[0m\u001b[0m\n\u001b[1;32m--> 973\u001b[1;33m         X = self._validate_data(\n\u001b[0m\u001b[0;32m    974\u001b[0m             \u001b[0mX\u001b[0m\u001b[1;33m,\u001b[0m\u001b[1;33m\u001b[0m\u001b[1;33m\u001b[0m\u001b[0m\n\u001b[0;32m    975\u001b[0m             \u001b[0mreset\u001b[0m\u001b[1;33m=\u001b[0m\u001b[1;32mFalse\u001b[0m\u001b[1;33m,\u001b[0m\u001b[1;33m\u001b[0m\u001b[1;33m\u001b[0m\u001b[0m\n",
      "\u001b[1;32mC:\\Anaconda\\lib\\site-packages\\sklearn\\base.py\u001b[0m in \u001b[0;36m_validate_data\u001b[1;34m(self, X, y, reset, validate_separately, **check_params)\u001b[0m\n\u001b[0;32m    583\u001b[0m \u001b[1;33m\u001b[0m\u001b[0m\n\u001b[0;32m    584\u001b[0m         \u001b[1;32mif\u001b[0m \u001b[1;32mnot\u001b[0m \u001b[0mno_val_X\u001b[0m \u001b[1;32mand\u001b[0m \u001b[0mcheck_params\u001b[0m\u001b[1;33m.\u001b[0m\u001b[0mget\u001b[0m\u001b[1;33m(\u001b[0m\u001b[1;34m\"ensure_2d\"\u001b[0m\u001b[1;33m,\u001b[0m \u001b[1;32mTrue\u001b[0m\u001b[1;33m)\u001b[0m\u001b[1;33m:\u001b[0m\u001b[1;33m\u001b[0m\u001b[1;33m\u001b[0m\u001b[0m\n\u001b[1;32m--> 585\u001b[1;33m             \u001b[0mself\u001b[0m\u001b[1;33m.\u001b[0m\u001b[0m_check_n_features\u001b[0m\u001b[1;33m(\u001b[0m\u001b[0mX\u001b[0m\u001b[1;33m,\u001b[0m \u001b[0mreset\u001b[0m\u001b[1;33m=\u001b[0m\u001b[0mreset\u001b[0m\u001b[1;33m)\u001b[0m\u001b[1;33m\u001b[0m\u001b[1;33m\u001b[0m\u001b[0m\n\u001b[0m\u001b[0;32m    586\u001b[0m \u001b[1;33m\u001b[0m\u001b[0m\n\u001b[0;32m    587\u001b[0m         \u001b[1;32mreturn\u001b[0m \u001b[0mout\u001b[0m\u001b[1;33m\u001b[0m\u001b[1;33m\u001b[0m\u001b[0m\n",
      "\u001b[1;32mC:\\Anaconda\\lib\\site-packages\\sklearn\\base.py\u001b[0m in \u001b[0;36m_check_n_features\u001b[1;34m(self, X, reset)\u001b[0m\n\u001b[0;32m    398\u001b[0m \u001b[1;33m\u001b[0m\u001b[0m\n\u001b[0;32m    399\u001b[0m         \u001b[1;32mif\u001b[0m \u001b[0mn_features\u001b[0m \u001b[1;33m!=\u001b[0m \u001b[0mself\u001b[0m\u001b[1;33m.\u001b[0m\u001b[0mn_features_in_\u001b[0m\u001b[1;33m:\u001b[0m\u001b[1;33m\u001b[0m\u001b[1;33m\u001b[0m\u001b[0m\n\u001b[1;32m--> 400\u001b[1;33m             raise ValueError(\n\u001b[0m\u001b[0;32m    401\u001b[0m                 \u001b[1;34mf\"X has {n_features} features, but {self.__class__.__name__} \"\u001b[0m\u001b[1;33m\u001b[0m\u001b[1;33m\u001b[0m\u001b[0m\n\u001b[0;32m    402\u001b[0m                 \u001b[1;34mf\"is expecting {self.n_features_in_} features as input.\"\u001b[0m\u001b[1;33m\u001b[0m\u001b[1;33m\u001b[0m\u001b[0m\n",
      "\u001b[1;31mValueError\u001b[0m: X has 101 features, but StandardScaler is expecting 40 features as input."
     ]
    },
    {
     "data": {
      "text/plain": [
       "<Figure size 720x720 with 0 Axes>"
      ]
     },
     "metadata": {},
     "output_type": "display_data"
    }
   ],
   "source": [
    "#y test vs predicted y from X test using our model:\n",
    "\n",
    "plt.figure(figsize=(10,10))\n",
    "plt.scatter(np.exp(y_test),np.exp(gs.predict(X_test)),c='crimson')\n",
    "plt.yscale('linear')\n",
    "plt.xscale('linear')\n",
    "\n",
    "p1 = max(max(np.exp(gs.predict(X_test))), max(np.exp(y_test)))\n",
    "p2 = min(min(np.exp(gs.predict(X_test))), min(np.exp(y_test)))\n",
    "plt.plot([p1, p2], [p1, p2], 'b-')\n",
    "plt.xlabel('y_test', fontsize=15)\n",
    "plt.ylabel('predict of y_test from X_test', fontsize=15)\n",
    "plt.axis('equal')\n",
    "plt.show()"
   ]
  },
  {
   "cell_type": "markdown",
   "id": "9c48c675",
   "metadata": {},
   "source": [
    "# Time to take out the non-important and re-run our model"
   ]
  },
  {
   "cell_type": "code",
   "execution_count": 111,
   "id": "28e7d1b6",
   "metadata": {},
   "outputs": [
    {
     "data": {
      "text/plain": [
       "(101, 1)"
      ]
     },
     "execution_count": 111,
     "metadata": {},
     "output_type": "execute_result"
    }
   ],
   "source": [
    "#We get the coefficients of our model ran above\n",
    "gs.best_estimator_.named_steps[\"clf\"].coef_.reshape(-1,1).shape"
   ]
  },
  {
   "cell_type": "code",
   "execution_count": 110,
   "id": "9f04efc8",
   "metadata": {},
   "outputs": [
    {
     "data": {
      "text/plain": [
       "(101, 1)"
      ]
     },
     "execution_count": 110,
     "metadata": {},
     "output_type": "execute_result"
    }
   ],
   "source": [
    "#We get the column names of our model as well\n",
    "np.array(ML_df_x.columns).reshape(-1,1).shape"
   ]
  },
  {
   "cell_type": "code",
   "execution_count": 132,
   "id": "d3ef5846",
   "metadata": {},
   "outputs": [],
   "source": [
    "#Since the shapes match, we can concatenate our column names and related coefficients\n",
    "Feature_Coef=pd.DataFrame(\n",
    "               np.concatenate((   \n",
    "               np.array(ML_df_x.columns).reshape(-1,1), \n",
    "               gs.best_estimator_.named_steps[\"clf\"].coef_.reshape(-1,1)),\n",
    "               axis=1),\n",
    "               columns=['Features','Coefficients']\n",
    ")"
   ]
  },
  {
   "cell_type": "code",
   "execution_count": 133,
   "id": "5da3da81",
   "metadata": {},
   "outputs": [
    {
     "data": {
      "text/html": [
       "<div>\n",
       "<style scoped>\n",
       "    .dataframe tbody tr th:only-of-type {\n",
       "        vertical-align: middle;\n",
       "    }\n",
       "\n",
       "    .dataframe tbody tr th {\n",
       "        vertical-align: top;\n",
       "    }\n",
       "\n",
       "    .dataframe thead th {\n",
       "        text-align: right;\n",
       "    }\n",
       "</style>\n",
       "<table border=\"1\" class=\"dataframe\">\n",
       "  <thead>\n",
       "    <tr style=\"text-align: right;\">\n",
       "      <th></th>\n",
       "      <th>Features</th>\n",
       "      <th>Coefficients</th>\n",
       "    </tr>\n",
       "  </thead>\n",
       "  <tbody>\n",
       "    <tr>\n",
       "      <th>0</th>\n",
       "      <td>LotShape</td>\n",
       "      <td>-0.004962</td>\n",
       "    </tr>\n",
       "    <tr>\n",
       "      <th>1</th>\n",
       "      <td>LandSlope</td>\n",
       "      <td>-0.007178</td>\n",
       "    </tr>\n",
       "    <tr>\n",
       "      <th>2</th>\n",
       "      <td>Condition1</td>\n",
       "      <td>0.01626</td>\n",
       "    </tr>\n",
       "    <tr>\n",
       "      <th>3</th>\n",
       "      <td>Heating</td>\n",
       "      <td>-0.003225</td>\n",
       "    </tr>\n",
       "    <tr>\n",
       "      <th>4</th>\n",
       "      <td>CentralAir</td>\n",
       "      <td>0.018698</td>\n",
       "    </tr>\n",
       "    <tr>\n",
       "      <th>...</th>\n",
       "      <td>...</td>\n",
       "      <td>...</td>\n",
       "    </tr>\n",
       "    <tr>\n",
       "      <th>96</th>\n",
       "      <td>ScreenPorch</td>\n",
       "      <td>0.012794</td>\n",
       "    </tr>\n",
       "    <tr>\n",
       "      <th>97</th>\n",
       "      <td>PoolArea</td>\n",
       "      <td>-0.003318</td>\n",
       "    </tr>\n",
       "    <tr>\n",
       "      <th>98</th>\n",
       "      <td>MiscVal</td>\n",
       "      <td>0.001023</td>\n",
       "    </tr>\n",
       "    <tr>\n",
       "      <th>99</th>\n",
       "      <td>MoSold</td>\n",
       "      <td>-0.003465</td>\n",
       "    </tr>\n",
       "    <tr>\n",
       "      <th>100</th>\n",
       "      <td>YrSold</td>\n",
       "      <td>-0.005572</td>\n",
       "    </tr>\n",
       "  </tbody>\n",
       "</table>\n",
       "<p>101 rows × 2 columns</p>\n",
       "</div>"
      ],
      "text/plain": [
       "        Features Coefficients\n",
       "0       LotShape    -0.004962\n",
       "1      LandSlope    -0.007178\n",
       "2     Condition1      0.01626\n",
       "3        Heating    -0.003225\n",
       "4     CentralAir     0.018698\n",
       "..           ...          ...\n",
       "96   ScreenPorch     0.012794\n",
       "97      PoolArea    -0.003318\n",
       "98       MiscVal     0.001023\n",
       "99        MoSold    -0.003465\n",
       "100       YrSold    -0.005572\n",
       "\n",
       "[101 rows x 2 columns]"
      ]
     },
     "execution_count": 133,
     "metadata": {},
     "output_type": "execute_result"
    }
   ],
   "source": [
    "Feature_Coef"
   ]
  },
  {
   "cell_type": "code",
   "execution_count": 134,
   "id": "29ab961f",
   "metadata": {},
   "outputs": [],
   "source": [
    "#Now we add another column that shows the absolute value of coefficients\n",
    "Feature_Coef['Coefficients_abs']=abs(Feature_Coef.Coefficients)"
   ]
  },
  {
   "cell_type": "code",
   "execution_count": 135,
   "id": "1bc2ac43",
   "metadata": {},
   "outputs": [],
   "source": [
    "#Sort the datafram based on Coefficient Importance and assign back to Feature_Coef\n",
    "Feature_Coef=Feature_Coef.sort_values(by='Coefficients_abs',ascending=False).reset_index(drop=True)"
   ]
  },
  {
   "cell_type": "code",
   "execution_count": 149,
   "id": "81cd03ed",
   "metadata": {},
   "outputs": [],
   "source": [
    "#We set 1% Coefficient_abs as a threshold\n",
    "Feature_Coef01=Feature_Coef[Feature_Coef.Coefficients_abs>0.01]"
   ]
  },
  {
   "cell_type": "code",
   "execution_count": 150,
   "id": "92bb4a6a",
   "metadata": {},
   "outputs": [
    {
     "data": {
      "text/plain": [
       "40"
      ]
     },
     "execution_count": 150,
     "metadata": {},
     "output_type": "execute_result"
    }
   ],
   "source": [
    "Feature_Coef01.shape[0]"
   ]
  },
  {
   "cell_type": "code",
   "execution_count": 151,
   "id": "b33e7879",
   "metadata": {},
   "outputs": [],
   "source": [
    "#Now We get these 40 features as the features for our independent variables.\n",
    "Feature_Coef01=Feature_Coef01.Features.tolist()\n",
    "ML_df_x40=ML_df_x[Feature_Coef01]"
   ]
  },
  {
   "cell_type": "code",
   "execution_count": 152,
   "id": "06f56e9b",
   "metadata": {},
   "outputs": [
    {
     "data": {
      "text/html": [
       "<div>\n",
       "<style scoped>\n",
       "    .dataframe tbody tr th:only-of-type {\n",
       "        vertical-align: middle;\n",
       "    }\n",
       "\n",
       "    .dataframe tbody tr th {\n",
       "        vertical-align: top;\n",
       "    }\n",
       "\n",
       "    .dataframe thead th {\n",
       "        text-align: right;\n",
       "    }\n",
       "</style>\n",
       "<table border=\"1\" class=\"dataframe\">\n",
       "  <thead>\n",
       "    <tr style=\"text-align: right;\">\n",
       "      <th></th>\n",
       "      <th>OverallQual</th>\n",
       "      <th>GrLivArea</th>\n",
       "      <th>1stFlrSF</th>\n",
       "      <th>OverallCond</th>\n",
       "      <th>YearBuilt</th>\n",
       "      <th>2ndFlrSF</th>\n",
       "      <th>BsmtFinSF1</th>\n",
       "      <th>TotalBsmtSF</th>\n",
       "      <th>KitchenQual_TA</th>\n",
       "      <th>GarageCars</th>\n",
       "      <th>MSZoning_Non-residential</th>\n",
       "      <th>BldgType_Twnhs</th>\n",
       "      <th>Neighborhood_Edwards</th>\n",
       "      <th>Fireplaces</th>\n",
       "      <th>CentralAir</th>\n",
       "      <th>Neighborhood_OldTown</th>\n",
       "      <th>MSZoning_RM</th>\n",
       "      <th>Neighborhood_NAmes</th>\n",
       "      <th>Condition1</th>\n",
       "      <th>YearRemodAdd</th>\n",
       "      <th>KitchenQual_Gd</th>\n",
       "      <th>Neighborhood_Somerst</th>\n",
       "      <th>BsmtFullBath</th>\n",
       "      <th>Foundation_PConc</th>\n",
       "      <th>Exterior2nd_Wd Sdng</th>\n",
       "      <th>LotArea</th>\n",
       "      <th>Functional</th>\n",
       "      <th>TotRmsAbvGrd</th>\n",
       "      <th>LandContour_HLS</th>\n",
       "      <th>MSSubClass</th>\n",
       "      <th>ScreenPorch</th>\n",
       "      <th>PavedDrive_Y</th>\n",
       "      <th>LandContour_Lvl</th>\n",
       "      <th>FullBath</th>\n",
       "      <th>HouseStyle_1Story</th>\n",
       "      <th>MSZoning_RL</th>\n",
       "      <th>ExterCond_Fa</th>\n",
       "      <th>BldgType_2fmCon</th>\n",
       "      <th>BsmtFinSF2</th>\n",
       "      <th>Exterior1st_Wd Sdng</th>\n",
       "    </tr>\n",
       "  </thead>\n",
       "  <tbody>\n",
       "    <tr>\n",
       "      <th>1</th>\n",
       "      <td>6</td>\n",
       "      <td>856</td>\n",
       "      <td>856</td>\n",
       "      <td>6</td>\n",
       "      <td>1939</td>\n",
       "      <td>0</td>\n",
       "      <td>238.0</td>\n",
       "      <td>856.0</td>\n",
       "      <td>1</td>\n",
       "      <td>2.0</td>\n",
       "      <td>0</td>\n",
       "      <td>0</td>\n",
       "      <td>0</td>\n",
       "      <td>1</td>\n",
       "      <td>1</td>\n",
       "      <td>0</td>\n",
       "      <td>0</td>\n",
       "      <td>0</td>\n",
       "      <td>1</td>\n",
       "      <td>1950</td>\n",
       "      <td>0</td>\n",
       "      <td>0</td>\n",
       "      <td>1.0</td>\n",
       "      <td>0</td>\n",
       "      <td>1</td>\n",
       "      <td>7890</td>\n",
       "      <td>1</td>\n",
       "      <td>4</td>\n",
       "      <td>0</td>\n",
       "      <td>30</td>\n",
       "      <td>166</td>\n",
       "      <td>1</td>\n",
       "      <td>1</td>\n",
       "      <td>1</td>\n",
       "      <td>1</td>\n",
       "      <td>1</td>\n",
       "      <td>0</td>\n",
       "      <td>0</td>\n",
       "      <td>0.0</td>\n",
       "      <td>1</td>\n",
       "    </tr>\n",
       "    <tr>\n",
       "      <th>2</th>\n",
       "      <td>5</td>\n",
       "      <td>1049</td>\n",
       "      <td>1049</td>\n",
       "      <td>5</td>\n",
       "      <td>1984</td>\n",
       "      <td>0</td>\n",
       "      <td>552.0</td>\n",
       "      <td>1049.0</td>\n",
       "      <td>0</td>\n",
       "      <td>1.0</td>\n",
       "      <td>0</td>\n",
       "      <td>0</td>\n",
       "      <td>1</td>\n",
       "      <td>0</td>\n",
       "      <td>1</td>\n",
       "      <td>0</td>\n",
       "      <td>0</td>\n",
       "      <td>0</td>\n",
       "      <td>1</td>\n",
       "      <td>1984</td>\n",
       "      <td>1</td>\n",
       "      <td>0</td>\n",
       "      <td>1.0</td>\n",
       "      <td>0</td>\n",
       "      <td>0</td>\n",
       "      <td>4235</td>\n",
       "      <td>1</td>\n",
       "      <td>5</td>\n",
       "      <td>0</td>\n",
       "      <td>120</td>\n",
       "      <td>0</td>\n",
       "      <td>1</td>\n",
       "      <td>1</td>\n",
       "      <td>2</td>\n",
       "      <td>1</td>\n",
       "      <td>1</td>\n",
       "      <td>0</td>\n",
       "      <td>0</td>\n",
       "      <td>393.0</td>\n",
       "      <td>0</td>\n",
       "    </tr>\n",
       "    <tr>\n",
       "      <th>3</th>\n",
       "      <td>5</td>\n",
       "      <td>1001</td>\n",
       "      <td>1001</td>\n",
       "      <td>9</td>\n",
       "      <td>1930</td>\n",
       "      <td>0</td>\n",
       "      <td>737.0</td>\n",
       "      <td>837.0</td>\n",
       "      <td>0</td>\n",
       "      <td>1.0</td>\n",
       "      <td>1</td>\n",
       "      <td>0</td>\n",
       "      <td>0</td>\n",
       "      <td>0</td>\n",
       "      <td>1</td>\n",
       "      <td>0</td>\n",
       "      <td>0</td>\n",
       "      <td>0</td>\n",
       "      <td>1</td>\n",
       "      <td>2007</td>\n",
       "      <td>1</td>\n",
       "      <td>0</td>\n",
       "      <td>0.0</td>\n",
       "      <td>0</td>\n",
       "      <td>0</td>\n",
       "      <td>6060</td>\n",
       "      <td>1</td>\n",
       "      <td>5</td>\n",
       "      <td>0</td>\n",
       "      <td>30</td>\n",
       "      <td>0</td>\n",
       "      <td>0</td>\n",
       "      <td>1</td>\n",
       "      <td>1</td>\n",
       "      <td>1</td>\n",
       "      <td>0</td>\n",
       "      <td>0</td>\n",
       "      <td>0</td>\n",
       "      <td>0.0</td>\n",
       "      <td>0</td>\n",
       "    </tr>\n",
       "    <tr>\n",
       "      <th>4</th>\n",
       "      <td>4</td>\n",
       "      <td>1039</td>\n",
       "      <td>717</td>\n",
       "      <td>8</td>\n",
       "      <td>1900</td>\n",
       "      <td>322</td>\n",
       "      <td>0.0</td>\n",
       "      <td>405.0</td>\n",
       "      <td>1</td>\n",
       "      <td>1.0</td>\n",
       "      <td>0</td>\n",
       "      <td>0</td>\n",
       "      <td>0</td>\n",
       "      <td>0</td>\n",
       "      <td>1</td>\n",
       "      <td>1</td>\n",
       "      <td>0</td>\n",
       "      <td>0</td>\n",
       "      <td>1</td>\n",
       "      <td>2003</td>\n",
       "      <td>0</td>\n",
       "      <td>0</td>\n",
       "      <td>0.0</td>\n",
       "      <td>0</td>\n",
       "      <td>0</td>\n",
       "      <td>8146</td>\n",
       "      <td>1</td>\n",
       "      <td>6</td>\n",
       "      <td>0</td>\n",
       "      <td>70</td>\n",
       "      <td>111</td>\n",
       "      <td>0</td>\n",
       "      <td>1</td>\n",
       "      <td>1</td>\n",
       "      <td>0</td>\n",
       "      <td>1</td>\n",
       "      <td>0</td>\n",
       "      <td>0</td>\n",
       "      <td>0.0</td>\n",
       "      <td>0</td>\n",
       "    </tr>\n",
       "    <tr>\n",
       "      <th>5</th>\n",
       "      <td>8</td>\n",
       "      <td>1665</td>\n",
       "      <td>810</td>\n",
       "      <td>6</td>\n",
       "      <td>2001</td>\n",
       "      <td>855</td>\n",
       "      <td>643.0</td>\n",
       "      <td>810.0</td>\n",
       "      <td>0</td>\n",
       "      <td>2.0</td>\n",
       "      <td>0</td>\n",
       "      <td>0</td>\n",
       "      <td>0</td>\n",
       "      <td>0</td>\n",
       "      <td>1</td>\n",
       "      <td>0</td>\n",
       "      <td>0</td>\n",
       "      <td>0</td>\n",
       "      <td>1</td>\n",
       "      <td>2001</td>\n",
       "      <td>1</td>\n",
       "      <td>0</td>\n",
       "      <td>1.0</td>\n",
       "      <td>1</td>\n",
       "      <td>0</td>\n",
       "      <td>8400</td>\n",
       "      <td>1</td>\n",
       "      <td>6</td>\n",
       "      <td>0</td>\n",
       "      <td>60</td>\n",
       "      <td>0</td>\n",
       "      <td>1</td>\n",
       "      <td>1</td>\n",
       "      <td>2</td>\n",
       "      <td>0</td>\n",
       "      <td>1</td>\n",
       "      <td>0</td>\n",
       "      <td>0</td>\n",
       "      <td>0.0</td>\n",
       "      <td>0</td>\n",
       "    </tr>\n",
       "    <tr>\n",
       "      <th>...</th>\n",
       "      <td>...</td>\n",
       "      <td>...</td>\n",
       "      <td>...</td>\n",
       "      <td>...</td>\n",
       "      <td>...</td>\n",
       "      <td>...</td>\n",
       "      <td>...</td>\n",
       "      <td>...</td>\n",
       "      <td>...</td>\n",
       "      <td>...</td>\n",
       "      <td>...</td>\n",
       "      <td>...</td>\n",
       "      <td>...</td>\n",
       "      <td>...</td>\n",
       "      <td>...</td>\n",
       "      <td>...</td>\n",
       "      <td>...</td>\n",
       "      <td>...</td>\n",
       "      <td>...</td>\n",
       "      <td>...</td>\n",
       "      <td>...</td>\n",
       "      <td>...</td>\n",
       "      <td>...</td>\n",
       "      <td>...</td>\n",
       "      <td>...</td>\n",
       "      <td>...</td>\n",
       "      <td>...</td>\n",
       "      <td>...</td>\n",
       "      <td>...</td>\n",
       "      <td>...</td>\n",
       "      <td>...</td>\n",
       "      <td>...</td>\n",
       "      <td>...</td>\n",
       "      <td>...</td>\n",
       "      <td>...</td>\n",
       "      <td>...</td>\n",
       "      <td>...</td>\n",
       "      <td>...</td>\n",
       "      <td>...</td>\n",
       "      <td>...</td>\n",
       "    </tr>\n",
       "    <tr>\n",
       "      <th>759</th>\n",
       "      <td>6</td>\n",
       "      <td>952</td>\n",
       "      <td>952</td>\n",
       "      <td>6</td>\n",
       "      <td>1916</td>\n",
       "      <td>0</td>\n",
       "      <td>0.0</td>\n",
       "      <td>952.0</td>\n",
       "      <td>0</td>\n",
       "      <td>1.0</td>\n",
       "      <td>0</td>\n",
       "      <td>0</td>\n",
       "      <td>0</td>\n",
       "      <td>1</td>\n",
       "      <td>0</td>\n",
       "      <td>0</td>\n",
       "      <td>0</td>\n",
       "      <td>0</td>\n",
       "      <td>1</td>\n",
       "      <td>1950</td>\n",
       "      <td>0</td>\n",
       "      <td>0</td>\n",
       "      <td>0.0</td>\n",
       "      <td>0</td>\n",
       "      <td>1</td>\n",
       "      <td>8854</td>\n",
       "      <td>1</td>\n",
       "      <td>4</td>\n",
       "      <td>0</td>\n",
       "      <td>30</td>\n",
       "      <td>40</td>\n",
       "      <td>0</td>\n",
       "      <td>1</td>\n",
       "      <td>1</td>\n",
       "      <td>0</td>\n",
       "      <td>1</td>\n",
       "      <td>0</td>\n",
       "      <td>0</td>\n",
       "      <td>0.0</td>\n",
       "      <td>1</td>\n",
       "    </tr>\n",
       "    <tr>\n",
       "      <th>760</th>\n",
       "      <td>3</td>\n",
       "      <td>1733</td>\n",
       "      <td>1733</td>\n",
       "      <td>5</td>\n",
       "      <td>1955</td>\n",
       "      <td>0</td>\n",
       "      <td>0.0</td>\n",
       "      <td>0.0</td>\n",
       "      <td>1</td>\n",
       "      <td>2.0</td>\n",
       "      <td>0</td>\n",
       "      <td>0</td>\n",
       "      <td>1</td>\n",
       "      <td>1</td>\n",
       "      <td>1</td>\n",
       "      <td>0</td>\n",
       "      <td>0</td>\n",
       "      <td>0</td>\n",
       "      <td>1</td>\n",
       "      <td>1955</td>\n",
       "      <td>0</td>\n",
       "      <td>0</td>\n",
       "      <td>0.0</td>\n",
       "      <td>0</td>\n",
       "      <td>1</td>\n",
       "      <td>13680</td>\n",
       "      <td>0</td>\n",
       "      <td>8</td>\n",
       "      <td>0</td>\n",
       "      <td>20</td>\n",
       "      <td>0</td>\n",
       "      <td>1</td>\n",
       "      <td>1</td>\n",
       "      <td>2</td>\n",
       "      <td>1</td>\n",
       "      <td>1</td>\n",
       "      <td>0</td>\n",
       "      <td>0</td>\n",
       "      <td>0.0</td>\n",
       "      <td>0</td>\n",
       "    </tr>\n",
       "    <tr>\n",
       "      <th>761</th>\n",
       "      <td>5</td>\n",
       "      <td>2002</td>\n",
       "      <td>1001</td>\n",
       "      <td>6</td>\n",
       "      <td>1949</td>\n",
       "      <td>1001</td>\n",
       "      <td>284.0</td>\n",
       "      <td>1001.0</td>\n",
       "      <td>1</td>\n",
       "      <td>3.0</td>\n",
       "      <td>0</td>\n",
       "      <td>0</td>\n",
       "      <td>0</td>\n",
       "      <td>0</td>\n",
       "      <td>0</td>\n",
       "      <td>0</td>\n",
       "      <td>0</td>\n",
       "      <td>0</td>\n",
       "      <td>1</td>\n",
       "      <td>1950</td>\n",
       "      <td>0</td>\n",
       "      <td>0</td>\n",
       "      <td>0.0</td>\n",
       "      <td>0</td>\n",
       "      <td>0</td>\n",
       "      <td>6270</td>\n",
       "      <td>1</td>\n",
       "      <td>8</td>\n",
       "      <td>1</td>\n",
       "      <td>90</td>\n",
       "      <td>0</td>\n",
       "      <td>1</td>\n",
       "      <td>0</td>\n",
       "      <td>2</td>\n",
       "      <td>0</td>\n",
       "      <td>0</td>\n",
       "      <td>0</td>\n",
       "      <td>0</td>\n",
       "      <td>0.0</td>\n",
       "      <td>0</td>\n",
       "    </tr>\n",
       "    <tr>\n",
       "      <th>762</th>\n",
       "      <td>7</td>\n",
       "      <td>1842</td>\n",
       "      <td>985</td>\n",
       "      <td>5</td>\n",
       "      <td>2000</td>\n",
       "      <td>857</td>\n",
       "      <td>841.0</td>\n",
       "      <td>985.0</td>\n",
       "      <td>0</td>\n",
       "      <td>2.0</td>\n",
       "      <td>0</td>\n",
       "      <td>0</td>\n",
       "      <td>0</td>\n",
       "      <td>1</td>\n",
       "      <td>1</td>\n",
       "      <td>0</td>\n",
       "      <td>0</td>\n",
       "      <td>0</td>\n",
       "      <td>1</td>\n",
       "      <td>2000</td>\n",
       "      <td>1</td>\n",
       "      <td>0</td>\n",
       "      <td>1.0</td>\n",
       "      <td>1</td>\n",
       "      <td>0</td>\n",
       "      <td>8826</td>\n",
       "      <td>1</td>\n",
       "      <td>7</td>\n",
       "      <td>0</td>\n",
       "      <td>60</td>\n",
       "      <td>0</td>\n",
       "      <td>1</td>\n",
       "      <td>1</td>\n",
       "      <td>2</td>\n",
       "      <td>0</td>\n",
       "      <td>1</td>\n",
       "      <td>0</td>\n",
       "      <td>0</td>\n",
       "      <td>0.0</td>\n",
       "      <td>0</td>\n",
       "    </tr>\n",
       "    <tr>\n",
       "      <th>763</th>\n",
       "      <td>8</td>\n",
       "      <td>1911</td>\n",
       "      <td>1065</td>\n",
       "      <td>5</td>\n",
       "      <td>1993</td>\n",
       "      <td>846</td>\n",
       "      <td>380.0</td>\n",
       "      <td>777.0</td>\n",
       "      <td>0</td>\n",
       "      <td>2.0</td>\n",
       "      <td>0</td>\n",
       "      <td>0</td>\n",
       "      <td>0</td>\n",
       "      <td>1</td>\n",
       "      <td>1</td>\n",
       "      <td>0</td>\n",
       "      <td>0</td>\n",
       "      <td>0</td>\n",
       "      <td>1</td>\n",
       "      <td>1994</td>\n",
       "      <td>1</td>\n",
       "      <td>0</td>\n",
       "      <td>0.0</td>\n",
       "      <td>1</td>\n",
       "      <td>0</td>\n",
       "      <td>9554</td>\n",
       "      <td>1</td>\n",
       "      <td>8</td>\n",
       "      <td>0</td>\n",
       "      <td>60</td>\n",
       "      <td>0</td>\n",
       "      <td>1</td>\n",
       "      <td>1</td>\n",
       "      <td>2</td>\n",
       "      <td>0</td>\n",
       "      <td>1</td>\n",
       "      <td>0</td>\n",
       "      <td>0</td>\n",
       "      <td>0.0</td>\n",
       "      <td>0</td>\n",
       "    </tr>\n",
       "  </tbody>\n",
       "</table>\n",
       "<p>2580 rows × 40 columns</p>\n",
       "</div>"
      ],
      "text/plain": [
       "     OverallQual  GrLivArea  1stFlrSF  OverallCond  YearBuilt  2ndFlrSF  \\\n",
       "1              6        856       856            6       1939         0   \n",
       "2              5       1049      1049            5       1984         0   \n",
       "3              5       1001      1001            9       1930         0   \n",
       "4              4       1039       717            8       1900       322   \n",
       "5              8       1665       810            6       2001       855   \n",
       "..           ...        ...       ...          ...        ...       ...   \n",
       "759            6        952       952            6       1916         0   \n",
       "760            3       1733      1733            5       1955         0   \n",
       "761            5       2002      1001            6       1949      1001   \n",
       "762            7       1842       985            5       2000       857   \n",
       "763            8       1911      1065            5       1993       846   \n",
       "\n",
       "     BsmtFinSF1  TotalBsmtSF  KitchenQual_TA  GarageCars  \\\n",
       "1         238.0        856.0               1         2.0   \n",
       "2         552.0       1049.0               0         1.0   \n",
       "3         737.0        837.0               0         1.0   \n",
       "4           0.0        405.0               1         1.0   \n",
       "5         643.0        810.0               0         2.0   \n",
       "..          ...          ...             ...         ...   \n",
       "759         0.0        952.0               0         1.0   \n",
       "760         0.0          0.0               1         2.0   \n",
       "761       284.0       1001.0               1         3.0   \n",
       "762       841.0        985.0               0         2.0   \n",
       "763       380.0        777.0               0         2.0   \n",
       "\n",
       "     MSZoning_Non-residential  BldgType_Twnhs  Neighborhood_Edwards  \\\n",
       "1                           0               0                     0   \n",
       "2                           0               0                     1   \n",
       "3                           1               0                     0   \n",
       "4                           0               0                     0   \n",
       "5                           0               0                     0   \n",
       "..                        ...             ...                   ...   \n",
       "759                         0               0                     0   \n",
       "760                         0               0                     1   \n",
       "761                         0               0                     0   \n",
       "762                         0               0                     0   \n",
       "763                         0               0                     0   \n",
       "\n",
       "     Fireplaces  CentralAir  Neighborhood_OldTown  MSZoning_RM  \\\n",
       "1             1           1                     0            0   \n",
       "2             0           1                     0            0   \n",
       "3             0           1                     0            0   \n",
       "4             0           1                     1            0   \n",
       "5             0           1                     0            0   \n",
       "..          ...         ...                   ...          ...   \n",
       "759           1           0                     0            0   \n",
       "760           1           1                     0            0   \n",
       "761           0           0                     0            0   \n",
       "762           1           1                     0            0   \n",
       "763           1           1                     0            0   \n",
       "\n",
       "     Neighborhood_NAmes  Condition1  YearRemodAdd  KitchenQual_Gd  \\\n",
       "1                     0           1          1950               0   \n",
       "2                     0           1          1984               1   \n",
       "3                     0           1          2007               1   \n",
       "4                     0           1          2003               0   \n",
       "5                     0           1          2001               1   \n",
       "..                  ...         ...           ...             ...   \n",
       "759                   0           1          1950               0   \n",
       "760                   0           1          1955               0   \n",
       "761                   0           1          1950               0   \n",
       "762                   0           1          2000               1   \n",
       "763                   0           1          1994               1   \n",
       "\n",
       "     Neighborhood_Somerst  BsmtFullBath  Foundation_PConc  \\\n",
       "1                       0           1.0                 0   \n",
       "2                       0           1.0                 0   \n",
       "3                       0           0.0                 0   \n",
       "4                       0           0.0                 0   \n",
       "5                       0           1.0                 1   \n",
       "..                    ...           ...               ...   \n",
       "759                     0           0.0                 0   \n",
       "760                     0           0.0                 0   \n",
       "761                     0           0.0                 0   \n",
       "762                     0           1.0                 1   \n",
       "763                     0           0.0                 1   \n",
       "\n",
       "     Exterior2nd_Wd Sdng  LotArea  Functional  TotRmsAbvGrd  LandContour_HLS  \\\n",
       "1                      1     7890           1             4                0   \n",
       "2                      0     4235           1             5                0   \n",
       "3                      0     6060           1             5                0   \n",
       "4                      0     8146           1             6                0   \n",
       "5                      0     8400           1             6                0   \n",
       "..                   ...      ...         ...           ...              ...   \n",
       "759                    1     8854           1             4                0   \n",
       "760                    1    13680           0             8                0   \n",
       "761                    0     6270           1             8                1   \n",
       "762                    0     8826           1             7                0   \n",
       "763                    0     9554           1             8                0   \n",
       "\n",
       "     MSSubClass  ScreenPorch  PavedDrive_Y  LandContour_Lvl  FullBath  \\\n",
       "1            30          166             1                1         1   \n",
       "2           120            0             1                1         2   \n",
       "3            30            0             0                1         1   \n",
       "4            70          111             0                1         1   \n",
       "5            60            0             1                1         2   \n",
       "..          ...          ...           ...              ...       ...   \n",
       "759          30           40             0                1         1   \n",
       "760          20            0             1                1         2   \n",
       "761          90            0             1                0         2   \n",
       "762          60            0             1                1         2   \n",
       "763          60            0             1                1         2   \n",
       "\n",
       "     HouseStyle_1Story  MSZoning_RL  ExterCond_Fa  BldgType_2fmCon  \\\n",
       "1                    1            1             0                0   \n",
       "2                    1            1             0                0   \n",
       "3                    1            0             0                0   \n",
       "4                    0            1             0                0   \n",
       "5                    0            1             0                0   \n",
       "..                 ...          ...           ...              ...   \n",
       "759                  0            1             0                0   \n",
       "760                  1            1             0                0   \n",
       "761                  0            0             0                0   \n",
       "762                  0            1             0                0   \n",
       "763                  0            1             0                0   \n",
       "\n",
       "     BsmtFinSF2  Exterior1st_Wd Sdng  \n",
       "1           0.0                    1  \n",
       "2         393.0                    0  \n",
       "3           0.0                    0  \n",
       "4           0.0                    0  \n",
       "5           0.0                    0  \n",
       "..          ...                  ...  \n",
       "759         0.0                    1  \n",
       "760         0.0                    0  \n",
       "761         0.0                    0  \n",
       "762         0.0                    0  \n",
       "763         0.0                    0  \n",
       "\n",
       "[2580 rows x 40 columns]"
      ]
     },
     "execution_count": 152,
     "metadata": {},
     "output_type": "execute_result"
    }
   ],
   "source": [
    "ML_df_x40"
   ]
  },
  {
   "cell_type": "code",
   "execution_count": 156,
   "id": "2eb371ab",
   "metadata": {},
   "outputs": [
    {
     "name": "stdout",
     "output_type": "stream",
     "text": [
      "0.10854101181030273\n",
      "The alpha we used is:  {'ridge__alpha': 62.60516572014828}\n",
      "The score of the training model:  0.907600059814199\n",
      "The score of the final model:  0.9213221937229754\n"
     ]
    }
   ],
   "source": [
    "#Pipeline Model\n",
    "X_train40, X_test40, y_train40, y_test40 = train_test_split(ML_df_x40, ML_df_y, test_size=0.3, random_state=42)\n",
    "alpha=[62.60516572014828]\n",
    "ridge = Ridge() #we use alpha we got from our gridsearch process above\n",
    "pipe = Pipeline(\n",
    "    [\n",
    "    (\"standardize\", StandardScaler()),\n",
    "    (\"ridge\", ridge)\n",
    "    ]\n",
    ")\n",
    "\n",
    "params = [\n",
    "    {\n",
    "    \"ridge__alpha\": alpha}\n",
    "]\n",
    "\n",
    "kfold=KFold(n_splits=5)\n",
    "#skfold = StratifiedKFold(n_splits=10, shuffle=True, random_state=42)\n",
    "\n",
    "gs = GridSearchCV(pipe, params, scoring=\"r2\", cv=kfold)\n",
    "\n",
    "start= time.time()\n",
    "gs.fit(X_train40, y_train40)\n",
    "print(time.time() - start)\n",
    "\n",
    "print(\"The alpha we used is: \", gs.best_params_)\n",
    "print(\"The score of the training model: \", gs.score(X_train40,y_train40))\n",
    "print(\"The score of the final model: \", gs.score(X_test40, y_test40))"
   ]
  },
  {
   "cell_type": "code",
   "execution_count": 157,
   "id": "9696564c",
   "metadata": {},
   "outputs": [
    {
     "data": {
      "text/plain": [
       "array([ 9.69717720e-02,  7.00008050e-02,  5.41350201e-02,  4.62442845e-02,\n",
       "        4.08889032e-02,  3.49978600e-02,  3.06154787e-02,  2.86618171e-02,\n",
       "       -2.70674432e-02,  3.72776340e-02, -1.74550787e-02, -1.42436577e-02,\n",
       "       -1.58375006e-02,  2.24004627e-02,  2.03587404e-02, -1.49736362e-02,\n",
       "       -1.42521527e-02, -1.16195367e-02,  1.97698750e-02,  1.97118084e-02,\n",
       "       -1.27392224e-02,  1.79852872e-02,  1.25108080e-02,  1.87351211e-02,\n",
       "        1.62848684e-02,  1.80852132e-02,  1.12425800e-02,  2.83273161e-03,\n",
       "        1.27815604e-02, -2.20419567e-02,  1.18742326e-02,  9.19718440e-03,\n",
       "        3.45615869e-03, -8.51007604e-05, -1.82825290e-02,  1.19269453e-02,\n",
       "       -1.06216846e-02,  1.30416965e-02,  1.05481191e-02, -1.38843588e-02])"
      ]
     },
     "execution_count": 157,
     "metadata": {},
     "output_type": "execute_result"
    }
   ],
   "source": [
    "gs.best_estimator_.named_steps[\"ridge\"].coef_ #Same process as above, we get coefficients"
   ]
  },
  {
   "cell_type": "code",
   "execution_count": 158,
   "id": "b228935b",
   "metadata": {},
   "outputs": [
    {
     "data": {
      "text/plain": [
       "12.00238181445389"
      ]
     },
     "execution_count": 158,
     "metadata": {},
     "output_type": "execute_result"
    }
   ],
   "source": [
    "gs.best_estimator_.named_steps[\"ridge\"].intercept_ #Intercept"
   ]
  },
  {
   "cell_type": "code",
   "execution_count": 159,
   "id": "d9ead1fe",
   "metadata": {},
   "outputs": [
    {
     "data": {
      "image/png": "[encoded data removed]",
      "text/plain": [
       "<Figure size 720x720 with 1 Axes>"
      ]
     },
     "metadata": {
      "needs_background": "light"
     },
     "output_type": "display_data"
    }
   ],
   "source": [
    "#y train40 vs predicted y from X train40 using our model:\n",
    "\n",
    "plt.figure(figsize=(10,10))\n",
    "plt.scatter(np.exp(y_train40),np.exp(gs.predict(X_train40)),c='crimson')\n",
    "plt.yscale('linear')\n",
    "plt.xscale('linear')\n",
    "\n",
    "p1 = max(max(np.exp(gs.predict(X_train40))), max(np.exp(y_train40)))\n",
    "p2 = min(min(np.exp(gs.predict(X_train40))), min(np.exp(y_train40)))\n",
    "plt.plot([p1, p2], [p1, p2], 'b-')\n",
    "plt.xlabel('y_train', fontsize=15)\n",
    "plt.ylabel('predict of y_train from X_train', fontsize=15)\n",
    "plt.axis('equal')\n",
    "plt.show()"
   ]
  },
  {
   "cell_type": "code",
   "execution_count": 161,
   "id": "ed27b5dd",
   "metadata": {},
   "outputs": [
    {
     "data": {
      "image/png": "[encoded data removed]",
      "text/plain": [
       "<Figure size 720x720 with 1 Axes>"
      ]
     },
     "metadata": {
      "needs_background": "light"
     },
     "output_type": "display_data"
    }
   ],
   "source": [
    "#y test40 vs predicted y from X40 test using our model:\n",
    "\n",
    "plt.figure(figsize=(10,10))\n",
    "plt.scatter(np.exp(y_test40),np.exp(gs.predict(X_test40)),c='crimson')\n",
    "plt.yscale('linear')\n",
    "plt.xscale('linear')\n",
    "\n",
    "p1 = max(max(np.exp(gs.predict(X_test40))), max(np.exp(y_test40)))\n",
    "p2 = min(min(np.exp(gs.predict(X_test40))), min(np.exp(y_test40)))\n",
    "plt.plot([p1, p2], [p1, p2], 'b-')\n",
    "plt.xlabel('y_test', fontsize=15)\n",
    "plt.ylabel('predict of y_test from X_test', fontsize=15)\n",
    "plt.axis('equal')\n",
    "plt.show()"
   ]
  },
  {
   "cell_type": "code",
   "execution_count": 163,
   "id": "ae8827c9",
   "metadata": {},
   "outputs": [
    {
     "data": {
      "text/plain": [
       "(dtype('float64'),\n",
       " 1      1939.0\n",
       " 2      1984.0\n",
       " 3      1930.0\n",
       " 4      1940.0\n",
       " 5      2001.0\n",
       "         ...  \n",
       " 759    1916.0\n",
       " 760    1955.0\n",
       " 761    1949.0\n",
       " 762    2000.0\n",
       " 763    1993.0\n",
       " Name: GarageYrBlt, Length: 2580, dtype: float64)"
      ]
     },
     "execution_count": 163,
     "metadata": {},
     "output_type": "execute_result"
    }
   ],
   "source": [
    "ML_df_x.GarageYrBlt.dtype, ML_df_x.GarageYrBlt"
   ]
  },
  {
   "cell_type": "code",
   "execution_count": null,
   "id": "f049c279",
   "metadata": {},
   "outputs": [],
   "source": []
  }
 ],
 "metadata": {
  "kernelspec": {
   "display_name": "Python 3",
   "language": "python",
   "name": "python3"
  },
  "language_info": {
   "codemirror_mode": {
    "name": "ipython",
    "version": 3
   },
   "file_extension": ".py",
   "mimetype": "text/x-python",
   "name": "python",
   "nbconvert_exporter": "python",
   "pygments_lexer": "ipython3",
   "version": "3.8.8"
  }
 },
 "nbformat": 4,
 "nbformat_minor": 5
}
