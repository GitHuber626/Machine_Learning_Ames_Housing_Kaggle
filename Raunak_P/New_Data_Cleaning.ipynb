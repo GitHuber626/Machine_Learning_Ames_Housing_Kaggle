{
 "cells": [
  {
   "cell_type": "code",
   "execution_count": 171,
   "id": "8a1cd603",
   "metadata": {},
   "outputs": [],
   "source": [
    "import warnings\n",
    "import time\n",
    "import numpy as np\n",
    "import pandas as pd\n",
    "import seaborn as sns\n",
    "import matplotlib.pyplot as plt\n",
    "%matplotlib inline\n",
    "from collections import Counter"
   ]
  },
  {
   "cell_type": "code",
   "execution_count": 172,
   "id": "62e7eaf7",
   "metadata": {},
   "outputs": [],
   "source": [
    "Houses=pd.read_csv('Ames_HousePrice.csv',index_col=0)"
   ]
  },
  {
   "cell_type": "code",
   "execution_count": 173,
   "id": "eb479dc5",
   "metadata": {},
   "outputs": [
    {
     "data": {
      "text/html": [
       "<div>\n",
       "<style scoped>\n",
       "    .dataframe tbody tr th:only-of-type {\n",
       "        vertical-align: middle;\n",
       "    }\n",
       "\n",
       "    .dataframe tbody tr th {\n",
       "        vertical-align: top;\n",
       "    }\n",
       "\n",
       "    .dataframe thead th {\n",
       "        text-align: right;\n",
       "    }\n",
       "</style>\n",
       "<table border=\"1\" class=\"dataframe\">\n",
       "  <thead>\n",
       "    <tr style=\"text-align: right;\">\n",
       "      <th></th>\n",
       "      <th>PID</th>\n",
       "      <th>GrLivArea</th>\n",
       "      <th>SalePrice</th>\n",
       "      <th>MSSubClass</th>\n",
       "      <th>MSZoning</th>\n",
       "      <th>LotFrontage</th>\n",
       "      <th>LotArea</th>\n",
       "      <th>Street</th>\n",
       "      <th>Alley</th>\n",
       "      <th>LotShape</th>\n",
       "      <th>...</th>\n",
       "      <th>ScreenPorch</th>\n",
       "      <th>PoolArea</th>\n",
       "      <th>PoolQC</th>\n",
       "      <th>Fence</th>\n",
       "      <th>MiscFeature</th>\n",
       "      <th>MiscVal</th>\n",
       "      <th>MoSold</th>\n",
       "      <th>YrSold</th>\n",
       "      <th>SaleType</th>\n",
       "      <th>SaleCondition</th>\n",
       "    </tr>\n",
       "  </thead>\n",
       "  <tbody>\n",
       "    <tr>\n",
       "      <th>count</th>\n",
       "      <td>2.580000e+03</td>\n",
       "      <td>2580.000000</td>\n",
       "      <td>2580.000000</td>\n",
       "      <td>2580.000000</td>\n",
       "      <td>2580</td>\n",
       "      <td>2118.000000</td>\n",
       "      <td>2580.000000</td>\n",
       "      <td>2580</td>\n",
       "      <td>168</td>\n",
       "      <td>2580</td>\n",
       "      <td>...</td>\n",
       "      <td>2580.000000</td>\n",
       "      <td>2580.000000</td>\n",
       "      <td>9</td>\n",
       "      <td>525</td>\n",
       "      <td>97</td>\n",
       "      <td>2580.000000</td>\n",
       "      <td>2580.000000</td>\n",
       "      <td>2580.000000</td>\n",
       "      <td>2580</td>\n",
       "      <td>2580</td>\n",
       "    </tr>\n",
       "    <tr>\n",
       "      <th>unique</th>\n",
       "      <td>NaN</td>\n",
       "      <td>NaN</td>\n",
       "      <td>NaN</td>\n",
       "      <td>NaN</td>\n",
       "      <td>7</td>\n",
       "      <td>NaN</td>\n",
       "      <td>NaN</td>\n",
       "      <td>2</td>\n",
       "      <td>2</td>\n",
       "      <td>4</td>\n",
       "      <td>...</td>\n",
       "      <td>NaN</td>\n",
       "      <td>NaN</td>\n",
       "      <td>4</td>\n",
       "      <td>4</td>\n",
       "      <td>4</td>\n",
       "      <td>NaN</td>\n",
       "      <td>NaN</td>\n",
       "      <td>NaN</td>\n",
       "      <td>10</td>\n",
       "      <td>6</td>\n",
       "    </tr>\n",
       "    <tr>\n",
       "      <th>top</th>\n",
       "      <td>NaN</td>\n",
       "      <td>NaN</td>\n",
       "      <td>NaN</td>\n",
       "      <td>NaN</td>\n",
       "      <td>RL</td>\n",
       "      <td>NaN</td>\n",
       "      <td>NaN</td>\n",
       "      <td>Pave</td>\n",
       "      <td>Grvl</td>\n",
       "      <td>Reg</td>\n",
       "      <td>...</td>\n",
       "      <td>NaN</td>\n",
       "      <td>NaN</td>\n",
       "      <td>TA</td>\n",
       "      <td>MnPrv</td>\n",
       "      <td>Shed</td>\n",
       "      <td>NaN</td>\n",
       "      <td>NaN</td>\n",
       "      <td>NaN</td>\n",
       "      <td>WD</td>\n",
       "      <td>Normal</td>\n",
       "    </tr>\n",
       "    <tr>\n",
       "      <th>freq</th>\n",
       "      <td>NaN</td>\n",
       "      <td>NaN</td>\n",
       "      <td>NaN</td>\n",
       "      <td>NaN</td>\n",
       "      <td>2008</td>\n",
       "      <td>NaN</td>\n",
       "      <td>NaN</td>\n",
       "      <td>2570</td>\n",
       "      <td>105</td>\n",
       "      <td>1641</td>\n",
       "      <td>...</td>\n",
       "      <td>NaN</td>\n",
       "      <td>NaN</td>\n",
       "      <td>3</td>\n",
       "      <td>301</td>\n",
       "      <td>88</td>\n",
       "      <td>NaN</td>\n",
       "      <td>NaN</td>\n",
       "      <td>NaN</td>\n",
       "      <td>2392</td>\n",
       "      <td>2414</td>\n",
       "    </tr>\n",
       "    <tr>\n",
       "      <th>mean</th>\n",
       "      <td>7.148300e+08</td>\n",
       "      <td>1486.039922</td>\n",
       "      <td>178059.623256</td>\n",
       "      <td>57.691860</td>\n",
       "      <td>NaN</td>\n",
       "      <td>68.516053</td>\n",
       "      <td>10120.153488</td>\n",
       "      <td>NaN</td>\n",
       "      <td>NaN</td>\n",
       "      <td>NaN</td>\n",
       "      <td>...</td>\n",
       "      <td>16.200388</td>\n",
       "      <td>1.662016</td>\n",
       "      <td>NaN</td>\n",
       "      <td>NaN</td>\n",
       "      <td>NaN</td>\n",
       "      <td>48.731395</td>\n",
       "      <td>6.150775</td>\n",
       "      <td>2007.838372</td>\n",
       "      <td>NaN</td>\n",
       "      <td>NaN</td>\n",
       "    </tr>\n",
       "    <tr>\n",
       "      <th>std</th>\n",
       "      <td>1.886626e+08</td>\n",
       "      <td>488.650181</td>\n",
       "      <td>75031.089374</td>\n",
       "      <td>42.802105</td>\n",
       "      <td>NaN</td>\n",
       "      <td>22.835831</td>\n",
       "      <td>8126.937892</td>\n",
       "      <td>NaN</td>\n",
       "      <td>NaN</td>\n",
       "      <td>NaN</td>\n",
       "      <td>...</td>\n",
       "      <td>56.824783</td>\n",
       "      <td>30.339396</td>\n",
       "      <td>NaN</td>\n",
       "      <td>NaN</td>\n",
       "      <td>NaN</td>\n",
       "      <td>498.725058</td>\n",
       "      <td>2.670647</td>\n",
       "      <td>1.312333</td>\n",
       "      <td>NaN</td>\n",
       "      <td>NaN</td>\n",
       "    </tr>\n",
       "    <tr>\n",
       "      <th>min</th>\n",
       "      <td>5.263011e+08</td>\n",
       "      <td>334.000000</td>\n",
       "      <td>12789.000000</td>\n",
       "      <td>20.000000</td>\n",
       "      <td>NaN</td>\n",
       "      <td>21.000000</td>\n",
       "      <td>1300.000000</td>\n",
       "      <td>NaN</td>\n",
       "      <td>NaN</td>\n",
       "      <td>NaN</td>\n",
       "      <td>...</td>\n",
       "      <td>0.000000</td>\n",
       "      <td>0.000000</td>\n",
       "      <td>NaN</td>\n",
       "      <td>NaN</td>\n",
       "      <td>NaN</td>\n",
       "      <td>0.000000</td>\n",
       "      <td>1.000000</td>\n",
       "      <td>2006.000000</td>\n",
       "      <td>NaN</td>\n",
       "      <td>NaN</td>\n",
       "    </tr>\n",
       "    <tr>\n",
       "      <th>25%</th>\n",
       "      <td>5.313630e+08</td>\n",
       "      <td>1112.000000</td>\n",
       "      <td>129975.000000</td>\n",
       "      <td>20.000000</td>\n",
       "      <td>NaN</td>\n",
       "      <td>57.000000</td>\n",
       "      <td>7406.750000</td>\n",
       "      <td>NaN</td>\n",
       "      <td>NaN</td>\n",
       "      <td>NaN</td>\n",
       "      <td>...</td>\n",
       "      <td>0.000000</td>\n",
       "      <td>0.000000</td>\n",
       "      <td>NaN</td>\n",
       "      <td>NaN</td>\n",
       "      <td>NaN</td>\n",
       "      <td>0.000000</td>\n",
       "      <td>4.000000</td>\n",
       "      <td>2007.000000</td>\n",
       "      <td>NaN</td>\n",
       "      <td>NaN</td>\n",
       "    </tr>\n",
       "    <tr>\n",
       "      <th>50%</th>\n",
       "      <td>5.354546e+08</td>\n",
       "      <td>1436.000000</td>\n",
       "      <td>159900.000000</td>\n",
       "      <td>50.000000</td>\n",
       "      <td>NaN</td>\n",
       "      <td>68.000000</td>\n",
       "      <td>9391.000000</td>\n",
       "      <td>NaN</td>\n",
       "      <td>NaN</td>\n",
       "      <td>NaN</td>\n",
       "      <td>...</td>\n",
       "      <td>0.000000</td>\n",
       "      <td>0.000000</td>\n",
       "      <td>NaN</td>\n",
       "      <td>NaN</td>\n",
       "      <td>NaN</td>\n",
       "      <td>0.000000</td>\n",
       "      <td>6.000000</td>\n",
       "      <td>2008.000000</td>\n",
       "      <td>NaN</td>\n",
       "      <td>NaN</td>\n",
       "    </tr>\n",
       "    <tr>\n",
       "      <th>75%</th>\n",
       "      <td>9.071811e+08</td>\n",
       "      <td>1733.000000</td>\n",
       "      <td>209625.000000</td>\n",
       "      <td>70.000000</td>\n",
       "      <td>NaN</td>\n",
       "      <td>80.000000</td>\n",
       "      <td>11494.000000</td>\n",
       "      <td>NaN</td>\n",
       "      <td>NaN</td>\n",
       "      <td>NaN</td>\n",
       "      <td>...</td>\n",
       "      <td>0.000000</td>\n",
       "      <td>0.000000</td>\n",
       "      <td>NaN</td>\n",
       "      <td>NaN</td>\n",
       "      <td>NaN</td>\n",
       "      <td>0.000000</td>\n",
       "      <td>8.000000</td>\n",
       "      <td>2009.000000</td>\n",
       "      <td>NaN</td>\n",
       "      <td>NaN</td>\n",
       "    </tr>\n",
       "    <tr>\n",
       "      <th>max</th>\n",
       "      <td>1.007100e+09</td>\n",
       "      <td>4676.000000</td>\n",
       "      <td>755000.000000</td>\n",
       "      <td>190.000000</td>\n",
       "      <td>NaN</td>\n",
       "      <td>313.000000</td>\n",
       "      <td>215245.000000</td>\n",
       "      <td>NaN</td>\n",
       "      <td>NaN</td>\n",
       "      <td>NaN</td>\n",
       "      <td>...</td>\n",
       "      <td>576.000000</td>\n",
       "      <td>800.000000</td>\n",
       "      <td>NaN</td>\n",
       "      <td>NaN</td>\n",
       "      <td>NaN</td>\n",
       "      <td>15500.000000</td>\n",
       "      <td>12.000000</td>\n",
       "      <td>2010.000000</td>\n",
       "      <td>NaN</td>\n",
       "      <td>NaN</td>\n",
       "    </tr>\n",
       "  </tbody>\n",
       "</table>\n",
       "<p>11 rows × 81 columns</p>\n",
       "</div>"
      ],
      "text/plain": [
       "                 PID    GrLivArea      SalePrice   MSSubClass MSZoning  \\\n",
       "count   2.580000e+03  2580.000000    2580.000000  2580.000000     2580   \n",
       "unique           NaN          NaN            NaN          NaN        7   \n",
       "top              NaN          NaN            NaN          NaN       RL   \n",
       "freq             NaN          NaN            NaN          NaN     2008   \n",
       "mean    7.148300e+08  1486.039922  178059.623256    57.691860      NaN   \n",
       "std     1.886626e+08   488.650181   75031.089374    42.802105      NaN   \n",
       "min     5.263011e+08   334.000000   12789.000000    20.000000      NaN   \n",
       "25%     5.313630e+08  1112.000000  129975.000000    20.000000      NaN   \n",
       "50%     5.354546e+08  1436.000000  159900.000000    50.000000      NaN   \n",
       "75%     9.071811e+08  1733.000000  209625.000000    70.000000      NaN   \n",
       "max     1.007100e+09  4676.000000  755000.000000   190.000000      NaN   \n",
       "\n",
       "        LotFrontage        LotArea Street Alley LotShape  ...  ScreenPorch  \\\n",
       "count   2118.000000    2580.000000   2580   168     2580  ...  2580.000000   \n",
       "unique          NaN            NaN      2     2        4  ...          NaN   \n",
       "top             NaN            NaN   Pave  Grvl      Reg  ...          NaN   \n",
       "freq            NaN            NaN   2570   105     1641  ...          NaN   \n",
       "mean      68.516053   10120.153488    NaN   NaN      NaN  ...    16.200388   \n",
       "std       22.835831    8126.937892    NaN   NaN      NaN  ...    56.824783   \n",
       "min       21.000000    1300.000000    NaN   NaN      NaN  ...     0.000000   \n",
       "25%       57.000000    7406.750000    NaN   NaN      NaN  ...     0.000000   \n",
       "50%       68.000000    9391.000000    NaN   NaN      NaN  ...     0.000000   \n",
       "75%       80.000000   11494.000000    NaN   NaN      NaN  ...     0.000000   \n",
       "max      313.000000  215245.000000    NaN   NaN      NaN  ...   576.000000   \n",
       "\n",
       "           PoolArea PoolQC  Fence MiscFeature       MiscVal       MoSold  \\\n",
       "count   2580.000000      9    525          97   2580.000000  2580.000000   \n",
       "unique          NaN      4      4           4           NaN          NaN   \n",
       "top             NaN     TA  MnPrv        Shed           NaN          NaN   \n",
       "freq            NaN      3    301          88           NaN          NaN   \n",
       "mean       1.662016    NaN    NaN         NaN     48.731395     6.150775   \n",
       "std       30.339396    NaN    NaN         NaN    498.725058     2.670647   \n",
       "min        0.000000    NaN    NaN         NaN      0.000000     1.000000   \n",
       "25%        0.000000    NaN    NaN         NaN      0.000000     4.000000   \n",
       "50%        0.000000    NaN    NaN         NaN      0.000000     6.000000   \n",
       "75%        0.000000    NaN    NaN         NaN      0.000000     8.000000   \n",
       "max      800.000000    NaN    NaN         NaN  15500.000000    12.000000   \n",
       "\n",
       "             YrSold SaleType  SaleCondition  \n",
       "count   2580.000000     2580           2580  \n",
       "unique          NaN       10              6  \n",
       "top             NaN      WD          Normal  \n",
       "freq            NaN     2392           2414  \n",
       "mean    2007.838372      NaN            NaN  \n",
       "std        1.312333      NaN            NaN  \n",
       "min     2006.000000      NaN            NaN  \n",
       "25%     2007.000000      NaN            NaN  \n",
       "50%     2008.000000      NaN            NaN  \n",
       "75%     2009.000000      NaN            NaN  \n",
       "max     2010.000000      NaN            NaN  \n",
       "\n",
       "[11 rows x 81 columns]"
      ]
     },
     "execution_count": 173,
     "metadata": {},
     "output_type": "execute_result"
    }
   ],
   "source": [
    "Houses.describe(include='all')"
   ]
  },
  {
   "cell_type": "code",
   "execution_count": 174,
   "id": "a53f7bf9",
   "metadata": {},
   "outputs": [],
   "source": [
    "#The target dependent varibale for this case is SalePrice column in House_Main table. In order to do some initial analysis, \n",
    "#we find columns that are of numeric type first.\n",
    "numerics = ['int16', 'int32', 'int64', 'float16', 'float32', 'float64']\n",
    "Houses_num=Houses.select_dtypes(include=numerics)"
   ]
  },
  {
   "cell_type": "code",
   "execution_count": 175,
   "id": "ae07cddf",
   "metadata": {},
   "outputs": [
    {
     "name": "stderr",
     "output_type": "stream",
     "text": [
      "C:\\Users\\rauna\\AppData\\Local\\Temp/ipykernel_5328/2830205093.py:3: SettingWithCopyWarning: \n",
      "A value is trying to be set on a copy of a slice from a DataFrame.\n",
      "Try using .loc[row_indexer,col_indexer] = value instead\n",
      "\n",
      "See the caveats in the documentation: https://pandas.pydata.org/pandas-docs/stable/user_guide/indexing.html#returning-a-view-versus-a-copy\n",
      "  Houses_num[column]=Houses_num[column].fillna(Houses_num[column].mean())\n"
     ]
    }
   ],
   "source": [
    "#Fill NAs in these columns with mean\n",
    "for column in [\"MasVnrArea\",\"TotalBsmtSF\",'BsmtFinSF1','BsmtFinSF2','GarageArea']:\n",
    "    Houses_num[column]=Houses_num[column].fillna(Houses_num[column].mean())"
   ]
  },
  {
   "cell_type": "code",
   "execution_count": 176,
   "id": "2575b1e5",
   "metadata": {},
   "outputs": [
    {
     "name": "stderr",
     "output_type": "stream",
     "text": [
      "C:\\Users\\rauna\\AppData\\Local\\Temp/ipykernel_5328/328557775.py:4: SettingWithCopyWarning: \n",
      "A value is trying to be set on a copy of a slice from a DataFrame.\n",
      "Try using .loc[row_indexer,col_indexer] = value instead\n",
      "\n",
      "See the caveats in the documentation: https://pandas.pydata.org/pandas-docs/stable/user_guide/indexing.html#returning-a-view-versus-a-copy\n",
      "  Houses_num[column]=Houses_num[column].fillna(Houses_num[column].median())\n"
     ]
    }
   ],
   "source": [
    "#Fill NAs in these columns with median because it's more approirate \n",
    "#i.e. number of bathrooms/cars in interger \n",
    "for column in [\"BsmtFullBath\",\"BsmtHalfBath\",'GarageYrBlt','GarageCars']:\n",
    "    Houses_num[column]=Houses_num[column].fillna(Houses_num[column].median())"
   ]
  },
  {
   "cell_type": "code",
   "execution_count": 177,
   "id": "ccc79b5c",
   "metadata": {},
   "outputs": [
    {
     "data": {
      "text/plain": [
       "Neighborhood\n",
       "Blmngtn    43.0\n",
       "Blueste    24.0\n",
       "BrDale     21.0\n",
       "BrkSide    51.5\n",
       "ClearCr    81.0\n",
       "CollgCr    70.0\n",
       "Crawfor    70.0\n",
       "Edwards    65.0\n",
       "Gilbert    63.0\n",
       "Greens     40.0\n",
       "GrnHill     NaN\n",
       "IDOTRR     60.0\n",
       "Landmrk     NaN\n",
       "MeadowV    21.0\n",
       "Mitchel    72.0\n",
       "NAmes      73.0\n",
       "NPkVill    24.0\n",
       "NWAmes     80.0\n",
       "NoRidge    89.0\n",
       "NridgHt    92.0\n",
       "OldTown    60.0\n",
       "SWISU      60.0\n",
       "Sawyer     72.0\n",
       "SawyerW    70.0\n",
       "Somerst    72.0\n",
       "StoneBr    60.0\n",
       "Timber     81.0\n",
       "Veenker    80.0\n",
       "Name: LotFrontage, dtype: float64"
      ]
     },
     "execution_count": 177,
     "metadata": {},
     "output_type": "execute_result"
    }
   ],
   "source": [
    "#Fill median value of lot frontage grouped by neighborhood \n",
    "Houses.groupby(\"Neighborhood\").LotFrontage.median()"
   ]
  },
  {
   "cell_type": "code",
   "execution_count": 178,
   "id": "61e094d9",
   "metadata": {},
   "outputs": [
    {
     "data": {
      "text/html": [
       "<div>\n",
       "<style scoped>\n",
       "    .dataframe tbody tr th:only-of-type {\n",
       "        vertical-align: middle;\n",
       "    }\n",
       "\n",
       "    .dataframe tbody tr th {\n",
       "        vertical-align: top;\n",
       "    }\n",
       "\n",
       "    .dataframe thead th {\n",
       "        text-align: right;\n",
       "    }\n",
       "</style>\n",
       "<table border=\"1\" class=\"dataframe\">\n",
       "  <thead>\n",
       "    <tr style=\"text-align: right;\">\n",
       "      <th></th>\n",
       "      <th>PID</th>\n",
       "      <th>GrLivArea</th>\n",
       "      <th>SalePrice</th>\n",
       "      <th>MSSubClass</th>\n",
       "      <th>MSZoning</th>\n",
       "      <th>LotFrontage</th>\n",
       "      <th>LotArea</th>\n",
       "      <th>Street</th>\n",
       "      <th>Alley</th>\n",
       "      <th>LotShape</th>\n",
       "      <th>...</th>\n",
       "      <th>ScreenPorch</th>\n",
       "      <th>PoolArea</th>\n",
       "      <th>PoolQC</th>\n",
       "      <th>Fence</th>\n",
       "      <th>MiscFeature</th>\n",
       "      <th>MiscVal</th>\n",
       "      <th>MoSold</th>\n",
       "      <th>YrSold</th>\n",
       "      <th>SaleType</th>\n",
       "      <th>SaleCondition</th>\n",
       "    </tr>\n",
       "  </thead>\n",
       "  <tbody>\n",
       "    <tr>\n",
       "      <th>110</th>\n",
       "      <td>916253320</td>\n",
       "      <td>1502</td>\n",
       "      <td>330000</td>\n",
       "      <td>120</td>\n",
       "      <td>RM</td>\n",
       "      <td>NaN</td>\n",
       "      <td>9763</td>\n",
       "      <td>Pave</td>\n",
       "      <td>NaN</td>\n",
       "      <td>IR1</td>\n",
       "      <td>...</td>\n",
       "      <td>0</td>\n",
       "      <td>0</td>\n",
       "      <td>NaN</td>\n",
       "      <td>NaN</td>\n",
       "      <td>NaN</td>\n",
       "      <td>0</td>\n",
       "      <td>9</td>\n",
       "      <td>2007</td>\n",
       "      <td>WD</td>\n",
       "      <td>Normal</td>\n",
       "    </tr>\n",
       "    <tr>\n",
       "      <th>684</th>\n",
       "      <td>916252170</td>\n",
       "      <td>1295</td>\n",
       "      <td>230000</td>\n",
       "      <td>120</td>\n",
       "      <td>RM</td>\n",
       "      <td>NaN</td>\n",
       "      <td>8239</td>\n",
       "      <td>Pave</td>\n",
       "      <td>NaN</td>\n",
       "      <td>IR1</td>\n",
       "      <td>...</td>\n",
       "      <td>0</td>\n",
       "      <td>0</td>\n",
       "      <td>NaN</td>\n",
       "      <td>NaN</td>\n",
       "      <td>NaN</td>\n",
       "      <td>0</td>\n",
       "      <td>11</td>\n",
       "      <td>2006</td>\n",
       "      <td>WD</td>\n",
       "      <td>Normal</td>\n",
       "    </tr>\n",
       "    <tr>\n",
       "      <th>205</th>\n",
       "      <td>907230240</td>\n",
       "      <td>1320</td>\n",
       "      <td>137000</td>\n",
       "      <td>160</td>\n",
       "      <td>RH</td>\n",
       "      <td>NaN</td>\n",
       "      <td>3612</td>\n",
       "      <td>Pave</td>\n",
       "      <td>NaN</td>\n",
       "      <td>IR1</td>\n",
       "      <td>...</td>\n",
       "      <td>0</td>\n",
       "      <td>0</td>\n",
       "      <td>NaN</td>\n",
       "      <td>MnPrv</td>\n",
       "      <td>NaN</td>\n",
       "      <td>0</td>\n",
       "      <td>6</td>\n",
       "      <td>2006</td>\n",
       "      <td>WD</td>\n",
       "      <td>Normal</td>\n",
       "    </tr>\n",
       "  </tbody>\n",
       "</table>\n",
       "<p>3 rows × 81 columns</p>\n",
       "</div>"
      ],
      "text/plain": [
       "           PID  GrLivArea  SalePrice  MSSubClass MSZoning  LotFrontage  \\\n",
       "110  916253320       1502     330000         120       RM          NaN   \n",
       "684  916252170       1295     230000         120       RM          NaN   \n",
       "205  907230240       1320     137000         160       RH          NaN   \n",
       "\n",
       "     LotArea Street Alley LotShape  ... ScreenPorch PoolArea PoolQC  Fence  \\\n",
       "110     9763   Pave   NaN      IR1  ...           0        0    NaN    NaN   \n",
       "684     8239   Pave   NaN      IR1  ...           0        0    NaN    NaN   \n",
       "205     3612   Pave   NaN      IR1  ...           0        0    NaN  MnPrv   \n",
       "\n",
       "    MiscFeature MiscVal MoSold YrSold SaleType  SaleCondition  \n",
       "110         NaN       0      9   2007      WD          Normal  \n",
       "684         NaN       0     11   2006      WD          Normal  \n",
       "205         NaN       0      6   2006      WD          Normal  \n",
       "\n",
       "[3 rows x 81 columns]"
      ]
     },
     "execution_count": 178,
     "metadata": {},
     "output_type": "execute_result"
    }
   ],
   "source": [
    "Houses.loc[Houses[\"Neighborhood\"].isin(['Landmrk','GrnHill'])]"
   ]
  },
  {
   "cell_type": "code",
   "execution_count": 179,
   "id": "1c1b5dfe",
   "metadata": {},
   "outputs": [
    {
     "name": "stderr",
     "output_type": "stream",
     "text": [
      "C:\\Users\\rauna\\AppData\\Local\\Temp/ipykernel_5328/2484343169.py:2: SettingWithCopyWarning: \n",
      "A value is trying to be set on a copy of a slice from a DataFrame.\n",
      "Try using .loc[row_indexer,col_indexer] = value instead\n",
      "\n",
      "See the caveats in the documentation: https://pandas.pydata.org/pandas-docs/stable/user_guide/indexing.html#returning-a-view-versus-a-copy\n",
      "  Houses_num[\"LotFrontage\"] = Houses_num[\"LotFrontage\"].fillna(Houses.groupby(\"Neighborhood\")['LotFrontage'].transform('median'))\n"
     ]
    }
   ],
   "source": [
    "#Impute missing values in LotFrontage with the median by Neighborhood \n",
    "Houses_num[\"LotFrontage\"] = Houses_num[\"LotFrontage\"].fillna(Houses.groupby(\"Neighborhood\")['LotFrontage'].transform('median'))"
   ]
  },
  {
   "cell_type": "code",
   "execution_count": 180,
   "id": "3272f768",
   "metadata": {},
   "outputs": [
    {
     "name": "stderr",
     "output_type": "stream",
     "text": [
      "C:\\Users\\rauna\\AppData\\Local\\Temp/ipykernel_5328/2642781839.py:2: SettingWithCopyWarning: \n",
      "A value is trying to be set on a copy of a slice from a DataFrame.\n",
      "Try using .loc[row_indexer,col_indexer] = value instead\n",
      "\n",
      "See the caveats in the documentation: https://pandas.pydata.org/pandas-docs/stable/user_guide/indexing.html#returning-a-view-versus-a-copy\n",
      "  Houses_num[\"LotFrontage\"]=Houses_num[\"LotFrontage\"].fillna(Houses_num[\"LotFrontage\"].median())\n"
     ]
    }
   ],
   "source": [
    "#Fill the remaining 3NAs of LotFrontage with the Median of all LotFrontage\n",
    "Houses_num[\"LotFrontage\"]=Houses_num[\"LotFrontage\"].fillna(Houses_num[\"LotFrontage\"].median())"
   ]
  },
  {
   "cell_type": "code",
   "execution_count": 181,
   "id": "65823b46",
   "metadata": {},
   "outputs": [
    {
     "data": {
      "text/plain": [
       "PID              0\n",
       "GrLivArea        0\n",
       "SalePrice        0\n",
       "MSSubClass       0\n",
       "LotFrontage      0\n",
       "LotArea          0\n",
       "OverallQual      0\n",
       "OverallCond      0\n",
       "YearBuilt        0\n",
       "YearRemodAdd     0\n",
       "MasVnrArea       0\n",
       "BsmtFinSF1       0\n",
       "BsmtFinSF2       0\n",
       "BsmtUnfSF        1\n",
       "TotalBsmtSF      0\n",
       "1stFlrSF         0\n",
       "2ndFlrSF         0\n",
       "LowQualFinSF     0\n",
       "BsmtFullBath     0\n",
       "BsmtHalfBath     0\n",
       "FullBath         0\n",
       "HalfBath         0\n",
       "BedroomAbvGr     0\n",
       "KitchenAbvGr     0\n",
       "TotRmsAbvGrd     0\n",
       "Fireplaces       0\n",
       "GarageYrBlt      0\n",
       "GarageCars       0\n",
       "GarageArea       0\n",
       "WoodDeckSF       0\n",
       "OpenPorchSF      0\n",
       "EnclosedPorch    0\n",
       "3SsnPorch        0\n",
       "ScreenPorch      0\n",
       "PoolArea         0\n",
       "MiscVal          0\n",
       "MoSold           0\n",
       "YrSold           0\n",
       "dtype: int64"
      ]
     },
     "execution_count": 181,
     "metadata": {},
     "output_type": "execute_result"
    }
   ],
   "source": [
    "Houses_num.select_dtypes(\"number\").isna().sum()"
   ]
  },
  {
   "cell_type": "code",
   "execution_count": 182,
   "id": "751440a6",
   "metadata": {},
   "outputs": [],
   "source": [
    "#PID is not useful as it's working as an ID index, we drop that column\n",
    "Houses_num=Houses_num.drop(['PID'],axis=1)"
   ]
  },
  {
   "cell_type": "code",
   "execution_count": 183,
   "id": "3e6185c3",
   "metadata": {},
   "outputs": [
    {
     "data": {
      "text/plain": [
       "MSZoning         object\n",
       "Street           object\n",
       "Alley            object\n",
       "LotShape         object\n",
       "LandContour      object\n",
       "Utilities        object\n",
       "LotConfig        object\n",
       "LandSlope        object\n",
       "Neighborhood     object\n",
       "Condition1       object\n",
       "Condition2       object\n",
       "BldgType         object\n",
       "HouseStyle       object\n",
       "RoofStyle        object\n",
       "RoofMatl         object\n",
       "Exterior1st      object\n",
       "Exterior2nd      object\n",
       "MasVnrType       object\n",
       "ExterQual        object\n",
       "ExterCond        object\n",
       "Foundation       object\n",
       "BsmtQual         object\n",
       "BsmtCond         object\n",
       "BsmtExposure     object\n",
       "BsmtFinType1     object\n",
       "BsmtFinType2     object\n",
       "Heating          object\n",
       "HeatingQC        object\n",
       "CentralAir       object\n",
       "Electrical       object\n",
       "KitchenQual      object\n",
       "Functional       object\n",
       "FireplaceQu      object\n",
       "GarageType       object\n",
       "GarageFinish     object\n",
       "GarageQual       object\n",
       "GarageCond       object\n",
       "PavedDrive       object\n",
       "PoolQC           object\n",
       "Fence            object\n",
       "MiscFeature      object\n",
       "SaleType         object\n",
       "SaleCondition    object\n",
       "dtype: object"
      ]
     },
     "execution_count": 183,
     "metadata": {},
     "output_type": "execute_result"
    }
   ],
   "source": [
    "#Get all the columns whose dtypes are not numeric, i.e. object\n",
    "House_obj=Houses.select_dtypes(exclude=numerics)\n",
    "House_obj.dtypes"
   ]
  },
  {
   "cell_type": "code",
   "execution_count": 184,
   "id": "a2ca9f27",
   "metadata": {},
   "outputs": [
    {
     "data": {
      "text/plain": [
       "MSZoning            0\n",
       "Street              0\n",
       "Alley            2412\n",
       "LotShape            0\n",
       "LandContour         0\n",
       "Utilities           0\n",
       "LotConfig           0\n",
       "LandSlope           0\n",
       "Neighborhood        0\n",
       "Condition1          0\n",
       "Condition2          0\n",
       "BldgType            0\n",
       "HouseStyle          0\n",
       "RoofStyle           0\n",
       "RoofMatl            0\n",
       "Exterior1st         0\n",
       "Exterior2nd         0\n",
       "MasVnrType         14\n",
       "ExterQual           0\n",
       "ExterCond           0\n",
       "Foundation          0\n",
       "BsmtQual           69\n",
       "BsmtCond           69\n",
       "BsmtExposure       71\n",
       "BsmtFinType1       69\n",
       "BsmtFinType2       70\n",
       "Heating             0\n",
       "HeatingQC           0\n",
       "CentralAir          0\n",
       "Electrical          1\n",
       "KitchenQual         0\n",
       "Functional          0\n",
       "FireplaceQu      1241\n",
       "GarageType        127\n",
       "GarageFinish      129\n",
       "GarageQual        129\n",
       "GarageCond        129\n",
       "PavedDrive          0\n",
       "PoolQC           2571\n",
       "Fence            2055\n",
       "MiscFeature      2483\n",
       "SaleType            0\n",
       "SaleCondition       0\n",
       "dtype: int64"
      ]
     },
     "execution_count": 184,
     "metadata": {},
     "output_type": "execute_result"
    }
   ],
   "source": [
    "House_obj.isnull().sum(axis=0) #From the list below, we know some object variables have null-type values."
   ]
  },
  {
   "cell_type": "code",
   "execution_count": 185,
   "id": "495765e7",
   "metadata": {},
   "outputs": [
    {
     "data": {
      "text/plain": [
       "MSZoning         0\n",
       "Street           0\n",
       "LotShape         0\n",
       "LandContour      0\n",
       "Utilities        0\n",
       "LotConfig        0\n",
       "LandSlope        0\n",
       "Neighborhood     0\n",
       "Condition1       0\n",
       "Condition2       0\n",
       "BldgType         0\n",
       "HouseStyle       0\n",
       "RoofStyle        0\n",
       "RoofMatl         0\n",
       "Exterior1st      0\n",
       "Exterior2nd      0\n",
       "ExterQual        0\n",
       "ExterCond        0\n",
       "Foundation       0\n",
       "Heating          0\n",
       "HeatingQC        0\n",
       "CentralAir       0\n",
       "KitchenQual      0\n",
       "Functional       0\n",
       "PavedDrive       0\n",
       "SaleType         0\n",
       "SaleCondition    0\n",
       "dtype: int64"
      ]
     },
     "execution_count": 185,
     "metadata": {},
     "output_type": "execute_result"
    }
   ],
   "source": [
    "#Subset the House_Main_Nonnum columns that do not have nan values\n",
    "House_obj_Init=House_obj[House_obj.columns[~House_obj.isnull().any()]]\n",
    "\n",
    "House_obj_Init.isnull().sum(axis=0)"
   ]
  },
  {
   "cell_type": "code",
   "execution_count": 186,
   "id": "9f595655",
   "metadata": {},
   "outputs": [
    {
     "data": {
      "text/plain": [
       "<bound method DataFrame.value_counts of     MSZoning Street LotShape LandContour Utilities LotConfig LandSlope  \\\n",
       "1         RL   Pave      Reg         Lvl    AllPub    Corner       Gtl   \n",
       "2         RL   Pave      Reg         Lvl    AllPub    Inside       Gtl   \n",
       "3    C (all)   Pave      Reg         Lvl    AllPub    Inside       Gtl   \n",
       "4         RL   Pave      Reg         Lvl    AllPub    Corner       Gtl   \n",
       "5         RL   Pave      Reg         Lvl    AllPub    Inside       Gtl   \n",
       "..       ...    ...      ...         ...       ...       ...       ...   \n",
       "759       RL   Pave      Reg         Lvl    AllPub    Inside       Gtl   \n",
       "760       RL   Pave      IR1         Lvl    AllPub   CulDSac       Gtl   \n",
       "761       RH   Pave      Reg         HLS    AllPub    Inside       Gtl   \n",
       "762       RL   Pave      Reg         Lvl    AllPub    Inside       Gtl   \n",
       "763       RL   Pave      IR1         Lvl    AllPub    Inside       Gtl   \n",
       "\n",
       "    Neighborhood Condition1 Condition2  ... ExterCond Foundation Heating  \\\n",
       "1          SWISU       Norm       Norm  ...        TA     CBlock    GasA   \n",
       "2        Edwards       Norm       Norm  ...        TA     CBlock    GasA   \n",
       "3         IDOTRR       Norm       Norm  ...        TA     BrkTil    GasA   \n",
       "4        OldTown       Norm       Norm  ...        Gd     BrkTil    GasA   \n",
       "5         NWAmes       Norm       Norm  ...        TA      PConc    GasA   \n",
       "..           ...        ...        ...  ...       ...        ...     ...   \n",
       "759      BrkSide       Norm       Norm  ...        TA     BrkTil    Grav   \n",
       "760      Edwards       Norm       Norm  ...        TA       Slab    GasA   \n",
       "761      Crawfor       Norm       Norm  ...        TA     CBlock    GasA   \n",
       "762      CollgCr       Norm       Norm  ...        TA      PConc    GasA   \n",
       "763      SawyerW       Norm       Norm  ...        TA      PConc    GasA   \n",
       "\n",
       "    HeatingQC CentralAir KitchenQual Functional PavedDrive SaleType  \\\n",
       "1          TA          Y          TA        Typ          Y      WD    \n",
       "2          TA          Y          Gd        Typ          Y      WD    \n",
       "3          Ex          Y          Gd        Typ          N      WD    \n",
       "4          Gd          Y          TA        Typ          N      WD    \n",
       "5          Ex          Y          Gd        Typ          Y      WD    \n",
       "..        ...        ...         ...        ...        ...      ...   \n",
       "759        Fa          N          Fa        Typ          P      WD    \n",
       "760        Ex          Y          TA       Min2          Y      WD    \n",
       "761        TA          N          TA        Typ          Y      WD    \n",
       "762        Ex          Y          Gd        Typ          Y      WD    \n",
       "763        Ex          Y          Gd        Typ          Y      WD    \n",
       "\n",
       "    SaleCondition  \n",
       "1          Normal  \n",
       "2          Normal  \n",
       "3          Normal  \n",
       "4          Normal  \n",
       "5          Normal  \n",
       "..            ...  \n",
       "759        Normal  \n",
       "760        Normal  \n",
       "761        Normal  \n",
       "762        Normal  \n",
       "763        Normal  \n",
       "\n",
       "[2580 rows x 27 columns]>"
      ]
     },
     "execution_count": 186,
     "metadata": {},
     "output_type": "execute_result"
    }
   ],
   "source": [
    "#We do a value counts here to make sure words are not used to represent numbers (like 'One', 'Two', ...) If there are we \n",
    "#could just replace with integers. (The result shows none)\n",
    "House_obj_Init.value_counts"
   ]
  },
  {
   "cell_type": "code",
   "execution_count": 187,
   "id": "d560b1ca",
   "metadata": {},
   "outputs": [
    {
     "name": "stdout",
     "output_type": "stream",
     "text": [
      "MSZoning 0\n",
      "Street 0\n",
      "LotShape 0\n",
      "LandContour 0\n",
      "Utilities 0\n",
      "LotConfig 0\n",
      "LandSlope 0\n",
      "Neighborhood 0\n",
      "Condition1 0\n",
      "Condition2 0\n",
      "BldgType 0\n",
      "HouseStyle 0\n",
      "RoofStyle 0\n",
      "RoofMatl 0\n",
      "Exterior1st 0\n",
      "Exterior2nd 0\n",
      "ExterQual 0\n",
      "ExterCond 0\n",
      "Foundation 0\n",
      "Heating 0\n",
      "HeatingQC 0\n",
      "CentralAir 0\n",
      "KitchenQual 0\n",
      "Functional 0\n",
      "PavedDrive 0\n",
      "SaleType 0\n",
      "SaleCondition 0\n"
     ]
    }
   ],
   "source": [
    "#Making sure there's no empty cells in the columns of House_Main_Nonnum_Init\n",
    "for col in House_obj_Init:\n",
    "    print(col,(House_obj_Init[col].values=='').sum())"
   ]
  },
  {
   "cell_type": "code",
   "execution_count": 188,
   "id": "ae681cd0",
   "metadata": {},
   "outputs": [
    {
     "name": "stdout",
     "output_type": "stream",
     "text": [
      "MSZoning ['RL' 'C (all)' 'RM' 'FV' 'RH' 'I (all)' 'A (agr)']\n",
      "Street ['Pave' 'Grvl']\n",
      "LotShape ['Reg' 'IR1' 'IR3' 'IR2']\n",
      "LandContour ['Lvl' 'Bnk' 'HLS' 'Low']\n",
      "Utilities ['AllPub' 'NoSewr']\n",
      "LotConfig ['Corner' 'Inside' 'FR2' 'CulDSac' 'FR3']\n",
      "LandSlope ['Gtl' 'Mod' 'Sev']\n",
      "Neighborhood ['SWISU' 'Edwards' 'IDOTRR' 'OldTown' 'NWAmes' 'Blmngtn' 'Mitchel'\n",
      " 'NridgHt' 'NAmes' 'CollgCr' 'SawyerW' 'MeadowV' 'BrDale' 'Gilbert'\n",
      " 'Timber' 'Somerst' 'BrkSide' 'NoRidge' 'Sawyer' 'Crawfor' 'Greens'\n",
      " 'ClearCr' 'GrnHill' 'StoneBr' 'Veenker' 'NPkVill' 'Blueste' 'Landmrk']\n",
      "Condition1 ['Norm' 'RRAn' 'PosN' 'Artery' 'RRAe' 'Feedr' 'PosA' 'RRNn' 'RRNe']\n",
      "Condition2 ['Norm' 'PosN' 'Feedr' 'Artery' 'PosA' 'RRNn' 'RRAn' 'RRAe']\n",
      "BldgType ['1Fam' 'TwnhsE' '2fmCon' 'Twnhs' 'Duplex']\n",
      "HouseStyle ['1Story' '2Story' 'SFoyer' 'SLvl' '1.5Fin' '2.5Unf' '1.5Unf' '2.5Fin']\n",
      "RoofStyle ['Gable' 'Hip' 'Mansard' 'Gambrel' 'Flat' 'Shed']\n",
      "RoofMatl ['CompShg' 'Tar&Grv' 'WdShake' 'WdShngl' 'Metal' 'Roll' 'Membran']\n",
      "Exterior1st ['Wd Sdng' 'HdBoard' 'MetalSd' 'VinylSd' 'WdShing' 'Plywood' 'Stucco'\n",
      " 'CemntBd' 'BrkFace' 'AsbShng' 'BrkComm' 'ImStucc' 'AsphShn' 'CBlock'\n",
      " 'PreCast']\n",
      "Exterior2nd ['Wd Sdng' 'HdBoard' 'MetalSd' 'VinylSd' 'Wd Shng' 'Plywood' 'Stucco'\n",
      " 'CmentBd' 'AsbShng' 'ImStucc' 'BrkFace' 'Brk Cmn' 'CBlock' 'AsphShn'\n",
      " 'Stone' 'PreCast']\n",
      "ExterQual ['TA' 'Gd' 'Fa' 'Ex']\n",
      "ExterCond ['TA' 'Gd' 'Fa' 'Ex' 'Po']\n",
      "Foundation ['CBlock' 'BrkTil' 'PConc' 'Slab' 'Stone' 'Wood']\n",
      "Heating ['GasA' 'GasW' 'Grav' 'Wall' 'OthW' 'Floor']\n",
      "HeatingQC ['TA' 'Ex' 'Gd' 'Fa' 'Po']\n",
      "CentralAir ['Y' 'N']\n",
      "KitchenQual ['TA' 'Gd' 'Ex' 'Fa' 'Po']\n",
      "Functional ['Typ' 'Min2' 'Min1' 'Mod' 'Sal' 'Maj1' 'Maj2']\n",
      "PavedDrive ['Y' 'N' 'P']\n",
      "SaleType ['WD ' 'ConLD' 'New' 'Oth' 'ConLw' 'COD' 'CWD' 'Con' 'ConLI' 'VWD']\n",
      "SaleCondition ['Normal' 'Partial' 'AdjLand' 'Abnorml' 'Alloca' 'Family']\n"
     ]
    }
   ],
   "source": [
    "for col in House_obj_Init:\n",
    "    print(col,House_obj_Init[col].unique())"
   ]
  },
  {
   "cell_type": "code",
   "execution_count": 189,
   "id": "4f6f2269",
   "metadata": {},
   "outputs": [
    {
     "name": "stdout",
     "output_type": "stream",
     "text": [
      "RL         2008\n",
      "RM          418\n",
      "FV          113\n",
      "RH           21\n",
      "C (all)      17\n",
      "I (all)       2\n",
      "A (agr)       1\n",
      "Name: MSZoning, dtype: int64\n",
      "Pave    2570\n",
      "Grvl      10\n",
      "Name: Street, dtype: int64\n",
      "Reg    1641\n",
      "IR1     855\n",
      "IR2      71\n",
      "IR3      13\n",
      "Name: LotShape, dtype: int64\n",
      "Lvl    2337\n",
      "HLS      96\n",
      "Bnk      95\n",
      "Low      52\n",
      "Name: LandContour, dtype: int64\n",
      "AllPub    2578\n",
      "NoSewr       2\n",
      "Name: Utilities, dtype: int64\n",
      "Inside     1886\n",
      "Corner      439\n",
      "CulDSac     164\n",
      "FR2          78\n",
      "FR3          13\n",
      "Name: LotConfig, dtype: int64\n",
      "Gtl    2458\n",
      "Mod     109\n",
      "Sev      13\n",
      "Name: LandSlope, dtype: int64\n",
      "NAmes      410\n",
      "CollgCr    236\n",
      "OldTown    213\n",
      "Edwards    165\n",
      "Somerst    143\n",
      "Gilbert    143\n",
      "Sawyer     139\n",
      "NWAmes     123\n",
      "NridgHt    121\n",
      "SawyerW    113\n",
      "Mitchel    104\n",
      "BrkSide    103\n",
      "Crawfor     93\n",
      "IDOTRR      76\n",
      "NoRidge     67\n",
      "Timber      54\n",
      "StoneBr     43\n",
      "SWISU       42\n",
      "ClearCr     40\n",
      "MeadowV     34\n",
      "BrDale      29\n",
      "Blmngtn     23\n",
      "Veenker     23\n",
      "NPkVill     22\n",
      "Blueste     10\n",
      "Greens       8\n",
      "GrnHill      2\n",
      "Landmrk      1\n",
      "Name: Neighborhood, dtype: int64\n",
      "Norm      2228\n",
      "Feedr      137\n",
      "Artery      81\n",
      "RRAn        40\n",
      "PosN        37\n",
      "RRAe        26\n",
      "PosA        19\n",
      "RRNn         8\n",
      "RRNe         4\n",
      "Name: Condition1, dtype: int64\n",
      "Norm      2555\n",
      "Feedr       12\n",
      "PosN         3\n",
      "Artery       3\n",
      "PosA         3\n",
      "RRNn         2\n",
      "RRAn         1\n",
      "RRAe         1\n",
      "Name: Condition2, dtype: int64\n",
      "1Fam      2139\n",
      "TwnhsE     202\n",
      "Twnhs       98\n",
      "Duplex      87\n",
      "2fmCon      54\n",
      "Name: BldgType, dtype: int64\n",
      "1Story    1288\n",
      "2Story     773\n",
      "1.5Fin     284\n",
      "SLvl       118\n",
      "SFoyer      70\n",
      "2.5Unf      22\n",
      "1.5Unf      19\n",
      "2.5Fin       6\n",
      "Name: HouseStyle, dtype: int64\n",
      "Gable      2059\n",
      "Hip         473\n",
      "Gambrel      18\n",
      "Flat         16\n",
      "Mansard      10\n",
      "Shed          4\n",
      "Name: RoofStyle, dtype: int64\n",
      "CompShg    2544\n",
      "Tar&Grv      18\n",
      "WdShake       8\n",
      "WdShngl       7\n",
      "Metal         1\n",
      "Roll          1\n",
      "Membran       1\n",
      "Name: RoofMatl, dtype: int64\n",
      "VinylSd    868\n",
      "HdBoard    416\n",
      "MetalSd    407\n",
      "Wd Sdng    385\n",
      "Plywood    194\n",
      "CemntBd     97\n",
      "BrkFace     80\n",
      "WdShing     51\n",
      "Stucco      37\n",
      "AsbShng     34\n",
      "BrkComm      5\n",
      "AsphShn      2\n",
      "CBlock       2\n",
      "ImStucc      1\n",
      "PreCast      1\n",
      "Name: Exterior1st, dtype: int64\n",
      "VinylSd    856\n",
      "MetalSd    404\n",
      "HdBoard    380\n",
      "Wd Sdng    369\n",
      "Plywood    238\n",
      "CmentBd     97\n",
      "Wd Shng     76\n",
      "BrkFace     46\n",
      "Stucco      37\n",
      "AsbShng     31\n",
      "Brk Cmn     21\n",
      "ImStucc     13\n",
      "AsphShn      4\n",
      "Stone        4\n",
      "CBlock       3\n",
      "PreCast      1\n",
      "Name: Exterior2nd, dtype: int64\n",
      "TA    1636\n",
      "Gd     841\n",
      "Ex      73\n",
      "Fa      30\n",
      "Name: ExterQual, dtype: int64\n",
      "TA    2232\n",
      "Gd     279\n",
      "Fa      56\n",
      "Ex      11\n",
      "Po       2\n",
      "Name: ExterCond, dtype: int64\n",
      "CBlock    1140\n",
      "PConc     1105\n",
      "BrkTil     278\n",
      "Slab        42\n",
      "Stone       10\n",
      "Wood         5\n",
      "Name: Foundation, dtype: int64\n",
      "GasA     2540\n",
      "GasW       25\n",
      "Grav        7\n",
      "Wall        5\n",
      "OthW        2\n",
      "Floor       1\n",
      "Name: Heating, dtype: int64\n",
      "Ex    1293\n",
      "TA     768\n",
      "Gd     434\n",
      "Fa      84\n",
      "Po       1\n",
      "Name: HeatingQC, dtype: int64\n",
      "Y    2417\n",
      "N     163\n",
      "Name: CentralAir, dtype: int64\n",
      "TA    1358\n",
      "Gd    1017\n",
      "Ex     142\n",
      "Fa      62\n",
      "Po       1\n",
      "Name: KitchenQual, dtype: int64\n",
      "Typ     2399\n",
      "Min2      66\n",
      "Min1      57\n",
      "Mod       32\n",
      "Maj1      18\n",
      "Maj2       7\n",
      "Sal        1\n",
      "Name: Functional, dtype: int64\n",
      "Y    2336\n",
      "N     184\n",
      "P      60\n",
      "Name: PavedDrive, dtype: int64\n",
      "WD       2392\n",
      "New        79\n",
      "COD        50\n",
      "ConLD      23\n",
      "CWD        11\n",
      "ConLw       8\n",
      "ConLI       7\n",
      "Con         5\n",
      "Oth         4\n",
      "VWD         1\n",
      "Name: SaleType, dtype: int64\n",
      "Normal     2414\n",
      "Partial      82\n",
      "Abnorml      61\n",
      "Family       17\n",
      "Alloca        4\n",
      "AdjLand       2\n",
      "Name: SaleCondition, dtype: int64\n"
     ]
    }
   ],
   "source": [
    "for col in House_obj_Init:\n",
    "    print(House_obj_Init[col].value_counts())"
   ]
  },
  {
   "cell_type": "code",
   "execution_count": 190,
   "id": "580c4acc",
   "metadata": {},
   "outputs": [],
   "source": [
    "#From the above tables we could handle different columns as follows:\n",
    "# MSZoning: Group C, I, A into 'non-residential'\n",
    "# HeatingQC, KitchenQual: Group Fa, Po into 'Ba' as 'Below Average'\n",
    "Drop=['Street', 'Utilities','Condition2', 'RoofMatl', 'SaleType', 'SaleCondition']\n",
    "# Keep: LandContour, BldgType, ExterQual, ExterCond, Foundation, PavedDrive\n",
    "# LotConfig: Group FR2 and FR3 into 'Frontage'\n",
    "# Convert to binary: LotShape, LandSlope, Condition1, Heating, CentralAir, Functional\n",
    "# Use .75 Threshold: Neiborhood, Exterior1st, Exterior2nd\n",
    "# Use .90 Threshold: HouseStyle, RoofStyle"
   ]
  },
  {
   "cell_type": "code",
   "execution_count": 191,
   "id": "4c5d461a",
   "metadata": {},
   "outputs": [
    {
     "data": {
      "text/plain": [
       "(2580, 27)"
      ]
     },
     "execution_count": 191,
     "metadata": {},
     "output_type": "execute_result"
    }
   ],
   "source": [
    "House_obj_Init.shape"
   ]
  },
  {
   "cell_type": "code",
   "execution_count": 192,
   "id": "40c2d36c",
   "metadata": {},
   "outputs": [
    {
     "data": {
      "text/plain": [
       "(2580, 21)"
      ]
     },
     "execution_count": 192,
     "metadata": {},
     "output_type": "execute_result"
    }
   ],
   "source": [
    "#Dropping columns\n",
    "House_obj_Init=House_obj_Init.drop(Drop,axis=1)\n",
    "House_obj_Init.shape"
   ]
  },
  {
   "cell_type": "code",
   "execution_count": 193,
   "id": "f29fba68",
   "metadata": {},
   "outputs": [],
   "source": [
    "#MSZoning: Group C, I, A into 'non-residential'\n",
    "#House_Main_Nonnum_Init['MSZoning']=\n",
    "House_obj_Init['MSZoning']=House_obj_Init['MSZoning'].apply(lambda x: \n",
    "                                         'Non-residential' if x=='C (all)'\n",
    "                                         else 'Non-residential' if x=='I (all)' \n",
    "                                         else 'Non-residential' if x=='A (agr)' \n",
    "                                         else 'RL' if x=='RL' \n",
    "                                         else 'RM' if x=='RM'\n",
    "                                         else 'FV' if x=='FV'\n",
    "                                         else 'RH')           "
   ]
  },
  {
   "cell_type": "code",
   "execution_count": 194,
   "id": "9592e5cf",
   "metadata": {},
   "outputs": [],
   "source": [
    "# HeatingQC, KitchenQual: Group Fa, Po into 'Ba' as 'Below Average'\n",
    "House_obj_Init['HeatingQC']=House_obj_Init['HeatingQC'].str.replace('Fa','Ba').str.replace('Po','Ba')"
   ]
  },
  {
   "cell_type": "code",
   "execution_count": 195,
   "id": "0fac535d",
   "metadata": {},
   "outputs": [],
   "source": [
    "# LotConfig: Group FR2 and FR3 into 'Frontage'\n",
    "for i in range(len(House_obj_Init['LotConfig'])):\n",
    "    if (House_obj_Init['LotConfig'].iloc[i] == 'FR2') or (House_obj_Init['LotConfig'].iloc[i] == 'FR3'):\n",
    "        House_obj_Init['LotConfig'].iloc[i]='Frontage'"
   ]
  },
  {
   "cell_type": "code",
   "execution_count": 196,
   "id": "4b609d42",
   "metadata": {},
   "outputs": [
    {
     "data": {
      "text/plain": [
       "1    1641\n",
       "0     939\n",
       "Name: LotShape, dtype: int64"
      ]
     },
     "execution_count": 196,
     "metadata": {},
     "output_type": "execute_result"
    }
   ],
   "source": [
    "# Convert to binary: LotShape, LandSlope, Condition1, Heating, CentralAir, Functional\n",
    "\n",
    "#LotShape:\n",
    "House_obj_Init['LotShape']=House_obj_Init['LotShape'].map(lambda x: 1 if x=='Reg' else 0)\n",
    "House_obj_Init['LotShape'].value_counts()"
   ]
  },
  {
   "cell_type": "code",
   "execution_count": 197,
   "id": "55efe481",
   "metadata": {},
   "outputs": [
    {
     "data": {
      "text/plain": [
       "1    2458\n",
       "0     122\n",
       "Name: LandSlope, dtype: int64"
      ]
     },
     "execution_count": 197,
     "metadata": {},
     "output_type": "execute_result"
    }
   ],
   "source": [
    "#LandSlope:\n",
    "House_obj_Init['LandSlope']=House_obj_Init['LandSlope'].map(lambda x: 1 if x=='Gtl' else 0)\n",
    "House_obj_Init['LandSlope'].value_counts()"
   ]
  },
  {
   "cell_type": "code",
   "execution_count": 198,
   "id": "89107c1c",
   "metadata": {},
   "outputs": [
    {
     "data": {
      "text/plain": [
       "1    2228\n",
       "0     352\n",
       "Name: Condition1, dtype: int64"
      ]
     },
     "execution_count": 198,
     "metadata": {},
     "output_type": "execute_result"
    }
   ],
   "source": [
    "#Condition1\n",
    "House_obj_Init['Condition1']=House_obj_Init['Condition1'].map(lambda x: 1 if x=='Norm' else 0)\n",
    "House_obj_Init['Condition1'].value_counts()"
   ]
  },
  {
   "cell_type": "code",
   "execution_count": 199,
   "id": "2857bd96",
   "metadata": {},
   "outputs": [
    {
     "data": {
      "text/plain": [
       "1    2565\n",
       "0      15\n",
       "Name: Heating, dtype: int64"
      ]
     },
     "execution_count": 199,
     "metadata": {},
     "output_type": "execute_result"
    }
   ],
   "source": [
    "#Heating\n",
    "House_obj_Init['Heating']=House_obj_Init['Heating'].map(lambda x: 1 if ((x=='GasA') or (x=='GasW')) else 0)\n",
    "House_obj_Init['Heating'].value_counts()"
   ]
  },
  {
   "cell_type": "code",
   "execution_count": 200,
   "id": "f8faf96b",
   "metadata": {},
   "outputs": [
    {
     "data": {
      "text/plain": [
       "1    2417\n",
       "0     163\n",
       "Name: CentralAir, dtype: int64"
      ]
     },
     "execution_count": 200,
     "metadata": {},
     "output_type": "execute_result"
    }
   ],
   "source": [
    "#CentralAir\n",
    "House_obj_Init['CentralAir']=House_obj_Init['CentralAir'].map(lambda x: 1 if x=='Y' else 0)\n",
    "House_obj_Init['CentralAir'].value_counts()"
   ]
  },
  {
   "cell_type": "code",
   "execution_count": 201,
   "id": "80ceb0b8",
   "metadata": {},
   "outputs": [
    {
     "data": {
      "text/plain": [
       "1    2399\n",
       "0     181\n",
       "Name: Functional, dtype: int64"
      ]
     },
     "execution_count": 201,
     "metadata": {},
     "output_type": "execute_result"
    }
   ],
   "source": [
    "#Functional\n",
    "House_obj_Init['Functional']=House_obj_Init['Functional'].map(lambda x: 1 if x=='Typ' else 0)\n",
    "House_obj_Init['Functional'].value_counts()"
   ]
  },
  {
   "cell_type": "code",
   "execution_count": 202,
   "id": "c9146599",
   "metadata": {},
   "outputs": [],
   "source": [
    "#Use .75 Threshold: Neiborhood, Exterior1st, Exterior2nd\n",
    "\n",
    "def cumulatively_categorise(column,threshold=0.75):\n",
    "        #Find the threshold value using the percentage and number of observations in the column\n",
    "        threshold_value=int(threshold*len(column))\n",
    "        #Initialise an empty list for our new minimised categories\n",
    "        categories_list=[]\n",
    "        #Initialise a variable to calculate the sum of frequencies\n",
    "        s=0\n",
    "        #Create a counter dictionary of the form unique_value: frequency\n",
    "        counts=Counter(column)\n",
    "\n",
    "        #Loop through the category name and its corresponding frequency after sorting the categories by descending order of frequency\n",
    "        for i,j in counts.most_common():\n",
    "        #Add the frequency to the global sum\n",
    "          s+=dict(counts)[i]\n",
    "        #Append the category name to the list\n",
    "          categories_list.append(i)\n",
    "        #Check if the global sum has reached the threshold value, if so break the loop\n",
    "          if s>=threshold_value:\n",
    "                break\n",
    "        \n",
    "        #Replace all instances not in our new categories by Other  \n",
    "        column=column.apply(lambda x: x if x in categories_list else 'Other')\n",
    "        \n",
    "        return column"
   ]
  },
  {
   "cell_type": "code",
   "execution_count": 203,
   "id": "067e9ed1",
   "metadata": {},
   "outputs": [
    {
     "name": "stdout",
     "output_type": "stream",
     "text": [
      "Other      567\n",
      "NAmes      410\n",
      "CollgCr    236\n",
      "OldTown    213\n",
      "Edwards    165\n",
      "Gilbert    143\n",
      "Somerst    143\n",
      "Sawyer     139\n",
      "NWAmes     123\n",
      "NridgHt    121\n",
      "SawyerW    113\n",
      "Mitchel    104\n",
      "BrkSide    103\n",
      "Name: Neighborhood, dtype: int64\n",
      "VinylSd    868\n",
      "Other      504\n",
      "HdBoard    416\n",
      "MetalSd    407\n",
      "Wd Sdng    385\n",
      "Name: Exterior1st, dtype: int64\n",
      "VinylSd    856\n",
      "Other      571\n",
      "MetalSd    404\n",
      "HdBoard    380\n",
      "Wd Sdng    369\n",
      "Name: Exterior2nd, dtype: int64\n"
     ]
    }
   ],
   "source": [
    "#Call the function with a default threshold of 75%\n",
    "\n",
    "Treshold_75=['Neighborhood','Exterior1st', 'Exterior2nd']\n",
    "for col in Treshold_75:\n",
    "    House_obj_Init[col]=cumulatively_categorise(House_obj_Init[col])\n",
    "print(House_obj_Init['Neighborhood'].value_counts())\n",
    "print(House_obj_Init['Exterior1st'].value_counts())\n",
    "print(House_obj_Init['Exterior2nd'].value_counts())"
   ]
  },
  {
   "cell_type": "code",
   "execution_count": 204,
   "id": "ffb4c079",
   "metadata": {},
   "outputs": [
    {
     "name": "stdout",
     "output_type": "stream",
     "text": [
      "1Story    1288\n",
      "2Story     773\n",
      "1.5Fin     284\n",
      "Other      235\n",
      "Name: HouseStyle, dtype: int64\n",
      "Gable    2059\n",
      "Hip       473\n",
      "Other      48\n",
      "Name: RoofStyle, dtype: int64\n"
     ]
    }
   ],
   "source": [
    "#Call the function with a default threshold of 90%\n",
    "\n",
    "Treshold_90=['HouseStyle', 'RoofStyle']\n",
    "for col in Treshold_90:\n",
    "    House_obj_Init[col]=cumulatively_categorise(House_obj_Init[col],threshold=0.90)\n",
    "print(House_obj_Init['HouseStyle'].value_counts())\n",
    "print(House_obj_Init['RoofStyle'].value_counts())"
   ]
  },
  {
   "cell_type": "code",
   "execution_count": 205,
   "id": "fd758a4e",
   "metadata": {},
   "outputs": [
    {
     "data": {
      "text/plain": [
       "Index(['LotShape', 'LandSlope', 'Condition1', 'Heating', 'CentralAir',\n",
       "       'Functional', 'MSZoning_Non-residential', 'MSZoning_RH', 'MSZoning_RL',\n",
       "       'MSZoning_RM', 'LandContour_HLS', 'LandContour_Low', 'LandContour_Lvl',\n",
       "       'LotConfig_CulDSac', 'LotConfig_Frontage', 'LotConfig_Inside',\n",
       "       'Neighborhood_CollgCr', 'Neighborhood_Edwards', 'Neighborhood_Gilbert',\n",
       "       'Neighborhood_Mitchel', 'Neighborhood_NAmes', 'Neighborhood_NWAmes',\n",
       "       'Neighborhood_NridgHt', 'Neighborhood_OldTown', 'Neighborhood_Other',\n",
       "       'Neighborhood_Sawyer', 'Neighborhood_SawyerW', 'Neighborhood_Somerst',\n",
       "       'BldgType_2fmCon', 'BldgType_Duplex', 'BldgType_Twnhs',\n",
       "       'BldgType_TwnhsE', 'HouseStyle_1Story', 'HouseStyle_2Story',\n",
       "       'HouseStyle_Other', 'RoofStyle_Hip', 'RoofStyle_Other',\n",
       "       'Exterior1st_MetalSd', 'Exterior1st_Other', 'Exterior1st_VinylSd',\n",
       "       'Exterior1st_Wd Sdng', 'Exterior2nd_MetalSd', 'Exterior2nd_Other',\n",
       "       'Exterior2nd_VinylSd', 'Exterior2nd_Wd Sdng', 'ExterQual_Fa',\n",
       "       'ExterQual_Gd', 'ExterQual_TA', 'ExterCond_Fa', 'ExterCond_Gd',\n",
       "       'ExterCond_Po', 'ExterCond_TA', 'Foundation_CBlock', 'Foundation_PConc',\n",
       "       'Foundation_Slab', 'Foundation_Stone', 'Foundation_Wood',\n",
       "       'HeatingQC_Ex', 'HeatingQC_Gd', 'HeatingQC_TA', 'KitchenQual_Fa',\n",
       "       'KitchenQual_Gd', 'KitchenQual_Po', 'KitchenQual_TA', 'PavedDrive_P',\n",
       "       'PavedDrive_Y'],\n",
       "      dtype='object')"
      ]
     },
     "execution_count": 205,
     "metadata": {},
     "output_type": "execute_result"
    }
   ],
   "source": [
    "#Dummy-Encoding Process:\n",
    "\n",
    "Binary=['LotShape', 'LandSlope', 'Condition1', 'Heating', 'CentralAir', 'Functional']\n",
    "Dummy=pd.get_dummies(House_obj_Init.loc[:,~House_obj_Init.columns.isin(Binary)],drop_first=True)\n",
    "House_obj_Init=House_obj_Init[Binary]\n",
    "House_obj_Init=pd.concat([House_obj_Init,Dummy],axis=1)\n",
    "House_obj_Init.columns"
   ]
  },
  {
   "cell_type": "code",
   "execution_count": 243,
   "id": "fa0d15e2",
   "metadata": {},
   "outputs": [
    {
     "data": {
      "text/plain": [
       "PoolQC           2571\n",
       "MiscFeature      2483\n",
       "Alley            2412\n",
       "Fence            2055\n",
       "FireplaceQu      1241\n",
       "                 ... \n",
       "GrLivArea           0\n",
       "Heating             0\n",
       "HeatingQC           0\n",
       "CentralAir          0\n",
       "SaleCondition       0\n",
       "Length: 81, dtype: int64"
      ]
     },
     "execution_count": 243,
     "metadata": {},
     "output_type": "execute_result"
    }
   ],
   "source": [
    "Houses.isnull().sum(axis=0).sort_values(ascending=False)"
   ]
  },
  {
   "cell_type": "code",
   "execution_count": 207,
   "id": "b0c9ec60",
   "metadata": {},
   "outputs": [],
   "source": [
    "#Dropping some numerical/Categorical columns because they have too many NaN values and NaN doesn't mean \n",
    "#anything in those columns:\n",
    "Num_Drop=['BsmtUnfSF']\n",
    "Houses_num=Houses_num.drop(Num_Drop,axis=1)"
   ]
  },
  {
   "cell_type": "code",
   "execution_count": 208,
   "id": "13ff0773",
   "metadata": {},
   "outputs": [],
   "source": [
    "#Merge tables to create a ML table\n",
    "ML_df=pd.concat([House_obj_Init,Houses_num],axis=1)"
   ]
  },
  {
   "cell_type": "code",
   "execution_count": 209,
   "id": "b9457ebb",
   "metadata": {},
   "outputs": [],
   "source": [
    "ML_df_x=ML_df.loc[:,~ML_df.columns.isin(['SalePrice'])]\n",
    "ML_df_y=ML_df['SalePrice']"
   ]
  },
  {
   "cell_type": "code",
   "execution_count": 210,
   "id": "8d12d6cd",
   "metadata": {},
   "outputs": [],
   "source": [
    "#Now we find all NaN values before we build our model\n",
    "NaN=[]\n",
    "for col in ML_df_x.columns:\n",
    "    if ML_df_x[col].isnull().sum(axis=0)>0:\n",
    "        NaN.append(col)"
   ]
  },
  {
   "cell_type": "code",
   "execution_count": 211,
   "id": "8554af5f",
   "metadata": {},
   "outputs": [],
   "source": [
    "for i in NaN:\n",
    "    print(i,ML_df_x[i].values)"
   ]
  },
  {
   "cell_type": "code",
   "execution_count": 212,
   "id": "7e6e8231",
   "metadata": {},
   "outputs": [
    {
     "data": {
      "text/plain": [
       "array([ 60. ,  42. ,  80. ,  70. ,  64. ,  53. ,  74. ,  35. ,  48. ,\n",
       "        63. ,  62. ,  73. ,  50. ,  68. ,  45. ,  65. ,  21. ,  58. ,\n",
       "        72. , 105. , 100. ,  88. ,  52. ,  89. ,  71. ,  76. , 101. ,\n",
       "        59. ,  56. ,  32. ,  78. , 110. ,  96. ,  61. , 108. ,  75. ,\n",
       "       106. ,  84. ,  67. , 168. ,  49. , 140. ,  66. ,  92. , 125. ,\n",
       "        85. ,  81. ,  24. ,  79. , 130. ,  77. ,  94. ,  91. ,  90. ,\n",
       "        82. , 149. ,  43. ,  69. ,  95. ,  40. ,  51. ,  47. ,  22. ,\n",
       "        38. , 118. ,  87. ,  86. ,  54. ,  39. ,  41. ,  30. , 128. ,\n",
       "        46. ,  99. ,  44. ,  36. , 107. , 104. ,  34. ,  57. , 113. ,\n",
       "       120. , 115. , 150. , 116. ,  37. , 129. ,  98. , 121. , 195. ,\n",
       "       160. ,  83. , 102. ,  93. ,  55. , 124. , 131. ,  33. , 137. ,\n",
       "       111. , 134. ,  51.5,  26. , 103. , 313. ,  28. , 114. , 174. ,\n",
       "       141. , 117. ,  25. , 112. , 155. , 109. , 152. , 153. , 122. ,\n",
       "        31. , 126. ,  97. , 200. , 136. , 119. , 135. , 144. , 123. ,\n",
       "       138. ])"
      ]
     },
     "execution_count": 212,
     "metadata": {},
     "output_type": "execute_result"
    }
   ],
   "source": [
    "ML_df_x['LotFrontage'].unique()"
   ]
  },
  {
   "cell_type": "code",
   "execution_count": 213,
   "id": "63944365",
   "metadata": {},
   "outputs": [],
   "source": [
    "from sklearn.impute import SimpleImputer #iteratative imputer\n",
    "Missing=SimpleImputer(strategy='mean')\n",
    "Missing=Missing.fit(ML_df_x)\n",
    "ML_df_x=Missing.transform(ML_df_x.values)"
   ]
  },
  {
   "cell_type": "code",
   "execution_count": 214,
   "id": "7f680800",
   "metadata": {},
   "outputs": [],
   "source": [
    "# Preprocessing (Encoding and pipelining)\n",
    "\n",
    "from sklearn.preprocessing import OneHotEncoder, LabelEncoder\n",
    "from category_encoders import TargetEncoder # Since target_encoder uses the output variable to determine encoding,\n",
    "#I will use careful techniques to not produce Data Leakage. \n",
    "from sklearn.compose import make_column_transformer # this will help with our pipeline and applying differet \n",
    "#encoding techniques for different columns\n",
    "from sklearn.pipeline import make_pipeline # used for creating preprocessing and modeling pipeline\n",
    "from sklearn.model_selection import cross_val_score # used for determining the average of different metrics \n",
    "#duriing our cross validation\n",
    "\n",
    "#Pre-Processing (Handling Missing Data and imputing if necessary)\n",
    "\n",
    "from sklearn.experimental import enable_iterative_imputer #enables iterative imputer \n",
    "from sklearn.impute import IterativeImputer, SimpleImputer, KNNImputer,MissingIndicator\n",
    "\n",
    "# Preprocessing (Encoding and pipelining)\n",
    "\n",
    "from sklearn.preprocessing import OneHotEncoder, LabelEncoder\n",
    "from category_encoders import TargetEncoder # Since target_encoder uses the output variable to determine encoding,\n",
    "#I will use careful techniques to not produce Data Leakage. \n",
    "from sklearn.compose import make_column_transformer # this will help with our pipeline and applying differet \n",
    "#encoding techniques for different columns\n",
    "from sklearn.pipeline import make_pipeline # used for creating preprocessing and modeling pipeline\n",
    "from sklearn.model_selection import cross_val_score # used for determining the average of different metrics \n",
    "#duriing our cross validation\n",
    "\n",
    "#Pre-Processing (Handling Missing Data and imputing if necessary)\n",
    "\n",
    "from sklearn.experimental import enable_iterative_imputer #enables iterative imputer \n",
    "from sklearn.impute import IterativeImputer, SimpleImputer, KNNImputer,MissingIndicator\n",
    "\n",
    "\n",
    "#Models \n",
    "\n",
    "from sklearn.model_selection import train_test_split\n",
    "\n",
    "from sklearn.linear_model import LinearRegression, Lasso, Ridge, ElasticNet, HuberRegressor\n"
   ]
  },
  {
   "cell_type": "code",
   "execution_count": 215,
   "id": "9dc65af0",
   "metadata": {},
   "outputs": [
    {
     "data": {
      "text/plain": [
       "1      126000\n",
       "2      139500\n",
       "3      124900\n",
       "4      114000\n",
       "5      227000\n",
       "        ...  \n",
       "759    121000\n",
       "760    139600\n",
       "761    145000\n",
       "762    217500\n",
       "763    215000\n",
       "Name: SalePrice, Length: 2580, dtype: int64"
      ]
     },
     "execution_count": 215,
     "metadata": {},
     "output_type": "execute_result"
    }
   ],
   "source": [
    "ML_df['SalePrice']"
   ]
  },
  {
   "cell_type": "code",
   "execution_count": 216,
   "id": "a91f493d",
   "metadata": {},
   "outputs": [],
   "source": [
    "X = ML_df.drop('SalePrice', axis = 1)\n",
    "y = ML_df.SalePrice"
   ]
  },
  {
   "cell_type": "code",
   "execution_count": 217,
   "id": "c8f174a4",
   "metadata": {},
   "outputs": [
    {
     "name": "stdout",
     "output_type": "stream",
     "text": [
      "Requirement already satisfied: mlxtend in c:\\users\\rauna\\anaconda3\\lib\\site-packages (0.19.0)\n",
      "Requirement already satisfied: pandas>=0.24.2 in c:\\users\\rauna\\anaconda3\\lib\\site-packages (from mlxtend) (1.3.4)\n",
      "Requirement already satisfied: scikit-learn>=0.20.3 in c:\\users\\rauna\\anaconda3\\lib\\site-packages (from mlxtend) (0.24.2)\n",
      "Requirement already satisfied: scipy>=1.2.1 in c:\\users\\rauna\\anaconda3\\lib\\site-packages (from mlxtend) (1.7.1)\n",
      "Requirement already satisfied: joblib>=0.13.2 in c:\\users\\rauna\\anaconda3\\lib\\site-packages (from mlxtend) (1.1.0)\n",
      "Requirement already satisfied: matplotlib>=3.0.0 in c:\\users\\rauna\\anaconda3\\lib\\site-packages (from mlxtend) (3.4.3)\n",
      "Requirement already satisfied: numpy>=1.16.2 in c:\\users\\rauna\\anaconda3\\lib\\site-packages (from mlxtend) (1.20.3)\n",
      "Requirement already satisfied: setuptools in c:\\users\\rauna\\anaconda3\\lib\\site-packages (from mlxtend) (58.0.4)\n",
      "Requirement already satisfied: kiwisolver>=1.0.1 in c:\\users\\rauna\\anaconda3\\lib\\site-packages (from matplotlib>=3.0.0->mlxtend) (1.3.1)\n",
      "Requirement already satisfied: pillow>=6.2.0 in c:\\users\\rauna\\anaconda3\\lib\\site-packages (from matplotlib>=3.0.0->mlxtend) (8.4.0)\n",
      "Requirement already satisfied: cycler>=0.10 in c:\\users\\rauna\\anaconda3\\lib\\site-packages (from matplotlib>=3.0.0->mlxtend) (0.10.0)\n",
      "Requirement already satisfied: python-dateutil>=2.7 in c:\\users\\rauna\\anaconda3\\lib\\site-packages (from matplotlib>=3.0.0->mlxtend) (2.8.2)\n",
      "Requirement already satisfied: pyparsing>=2.2.1 in c:\\users\\rauna\\anaconda3\\lib\\site-packages (from matplotlib>=3.0.0->mlxtend) (3.0.4)\n",
      "Requirement already satisfied: six in c:\\users\\rauna\\anaconda3\\lib\\site-packages (from cycler>=0.10->matplotlib>=3.0.0->mlxtend) (1.16.0)\n",
      "Requirement already satisfied: pytz>=2017.3 in c:\\users\\rauna\\anaconda3\\lib\\site-packages (from pandas>=0.24.2->mlxtend) (2021.3)\n",
      "Requirement already satisfied: threadpoolctl>=2.0.0 in c:\\users\\rauna\\anaconda3\\lib\\site-packages (from scikit-learn>=0.20.3->mlxtend) (2.2.0)\n"
     ]
    }
   ],
   "source": [
    "!pip install mlxtend"
   ]
  },
  {
   "cell_type": "code",
   "execution_count": 218,
   "id": "fb453025",
   "metadata": {},
   "outputs": [],
   "source": [
    "from mlxtend.feature_selection import SequentialFeatureSelector as sfs\n",
    "from sklearn.linear_model import LinearRegression"
   ]
  },
  {
   "cell_type": "code",
   "execution_count": 219,
   "id": "0b6b6b73",
   "metadata": {},
   "outputs": [],
   "source": [
    "lreg = LinearRegression()\n",
    "\n",
    "sfs1 = sfs(lreg, k_features=45, forward=False, verbose=1, scoring='neg_mean_squared_error')"
   ]
  },
  {
   "cell_type": "code",
   "execution_count": 220,
   "id": "19e10031",
   "metadata": {},
   "outputs": [
    {
     "name": "stderr",
     "output_type": "stream",
     "text": [
      "[Parallel(n_jobs=1)]: Using backend SequentialBackend with 1 concurrent workers.\n",
      "[Parallel(n_jobs=1)]: Done 101 out of 101 | elapsed:   13.0s finished\n",
      "Features: 100/45[Parallel(n_jobs=1)]: Using backend SequentialBackend with 1 concurrent workers.\n",
      "[Parallel(n_jobs=1)]: Done 100 out of 100 | elapsed:   11.1s finished\n",
      "Features: 99/45[Parallel(n_jobs=1)]: Using backend SequentialBackend with 1 concurrent workers.\n",
      "[Parallel(n_jobs=1)]: Done  99 out of  99 | elapsed:    9.7s finished\n",
      "Features: 98/45[Parallel(n_jobs=1)]: Using backend SequentialBackend with 1 concurrent workers.\n",
      "[Parallel(n_jobs=1)]: Done  98 out of  98 | elapsed:   10.0s finished\n",
      "Features: 97/45[Parallel(n_jobs=1)]: Using backend SequentialBackend with 1 concurrent workers.\n",
      "[Parallel(n_jobs=1)]: Done  97 out of  97 | elapsed:    9.2s finished\n",
      "Features: 96/45[Parallel(n_jobs=1)]: Using backend SequentialBackend with 1 concurrent workers.\n",
      "[Parallel(n_jobs=1)]: Done  96 out of  96 | elapsed:    9.3s finished\n",
      "Features: 95/45[Parallel(n_jobs=1)]: Using backend SequentialBackend with 1 concurrent workers.\n",
      "[Parallel(n_jobs=1)]: Done  95 out of  95 | elapsed:   10.3s finished\n",
      "Features: 94/45[Parallel(n_jobs=1)]: Using backend SequentialBackend with 1 concurrent workers.\n",
      "[Parallel(n_jobs=1)]: Done  94 out of  94 | elapsed:    9.7s finished\n",
      "Features: 93/45[Parallel(n_jobs=1)]: Using backend SequentialBackend with 1 concurrent workers.\n",
      "[Parallel(n_jobs=1)]: Done  93 out of  93 | elapsed:   10.3s finished\n",
      "Features: 92/45[Parallel(n_jobs=1)]: Using backend SequentialBackend with 1 concurrent workers.\n",
      "[Parallel(n_jobs=1)]: Done  92 out of  92 | elapsed:    8.5s finished\n",
      "Features: 91/45[Parallel(n_jobs=1)]: Using backend SequentialBackend with 1 concurrent workers.\n",
      "[Parallel(n_jobs=1)]: Done  91 out of  91 | elapsed:    8.0s finished\n",
      "Features: 90/45[Parallel(n_jobs=1)]: Using backend SequentialBackend with 1 concurrent workers.\n",
      "[Parallel(n_jobs=1)]: Done  90 out of  90 | elapsed:    8.6s finished\n",
      "Features: 89/45[Parallel(n_jobs=1)]: Using backend SequentialBackend with 1 concurrent workers.\n",
      "[Parallel(n_jobs=1)]: Done  89 out of  89 | elapsed:    8.1s finished\n",
      "Features: 88/45[Parallel(n_jobs=1)]: Using backend SequentialBackend with 1 concurrent workers.\n",
      "[Parallel(n_jobs=1)]: Done  88 out of  88 | elapsed:    8.3s finished\n",
      "Features: 87/45[Parallel(n_jobs=1)]: Using backend SequentialBackend with 1 concurrent workers.\n",
      "[Parallel(n_jobs=1)]: Done  87 out of  87 | elapsed:    7.3s finished\n",
      "Features: 86/45[Parallel(n_jobs=1)]: Using backend SequentialBackend with 1 concurrent workers.\n",
      "[Parallel(n_jobs=1)]: Done  86 out of  86 | elapsed:    7.0s finished\n",
      "Features: 85/45[Parallel(n_jobs=1)]: Using backend SequentialBackend with 1 concurrent workers.\n",
      "[Parallel(n_jobs=1)]: Done  85 out of  85 | elapsed:    6.8s finished\n",
      "Features: 84/45[Parallel(n_jobs=1)]: Using backend SequentialBackend with 1 concurrent workers.\n",
      "[Parallel(n_jobs=1)]: Done  84 out of  84 | elapsed:    6.8s finished\n",
      "Features: 83/45[Parallel(n_jobs=1)]: Using backend SequentialBackend with 1 concurrent workers.\n",
      "[Parallel(n_jobs=1)]: Done  83 out of  83 | elapsed:    6.5s finished\n",
      "Features: 82/45[Parallel(n_jobs=1)]: Using backend SequentialBackend with 1 concurrent workers.\n",
      "[Parallel(n_jobs=1)]: Done  82 out of  82 | elapsed:    6.6s finished\n",
      "Features: 81/45[Parallel(n_jobs=1)]: Using backend SequentialBackend with 1 concurrent workers.\n",
      "[Parallel(n_jobs=1)]: Done  81 out of  81 | elapsed:    6.6s finished\n",
      "Features: 80/45[Parallel(n_jobs=1)]: Using backend SequentialBackend with 1 concurrent workers.\n",
      "[Parallel(n_jobs=1)]: Done  80 out of  80 | elapsed:    6.2s finished\n",
      "Features: 79/45[Parallel(n_jobs=1)]: Using backend SequentialBackend with 1 concurrent workers.\n",
      "[Parallel(n_jobs=1)]: Done  79 out of  79 | elapsed:    6.4s finished\n",
      "Features: 78/45[Parallel(n_jobs=1)]: Using backend SequentialBackend with 1 concurrent workers.\n",
      "[Parallel(n_jobs=1)]: Done  78 out of  78 | elapsed:    8.7s finished\n",
      "Features: 77/45[Parallel(n_jobs=1)]: Using backend SequentialBackend with 1 concurrent workers.\n",
      "[Parallel(n_jobs=1)]: Done  77 out of  77 | elapsed:    7.6s finished\n",
      "Features: 76/45[Parallel(n_jobs=1)]: Using backend SequentialBackend with 1 concurrent workers.\n",
      "[Parallel(n_jobs=1)]: Done  76 out of  76 | elapsed:    5.5s finished\n",
      "Features: 75/45[Parallel(n_jobs=1)]: Using backend SequentialBackend with 1 concurrent workers.\n",
      "[Parallel(n_jobs=1)]: Done  75 out of  75 | elapsed:    5.2s finished\n",
      "Features: 74/45[Parallel(n_jobs=1)]: Using backend SequentialBackend with 1 concurrent workers.\n",
      "[Parallel(n_jobs=1)]: Done  74 out of  74 | elapsed:    6.0s finished\n",
      "Features: 73/45[Parallel(n_jobs=1)]: Using backend SequentialBackend with 1 concurrent workers.\n",
      "[Parallel(n_jobs=1)]: Done  73 out of  73 | elapsed:    4.9s finished\n",
      "Features: 72/45[Parallel(n_jobs=1)]: Using backend SequentialBackend with 1 concurrent workers.\n",
      "[Parallel(n_jobs=1)]: Done  72 out of  72 | elapsed:    4.8s finished\n",
      "Features: 71/45[Parallel(n_jobs=1)]: Using backend SequentialBackend with 1 concurrent workers.\n",
      "[Parallel(n_jobs=1)]: Done  71 out of  71 | elapsed:    4.7s finished\n",
      "Features: 70/45[Parallel(n_jobs=1)]: Using backend SequentialBackend with 1 concurrent workers.\n",
      "[Parallel(n_jobs=1)]: Done  70 out of  70 | elapsed:    4.5s finished\n",
      "Features: 69/45[Parallel(n_jobs=1)]: Using backend SequentialBackend with 1 concurrent workers.\n",
      "[Parallel(n_jobs=1)]: Done  69 out of  69 | elapsed:    4.3s finished\n",
      "Features: 68/45[Parallel(n_jobs=1)]: Using backend SequentialBackend with 1 concurrent workers.\n",
      "[Parallel(n_jobs=1)]: Done  68 out of  68 | elapsed:    4.3s finished\n",
      "Features: 67/45[Parallel(n_jobs=1)]: Using backend SequentialBackend with 1 concurrent workers.\n",
      "[Parallel(n_jobs=1)]: Done  67 out of  67 | elapsed:    4.3s finished\n",
      "Features: 66/45[Parallel(n_jobs=1)]: Using backend SequentialBackend with 1 concurrent workers.\n",
      "[Parallel(n_jobs=1)]: Done  66 out of  66 | elapsed:    4.0s finished\n",
      "Features: 65/45[Parallel(n_jobs=1)]: Using backend SequentialBackend with 1 concurrent workers.\n",
      "[Parallel(n_jobs=1)]: Done  65 out of  65 | elapsed:    3.8s finished\n",
      "Features: 64/45[Parallel(n_jobs=1)]: Using backend SequentialBackend with 1 concurrent workers.\n",
      "[Parallel(n_jobs=1)]: Done  64 out of  64 | elapsed:    3.7s finished\n",
      "Features: 63/45[Parallel(n_jobs=1)]: Using backend SequentialBackend with 1 concurrent workers.\n",
      "[Parallel(n_jobs=1)]: Done  63 out of  63 | elapsed:    3.7s finished\n",
      "Features: 62/45[Parallel(n_jobs=1)]: Using backend SequentialBackend with 1 concurrent workers.\n",
      "[Parallel(n_jobs=1)]: Done  62 out of  62 | elapsed:    3.7s finished\n",
      "Features: 61/45[Parallel(n_jobs=1)]: Using backend SequentialBackend with 1 concurrent workers.\n",
      "[Parallel(n_jobs=1)]: Done  61 out of  61 | elapsed:    3.5s finished\n",
      "Features: 60/45[Parallel(n_jobs=1)]: Using backend SequentialBackend with 1 concurrent workers.\n",
      "[Parallel(n_jobs=1)]: Done  60 out of  60 | elapsed:    3.3s finished\n",
      "Features: 59/45[Parallel(n_jobs=1)]: Using backend SequentialBackend with 1 concurrent workers.\n",
      "[Parallel(n_jobs=1)]: Done  59 out of  59 | elapsed:    3.2s finished\n",
      "Features: 58/45[Parallel(n_jobs=1)]: Using backend SequentialBackend with 1 concurrent workers.\n",
      "[Parallel(n_jobs=1)]: Done  58 out of  58 | elapsed:    3.1s finished\n",
      "Features: 57/45[Parallel(n_jobs=1)]: Using backend SequentialBackend with 1 concurrent workers.\n",
      "[Parallel(n_jobs=1)]: Done  57 out of  57 | elapsed:    3.6s finished\n",
      "Features: 56/45[Parallel(n_jobs=1)]: Using backend SequentialBackend with 1 concurrent workers.\n",
      "[Parallel(n_jobs=1)]: Done  56 out of  56 | elapsed:    3.2s finished\n",
      "Features: 55/45[Parallel(n_jobs=1)]: Using backend SequentialBackend with 1 concurrent workers.\n",
      "[Parallel(n_jobs=1)]: Done  55 out of  55 | elapsed:    2.8s finished\n",
      "Features: 54/45[Parallel(n_jobs=1)]: Using backend SequentialBackend with 1 concurrent workers.\n",
      "[Parallel(n_jobs=1)]: Done  54 out of  54 | elapsed:    3.3s finished\n",
      "Features: 53/45[Parallel(n_jobs=1)]: Using backend SequentialBackend with 1 concurrent workers.\n",
      "[Parallel(n_jobs=1)]: Done  53 out of  53 | elapsed:    2.9s finished\n",
      "Features: 52/45[Parallel(n_jobs=1)]: Using backend SequentialBackend with 1 concurrent workers.\n"
     ]
    },
    {
     "name": "stderr",
     "output_type": "stream",
     "text": [
      "[Parallel(n_jobs=1)]: Done  52 out of  52 | elapsed:    3.3s finished\n",
      "Features: 51/45[Parallel(n_jobs=1)]: Using backend SequentialBackend with 1 concurrent workers.\n",
      "[Parallel(n_jobs=1)]: Done  51 out of  51 | elapsed:    2.9s finished\n",
      "Features: 50/45[Parallel(n_jobs=1)]: Using backend SequentialBackend with 1 concurrent workers.\n",
      "[Parallel(n_jobs=1)]: Done  50 out of  50 | elapsed:    2.4s finished\n",
      "Features: 49/45[Parallel(n_jobs=1)]: Using backend SequentialBackend with 1 concurrent workers.\n",
      "[Parallel(n_jobs=1)]: Done  49 out of  49 | elapsed:    2.8s finished\n",
      "Features: 48/45[Parallel(n_jobs=1)]: Using backend SequentialBackend with 1 concurrent workers.\n",
      "[Parallel(n_jobs=1)]: Done  48 out of  48 | elapsed:    2.2s finished\n",
      "Features: 47/45[Parallel(n_jobs=1)]: Using backend SequentialBackend with 1 concurrent workers.\n",
      "[Parallel(n_jobs=1)]: Done  47 out of  47 | elapsed:    2.1s finished\n",
      "Features: 46/45[Parallel(n_jobs=1)]: Using backend SequentialBackend with 1 concurrent workers.\n",
      "[Parallel(n_jobs=1)]: Done  46 out of  46 | elapsed:    2.0s finished\n",
      "Features: 45/45"
     ]
    }
   ],
   "source": [
    "sfs1 = sfs1.fit(X, y)"
   ]
  },
  {
   "cell_type": "code",
   "execution_count": 221,
   "id": "ac425734",
   "metadata": {},
   "outputs": [
    {
     "name": "stdout",
     "output_type": "stream",
     "text": [
      "['Condition1', 'Functional', 'MSZoning_RL', 'LandContour_HLS', 'LandContour_Lvl', 'LotConfig_CulDSac', 'Neighborhood_CollgCr', 'Neighborhood_Edwards', 'Neighborhood_Gilbert', 'Neighborhood_Mitchel', 'Neighborhood_NAmes', 'Neighborhood_NWAmes', 'Neighborhood_OldTown', 'Neighborhood_Sawyer', 'Neighborhood_SawyerW', 'BldgType_Twnhs', 'BldgType_TwnhsE', 'HouseStyle_1Story', 'Exterior1st_Wd Sdng', 'Exterior2nd_VinylSd', 'Exterior2nd_Wd Sdng', 'ExterQual_Fa', 'ExterQual_Gd', 'ExterQual_TA', 'Foundation_CBlock', 'HeatingQC_TA', 'KitchenQual_Fa', 'KitchenQual_Gd', 'KitchenQual_TA', 'GrLivArea', 'LotArea', 'OverallQual', 'OverallCond', 'YearBuilt', 'MasVnrArea', 'BsmtFinSF1', 'BsmtFinSF2', 'TotalBsmtSF', 'BsmtFullBath', 'BedroomAbvGr', 'KitchenAbvGr', 'Fireplaces', 'GarageYrBlt', 'GarageArea', 'ScreenPorch']\n"
     ]
    }
   ],
   "source": [
    "feat_names = list(sfs1.k_feature_names_)\n",
    "print(feat_names)\n"
   ]
  },
  {
   "cell_type": "code",
   "execution_count": 222,
   "id": "29c43e3c",
   "metadata": {},
   "outputs": [],
   "source": [
    "feature_cols = ['Condition1', 'Functional', 'MSZoning_RL', 'LandContour_HLS', 'LandContour_Lvl', 'LotConfig_CulDSac', 'Neighborhood_CollgCr', 'Neighborhood_Edwards', 'Neighborhood_Gilbert', 'Neighborhood_Mitchel', 'Neighborhood_NAmes', 'Neighborhood_NWAmes', 'Neighborhood_OldTown', 'Neighborhood_Sawyer', 'Neighborhood_SawyerW', 'BldgType_Twnhs', 'BldgType_TwnhsE', 'HouseStyle_1Story', 'Exterior1st_Wd Sdng', 'Exterior2nd_VinylSd', 'Exterior2nd_Wd Sdng', 'ExterQual_Fa', 'ExterQual_Gd', 'ExterQual_TA', 'Foundation_CBlock', 'HeatingQC_TA', 'KitchenQual_Fa', 'KitchenQual_Gd', 'KitchenQual_TA', 'GrLivArea', 'LotArea', 'OverallQual', 'OverallCond', 'YearBuilt', 'MasVnrArea', 'BsmtFinSF1', 'BsmtFinSF2', 'TotalBsmtSF', 'BsmtFullBath', 'BedroomAbvGr', 'KitchenAbvGr', 'Fireplaces', 'GarageYrBlt', 'GarageArea', 'ScreenPorch']"
   ]
  },
  {
   "cell_type": "code",
   "execution_count": 223,
   "id": "0a4b7585",
   "metadata": {},
   "outputs": [],
   "source": [
    "df_features = ML_df[['Condition1', 'Functional', 'MSZoning_RL', 'LandContour_HLS', 'LandContour_Lvl', 'LotConfig_CulDSac', 'Neighborhood_CollgCr', 'Neighborhood_Edwards', 'Neighborhood_Gilbert', 'Neighborhood_Mitchel', 'Neighborhood_NAmes', 'Neighborhood_NWAmes', 'Neighborhood_OldTown', 'Neighborhood_Sawyer', 'Neighborhood_SawyerW', 'BldgType_Twnhs', 'BldgType_TwnhsE', 'HouseStyle_1Story', 'Exterior1st_Wd Sdng', 'Exterior2nd_VinylSd', 'Exterior2nd_Wd Sdng', 'ExterQual_Fa', 'ExterQual_Gd', 'ExterQual_TA', 'Foundation_CBlock', 'HeatingQC_TA', 'KitchenQual_Fa', 'KitchenQual_Gd', 'KitchenQual_TA', 'GrLivArea', 'LotArea', 'OverallQual', 'OverallCond', 'YearBuilt', 'MasVnrArea', 'BsmtFinSF1', 'BsmtFinSF2', 'TotalBsmtSF', 'BsmtFullBath', 'BedroomAbvGr', 'KitchenAbvGr', 'Fireplaces', 'GarageYrBlt', 'GarageArea', 'ScreenPorch']]"
   ]
  },
  {
   "cell_type": "code",
   "execution_count": 224,
   "id": "b59a2470",
   "metadata": {},
   "outputs": [
    {
     "data": {
      "text/plain": [
       "(2580, 101)"
      ]
     },
     "execution_count": 224,
     "metadata": {},
     "output_type": "execute_result"
    }
   ],
   "source": [
    "X.shape"
   ]
  },
  {
   "cell_type": "code",
   "execution_count": 225,
   "id": "008ad636",
   "metadata": {},
   "outputs": [
    {
     "data": {
      "text/plain": [
       "Condition1              0\n",
       "Functional              0\n",
       "MSZoning_RL             0\n",
       "LandContour_HLS         0\n",
       "LandContour_Lvl         0\n",
       "LotConfig_CulDSac       0\n",
       "Neighborhood_CollgCr    0\n",
       "Neighborhood_Edwards    0\n",
       "Neighborhood_Gilbert    0\n",
       "Neighborhood_Mitchel    0\n",
       "Neighborhood_NAmes      0\n",
       "Neighborhood_NWAmes     0\n",
       "Neighborhood_OldTown    0\n",
       "Neighborhood_Sawyer     0\n",
       "Neighborhood_SawyerW    0\n",
       "BldgType_Twnhs          0\n",
       "BldgType_TwnhsE         0\n",
       "HouseStyle_1Story       0\n",
       "Exterior1st_Wd Sdng     0\n",
       "Exterior2nd_VinylSd     0\n",
       "Exterior2nd_Wd Sdng     0\n",
       "ExterQual_Fa            0\n",
       "ExterQual_Gd            0\n",
       "ExterQual_TA            0\n",
       "Foundation_CBlock       0\n",
       "HeatingQC_TA            0\n",
       "KitchenQual_Fa          0\n",
       "KitchenQual_Gd          0\n",
       "KitchenQual_TA          0\n",
       "GrLivArea               0\n",
       "LotArea                 0\n",
       "OverallQual             0\n",
       "OverallCond             0\n",
       "YearBuilt               0\n",
       "MasVnrArea              0\n",
       "BsmtFinSF1              0\n",
       "BsmtFinSF2              0\n",
       "TotalBsmtSF             0\n",
       "BsmtFullBath            0\n",
       "BedroomAbvGr            0\n",
       "KitchenAbvGr            0\n",
       "Fireplaces              0\n",
       "GarageYrBlt             0\n",
       "GarageArea              0\n",
       "ScreenPorch             0\n",
       "dtype: int64"
      ]
     },
     "execution_count": 225,
     "metadata": {},
     "output_type": "execute_result"
    }
   ],
   "source": [
    "df_features.isnull().sum(axis=0)"
   ]
  },
  {
   "cell_type": "code",
   "execution_count": 235,
   "id": "b0fe8e70",
   "metadata": {},
   "outputs": [],
   "source": [
    "X_train, X_test, y_train, y_test = train_test_split(df_features, np.log(y), test_size=.2, random_state=101)"
   ]
  },
  {
   "cell_type": "code",
   "execution_count": 236,
   "id": "bd48717c",
   "metadata": {},
   "outputs": [
    {
     "data": {
      "text/plain": [
       "(2064, 45)"
      ]
     },
     "execution_count": 236,
     "metadata": {},
     "output_type": "execute_result"
    }
   ],
   "source": [
    "X_train.shape"
   ]
  },
  {
   "cell_type": "code",
   "execution_count": 237,
   "id": "dbc5c14c",
   "metadata": {},
   "outputs": [],
   "source": [
    "linregfeat = LinearRegression()"
   ]
  },
  {
   "cell_type": "code",
   "execution_count": 238,
   "id": "7dca00de",
   "metadata": {},
   "outputs": [
    {
     "data": {
      "text/plain": [
       "LinearRegression()"
      ]
     },
     "execution_count": 238,
     "metadata": {},
     "output_type": "execute_result"
    }
   ],
   "source": [
    "linregfeat.fit(X_train, y_train)"
   ]
  },
  {
   "cell_type": "code",
   "execution_count": 239,
   "id": "35fa9479",
   "metadata": {},
   "outputs": [],
   "source": [
    "y_pred = linregfeat.predict(X_test)"
   ]
  },
  {
   "cell_type": "code",
   "execution_count": 240,
   "id": "b8a188e4",
   "metadata": {},
   "outputs": [
    {
     "data": {
      "text/plain": [
       "0.9257671350935865"
      ]
     },
     "execution_count": 240,
     "metadata": {},
     "output_type": "execute_result"
    }
   ],
   "source": [
    "from sklearn.metrics import r2_score, explained_variance_score\n",
    "r2_score(y_test, y_pred)"
   ]
  },
  {
   "cell_type": "code",
   "execution_count": 241,
   "id": "519e01bd",
   "metadata": {},
   "outputs": [
    {
     "data": {
      "text/plain": [
       "0.9257721900516278"
      ]
     },
     "execution_count": 241,
     "metadata": {},
     "output_type": "execute_result"
    }
   ],
   "source": [
    "explained_variance_score(y_test, y_pred)"
   ]
  },
  {
   "cell_type": "code",
   "execution_count": 245,
   "id": "e8b10ee6",
   "metadata": {},
   "outputs": [
    {
     "name": "stderr",
     "output_type": "stream",
     "text": [
      "C:\\Users\\rauna\\anaconda3\\lib\\site-packages\\seaborn\\_decorators.py:36: FutureWarning: Pass the following variables as keyword args: x, y. From version 0.12, the only valid positional argument will be `data`, and passing other arguments without an explicit keyword will result in an error or misinterpretation.\n",
      "  warnings.warn(\n"
     ]
    },
    {
     "data": {
      "text/plain": [
       "Text(0.5, 1.0, 'Multi Linear Regression')"
      ]
     },
     "execution_count": 245,
     "metadata": {},
     "output_type": "execute_result"
    },
    {
     "data": {
      "image/png": "[encoded data removed]",
      "text/plain": [
       "<Figure size 432x288 with 1 Axes>"
      ]
     },
     "metadata": {
      "needs_background": "light"
     },
     "output_type": "display_data"
    }
   ],
   "source": [
    "sns.scatterplot(y_test, y_pred)\n",
    "sns.regplot(x = y_test,\n",
    "           y=y_pred, data = y )\n",
    "plt.ylabel('Real Values')\n",
    "plt.xlabel('Predicted Values')\n",
    "plt.title('Multi Linear Regression')\n"
   ]
  }
 ],
 "metadata": {
  "kernelspec": {
   "display_name": "Python 3 (ipykernel)",
   "language": "python",
   "name": "python3"
  },
  "language_info": {
   "codemirror_mode": {
    "name": "ipython",
    "version": 3
   },
   "file_extension": ".py",
   "mimetype": "text/x-python",
   "name": "python",
   "nbconvert_exporter": "python",
   "pygments_lexer": "ipython3",
   "version": "3.9.7"
  }
 },
 "nbformat": 4,
 "nbformat_minor": 5
}
