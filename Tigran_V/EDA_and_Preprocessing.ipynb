{
 "cells": [
  {
   "cell_type": "markdown",
   "id": "39c4b893",
   "metadata": {},
   "source": [
    "# Ames Housing Machine Learning: Predicting Home Prices"
   ]
  },
  {
   "cell_type": "markdown",
   "id": "2dd870ae",
   "metadata": {},
   "source": [
    "###  Importing Necessaty Libraries to be Used For EDA and Modeling"
   ]
  },
  {
   "cell_type": "code",
   "execution_count": null,
   "id": "db9cf7b8",
   "metadata": {},
   "outputs": [],
   "source": [
    "import numpy as np\n",
    "import pandas as pd\n",
    "import matplotlib.pyplot as plt\n",
    "%matplotlib inline\n",
    "import seaborn as sns\n",
    "import missingno as msno\n",
    "from pandas.plotting import scatter_matrix"
   ]
  },
  {
   "cell_type": "code",
   "execution_count": null,
   "id": "a8d84ff9",
   "metadata": {},
   "outputs": [],
   "source": [
    "pd.set_option(\"display.max_columns\",999) # to show all the columns in the output \n",
    "pd.set_option(\"display.max_rows\",999) # to show all the rows in the output \n",
    "plt.rcParams['figure.figsize'] = [8.0, 5.0] # setting plotting settings for the remaining of the notebook\n",
    "plt.rcParams['figure.dpi'] = 140 #setting pixels"
   ]
  },
  {
   "cell_type": "markdown",
   "id": "0e81f69e",
   "metadata": {},
   "source": [
    "###  Reading the Data"
   ]
  },
  {
   "cell_type": "code",
   "execution_count": null,
   "id": "18ec3fa3",
   "metadata": {},
   "outputs": [],
   "source": [
    "homes=pd.read_csv(r\"/Users/tiko/Documents/Machine_Learning_Ames_Housing_Kaggle/Ames_HousePrice.csv\")\n",
    "housing2=pd.read_csv(r\"/Users/tiko/Documents/Machine_Learning_Ames_Housing_Kaggle/Ames_Real_Estate_Data.csv\")\n",
    "\n",
    "\n",
    "# ** housing2 dataset is an additional dataset that will be used if it contains usfull information **"
   ]
  },
  {
   "cell_type": "markdown",
   "id": "0c8aaa89",
   "metadata": {},
   "source": [
    "# EDA For First Dataset (Ames_HousePrice.csv) --> homes"
   ]
  },
  {
   "cell_type": "code",
   "execution_count": null,
   "id": "09eabf5c",
   "metadata": {},
   "outputs": [],
   "source": [
    "homes.head()\n",
    "'''\n",
    "\n",
    "Using different Machine Learning models, we will attempt to predict Sales Price of homes based on data collected\n",
    "from sales between the years 2007-2010. \n",
    "\n",
    "\n",
    "'''"
   ]
  },
  {
   "cell_type": "code",
   "execution_count": null,
   "id": "6278c0e4",
   "metadata": {},
   "outputs": [],
   "source": [
    "homes.info()"
   ]
  },
  {
   "cell_type": "code",
   "execution_count": null,
   "id": "52c0c10a",
   "metadata": {},
   "outputs": [],
   "source": [
    "homes.describe()"
   ]
  },
  {
   "cell_type": "code",
   "execution_count": null,
   "id": "80891a2c",
   "metadata": {},
   "outputs": [],
   "source": [
    "homes.shape\n",
    "\n",
    "# 2580 rows and 82 columns"
   ]
  },
  {
   "cell_type": "code",
   "execution_count": null,
   "id": "fd2a6626",
   "metadata": {},
   "outputs": [],
   "source": [
    "\n",
    "homes['YrSold'].value_counts().plot.bar();\n",
    "\n",
    "##Bar plot based on Year Sold"
   ]
  },
  {
   "cell_type": "markdown",
   "id": "dca6275a",
   "metadata": {},
   "source": [
    "### Exploring Distribution of our Target (SalePrice)"
   ]
  },
  {
   "cell_type": "code",
   "execution_count": null,
   "id": "0e0828b0",
   "metadata": {},
   "outputs": [],
   "source": [
    "def target_dist():\n",
    "    '''\n",
    "    \n",
    "    Analyzing how our target column (SalePrice) is distributed. For linear models, we need our target variable to \n",
    "    follow the gaussian distribution.\n",
    "    \n",
    "    '''\n",
    "\n",
    "    fig, (ax1, ax2) = plt.subplots(1,2, sharex=False, sharey=True)\n",
    "\n",
    "    sns.histplot(homes['SalePrice'],ax=ax1,bins=30);\n",
    "    sns.histplot(np.log(homes['SalePrice']),ax=ax2,bins = 30);\n",
    "\n",
    "    ax1.set_title(\"Sale Price - Right Skewed\")\n",
    "    ax1.set_ylabel(\"Count\")\n",
    "    ax1.set_xlabel(\"Sale Price in thousands ($)\")\n",
    "\n",
    "    ax2.set_title(\"Sale Price - Log Transformation\")\n",
    "    ax2.set_ylabel(\"Count\")\n",
    "    ax2.set_xlabel(\"Sale Price - Logged\")\n",
    "    \n",
    "\n",
    "target_dist()\n",
    "#How is our output column distributed (currently skewd to the right -->log transform)"
   ]
  },
  {
   "cell_type": "markdown",
   "id": "79cf95e1",
   "metadata": {},
   "source": [
    "## Exploring Columns and Column Types in our dataset"
   ]
  },
  {
   "cell_type": "code",
   "execution_count": null,
   "id": "85215784",
   "metadata": {},
   "outputs": [],
   "source": [
    "# Deeper look into type of columns\n",
    "print(\"Numeric Columns: \", '\\n')\n",
    "print(homes.select_dtypes(exclude='object').columns, '\\n')# all numerical (non-object) columns\n",
    "\n",
    "print('Object Columns: ','\\n')\n",
    "print(homes.select_dtypes(include='object').columns, '\\n')# All object columns (string and/or mixed)\n"
   ]
  },
  {
   "cell_type": "code",
   "execution_count": null,
   "id": "a5d37d6f",
   "metadata": {},
   "outputs": [],
   "source": [
    "\n",
    "homes['MSZoning'].value_counts().plot.bar();\n",
    "#Some categorical Columns are imbalanced (will need to combine minority classes)"
   ]
  },
  {
   "cell_type": "code",
   "execution_count": null,
   "id": "837cbc6b",
   "metadata": {},
   "outputs": [],
   "source": [
    "df_object = homes.select_dtypes(include='object') \n",
    "#creating DF with all non-numeric columns (potentially categorical) to check class balance. \n",
    "df_numeric = homes.select_dtypes(exclude = 'object')"
   ]
  },
  {
   "cell_type": "code",
   "execution_count": null,
   "id": "edca951a",
   "metadata": {},
   "outputs": [],
   "source": [
    "def check_class_imbalance(df, nrow, ncol):\n",
    "    '''\n",
    "    Function creates subplots of all 'categorical' columns in our dataframe and outputs count of occurance for all \n",
    "    classes (categorical) in the dataframe. \n",
    "    \n",
    "    '''\n",
    "\n",
    "    fig, ax  = plt.subplots(figsize = (15, 50))\n",
    "    for n, col in enumerate(df.columns):\n",
    "        plt.subplot(nrow, ncol,n+1) #specify number of rows and number of columns for graph output\n",
    "        df[col].value_counts().plot.bar()\n",
    "        plt.title(str(col))\n",
    "    plt.tight_layout()\n",
    "\n",
    "\n",
    "\n",
    "check_class_imbalance(df_object, 11,4)\n",
    "\n",
    "\n",
    "\n",
    "'''\n",
    "Based on the subplots output, we can see that we have many categorical input variables that have imbalanced \n",
    "classes. One way to solve this problem is to combine  minority classes into one. \n",
    "\n",
    "This is tricky as we also do not want to lose additional information detrimental to our output. \n",
    "\n",
    "\n",
    "'''\n",
    "\n"
   ]
  },
  {
   "cell_type": "code",
   "execution_count": null,
   "id": "9d7d29a6",
   "metadata": {},
   "outputs": [],
   "source": [
    "def check_dist(df, nrow, ncol):\n",
    "    '''\n",
    "    Function creates subplots of all 'numerical' columns in our dataframe and outputs distribution\n",
    "    of all numerical datasets. Normally distributed input variables help improve our ML model.\n",
    "    The more normally distributed, the better. \n",
    "    \n",
    "    \n",
    "    ***USE Discretization Transforms if necessry ***\n",
    "    \n",
    "    '''\n",
    "\n",
    "    fig, ax  = plt.subplots(figsize = (15, 50))\n",
    "    for n, col in enumerate(df.columns):\n",
    "        plt.subplot(nrow, ncol,n+1) #specify number of rows and number of columns for graph output\n",
    "        df[col].plot.hist(bins = 30)\n",
    "        plt.title(str(col))\n",
    "    plt.tight_layout()\n",
    "\n",
    "\n",
    "\n",
    "check_dist(df_numeric, 11,4)"
   ]
  },
  {
   "cell_type": "code",
   "execution_count": null,
   "id": "3b3c53e7",
   "metadata": {},
   "outputs": [],
   "source": []
  },
  {
   "cell_type": "code",
   "execution_count": null,
   "id": "99395147",
   "metadata": {},
   "outputs": [],
   "source": [
    "def target_correlation(df, nrow, ncol):\n",
    "    '''\n",
    "    creating subplots of all numerical columns to find correlation between the input variables and our\n",
    "    target, 'SalePrice'. \n",
    "    \n",
    "    \n",
    "    '''\n",
    "    fig, ax  = plt.subplots(figsize = (15, 50))\n",
    "\n",
    "    for i, col in enumerate(df.columns):\n",
    "        plt.subplot(nrow,ncol,i+1) \n",
    "        plt.title(str(col) + ' & Sales Price Correlation')\n",
    "        sns.scatterplot(data = df, x = df[col], y = df['SalePrice'])\n",
    "    plt.tight_layout()\n"
   ]
  },
  {
   "cell_type": "code",
   "execution_count": null,
   "id": "23189cda",
   "metadata": {},
   "outputs": [],
   "source": [
    "target_correlation(df_numeric,10,4)"
   ]
  },
  {
   "cell_type": "markdown",
   "id": "276242f1",
   "metadata": {},
   "source": [
    "## Exploring NA Values"
   ]
  },
  {
   "cell_type": "code",
   "execution_count": null,
   "id": "74ba88c8",
   "metadata": {
    "scrolled": true
   },
   "outputs": [],
   "source": [
    "pd.DataFrame(homes.isna().sum())\n",
    "'''\n",
    "Some columns will be removed right away due to reasons exmplained below:\n",
    "\n",
    "\n",
    "More than 90% NA values:\n",
    "\n",
    "PoolQC\t2571\n",
    "Fence\t2055\n",
    "MiscFeature\t2483\n",
    "Alley\t2412\n",
    "\n",
    "\n",
    "\n",
    "Contenders for NA impputation. \n",
    "\n",
    "*** NOTE *** \n",
    "\n",
    "Some NA's are due to the feature not being present in the property (ie. no fireplace)\n",
    "\n",
    "FireplaceQu\t1241 (Just one example, other examples will be found as EDA progresses)\n",
    "\n",
    "*** NOTE *** \n",
    "\n",
    "LotFrontage\t462\n",
    "MasVnrType\t14\n",
    "MasVnrArea\t14\n",
    "BsmtQual\t69\n",
    "BsmtCond\t69\n",
    "BsmtExposure\t71\n",
    "BsmtFinType1\t69\n",
    "BsmtFinSF1\t1\n",
    "BsmtFinType2\t70\n",
    "BsmtFinSF2\t1\n",
    "BsmtUnfSF\t1\n",
    "TotalBsmtSF\t1\n",
    "Electrical\t1\n",
    "BsmtFullBath\t2\n",
    "BsmtHalfBath\t2\n",
    "GarageType\t127\n",
    "GarageYrBlt\t129\n",
    "GarageFinish\t129\n",
    "GarageCars\t1\n",
    "GarageArea\t1\n",
    "GarageQual\t129\n",
    "GarageCond\t129\n",
    "'''\n",
    "\n",
    "\n"
   ]
  },
  {
   "cell_type": "code",
   "execution_count": null,
   "id": "543a46c8",
   "metadata": {},
   "outputs": [],
   "source": [
    "'''\n",
    "NA Values Visualized\n",
    "darker palette ==  more na values\n",
    "'''\n",
    "\n",
    "plt.figure(figsize=(20,15))\n",
    "sns.heatmap(homes.isna(),cmap=\"BuPu\",cbar=False);"
   ]
  },
  {
   "cell_type": "code",
   "execution_count": null,
   "id": "b0d3bbed",
   "metadata": {},
   "outputs": [],
   "source": [
    "'''\n",
    "NA Values for second DataSet ('housing2')\n",
    "** We MAY use this dataset if it improves our ML model  **\n",
    "\n",
    "'''\n",
    "\n",
    "plt.figure(figsize=(20,15))\n",
    "sns.heatmap(housing2.isna(),cmap=\"BuPu\",cbar=False);"
   ]
  },
  {
   "cell_type": "code",
   "execution_count": null,
   "id": "f0c3709e",
   "metadata": {},
   "outputs": [],
   "source": [
    "housing2.head()"
   ]
  },
  {
   "cell_type": "code",
   "execution_count": null,
   "id": "36b0a1e3",
   "metadata": {},
   "outputs": [],
   "source": [
    "homes[homes['LotFrontage'].isnull()]"
   ]
  },
  {
   "cell_type": "code",
   "execution_count": null,
   "id": "bea433ba",
   "metadata": {},
   "outputs": [],
   "source": []
  },
  {
   "cell_type": "code",
   "execution_count": null,
   "id": "cf964383",
   "metadata": {},
   "outputs": [],
   "source": [
    "'''\n",
    "Only 9 homes have a pool.  All pool related columns will be dropped as to not interfere with our model. \n",
    "\n",
    "'''\n",
    "\n",
    "homes[homes['PoolArea']>0] \n",
    "\n",
    "\n",
    "\n"
   ]
  },
  {
   "cell_type": "code",
   "execution_count": null,
   "id": "a4abc9a1",
   "metadata": {},
   "outputs": [],
   "source": [
    "newdf = homes[homes[\"Fireplaces\"]==1]\n",
    "newdf['FireplaceQu'].value_counts().plot.bar();  \n",
    "# Skewed to GD and TA (AVERAGE) + 1241 NA VALUES. Minority classes \n",
    "#(Fa, Po,  will be combined together while Ex will be combined with Gd)\n",
    "\n",
    "\n",
    "'''\n",
    "Ex --> Excelent\n",
    "Gd -- > good\n",
    "Ta --> Average\n",
    "Fa --> Fair - Prefabricated Fireplace in basement\n",
    "Po -- Poor - Ben Franklin Stove\n",
    "Na --> No Fireplace\n",
    "\n",
    "\n",
    "Combined Classes: \n",
    "Gd == Gd + Ex\n",
    "TA == TA + Fa\n",
    "Po == Po\n",
    "Na = no Fireplace\n",
    "\n",
    "'''"
   ]
  },
  {
   "cell_type": "code",
   "execution_count": null,
   "id": "5d9888ec",
   "metadata": {},
   "outputs": [],
   "source": [
    "homes[\"FireplaceQu\"].value_counts() # count of fireplaces (1241 NA VALUES)"
   ]
  },
  {
   "cell_type": "code",
   "execution_count": null,
   "id": "6a5c93be",
   "metadata": {},
   "outputs": [],
   "source": [
    "def check_count(col):\n",
    "    return homes[col].value_counts().plot.bar()\n",
    "\n",
    "check_count('MSSubClass');"
   ]
  },
  {
   "cell_type": "code",
   "execution_count": null,
   "id": "d7bddcbb",
   "metadata": {},
   "outputs": [],
   "source": [
    "check_count('OverallQual');"
   ]
  },
  {
   "cell_type": "code",
   "execution_count": null,
   "id": "406d261b",
   "metadata": {},
   "outputs": [],
   "source": [
    "\n",
    "'''Heatmap for all numeric columns with correlation of more than 50%'''\n",
    "\n",
    "plt.figure(figsize  = (24,12))\n",
    "num_val=homes.select_dtypes(exclude = 'object')\n",
    "num_val.drop(\"Unnamed: 0\",axis = 1, inplace = True)\n",
    "cor = num_val.corr(method = \"spearman\")\n",
    "# sns.heatmap(cor, cmap = \"coolwarm\", )\n",
    "v = cor[(cor>0.50)].dropna(axis = 1,how = 'all')\n",
    "\n",
    "\n",
    "sns.heatmap(v)"
   ]
  },
  {
   "cell_type": "code",
   "execution_count": null,
   "id": "05c095da",
   "metadata": {},
   "outputs": [],
   "source": []
  },
  {
   "cell_type": "code",
   "execution_count": null,
   "id": "6ee81311",
   "metadata": {},
   "outputs": [],
   "source": [
    "# attempting to see all numeric columns in our features dataframe\n",
    "df_numeric.isna().sum()\n",
    "\n",
    "df_numeric_new = df_numeric.apply(lambda x: x.fillna(x.mean()),axis=1) \n",
    "# replacing all na's with average of column. this will not be the method of imputing when we get to ML modeling.\n",
    "# This is only to conduct eda.\n",
    "df_numeric_new.isna().sum()\n",
    "\n"
   ]
  },
  {
   "cell_type": "code",
   "execution_count": null,
   "id": "976dc140",
   "metadata": {},
   "outputs": [],
   "source": [
    "num_features['MasVnrType'].value_counts()"
   ]
  },
  {
   "cell_type": "code",
   "execution_count": null,
   "id": "bc5e6287",
   "metadata": {},
   "outputs": [],
   "source": [
    "# Exploring Multicolinearity with VIF (Variance Inflation Factor)\n",
    "from statsmodels.stats.outliers_influence import variance_inflation_factor as vif\n"
   ]
  },
  {
   "cell_type": "code",
   "execution_count": null,
   "id": "176d81a9",
   "metadata": {},
   "outputs": [],
   "source": [
    "#Creating a function to calculate VIF (Variance Inflation Factor to determine multicolinearity levels in the \n",
    "#numeric features of our dataset)\n",
    "\n",
    "def calc_vif(dataset):\n",
    "    viff = pd.DataFrame()\n",
    "    viff[\"Features\"] = dataset.columns\n",
    "    viff[\"VIF_Score\"] = [vif(dataset.values, i) for i in range(dataset.shape[1])] #taking the sqrt to improve\n",
    "    #readibility\n",
    "    return viff[viff[\"VIF_Score\"]>30]\n",
    "\n",
    "\n",
    "calc_vif(df_numeric_new)\n",
    "\n",
    "\n",
    "#columns with High VIF Score:\n",
    "\n",
    "# 7.  YearBuilt\t154.563646\n",
    "# 8\tYearRemodAdd\t147.719689\n",
    "# 10\tBsmtFinSF1\tinf\n",
    "# 11\tBsmtFinSF2\tinf\n",
    "# 12\tBsmtUnfSF\tinf\n",
    "# 13\tTotalBsmtSF\tinf\n",
    "# 14\t1stFlrSF\tinf\n",
    "# 25\tGarageYrBlt\t163.295516\n",
    "# 36\tYrSold\t157.303896\n"
   ]
  },
  {
   "cell_type": "code",
   "execution_count": null,
   "id": "7c458d64",
   "metadata": {},
   "outputs": [],
   "source": [
    "df_numeric_new.head()"
   ]
  },
  {
   "cell_type": "code",
   "execution_count": null,
   "id": "4c4ff71c",
   "metadata": {},
   "outputs": [],
   "source": [
    "df_numeric_new['GarageArea'].value_counts()\n",
    "df_numeric['GarageArea'].value_counts()"
   ]
  },
  {
   "cell_type": "code",
   "execution_count": null,
   "id": "70a8da1d",
   "metadata": {},
   "outputs": [],
   "source": [
    "print(df_numeric_new.corr())"
   ]
  },
  {
   "cell_type": "code",
   "execution_count": null,
   "id": "b850bf61",
   "metadata": {},
   "outputs": [],
   "source": [
    "plt.figure(figsize=(20,12));\n",
    "sns.heatmap(df_numeric.corr(), cmap=\"coolwarm\", cbar=False, annot=True);\n",
    "#columns with High VIF Score:\n",
    "\n",
    "# 7.  YearBuilt\t154.563646\n",
    "# 8\tYearRemodAdd\t147.719689\n",
    "# 10\tBsmtFinSF1\tinf\n",
    "# 11\tBsmtFinSF2\tinf\n",
    "# 12\tBsmtUnfSF\tinf\n",
    "# 13\tTotalBsmtSF\tinf\n",
    "# 14\t1stFlrSF\tinf\n",
    "# 25\tGarageYrBlt\t163.295516\n",
    "# 36\tYrSold\t157.303896"
   ]
  },
  {
   "cell_type": "code",
   "execution_count": null,
   "id": "faaa923c",
   "metadata": {},
   "outputs": [],
   "source": [
    "df_numeric_new.drop('TotRmsAbvGrd', inplace = True, axis = 1)"
   ]
  },
  {
   "cell_type": "code",
   "execution_count": null,
   "id": "b1df1bc3",
   "metadata": {},
   "outputs": [],
   "source": [
    "calc_vif(df_numeric_new)"
   ]
  },
  {
   "cell_type": "code",
   "execution_count": null,
   "id": "43f8f543",
   "metadata": {},
   "outputs": [],
   "source": [
    "sns.scatterplot(data = num_feat_target, x = \"GrLivArea\", y = \"target\");"
   ]
  },
  {
   "cell_type": "code",
   "execution_count": null,
   "id": "d2b947fb",
   "metadata": {},
   "outputs": [],
   "source": [
    "homes['GarageArea'].isna().sum()"
   ]
  },
  {
   "cell_type": "code",
   "execution_count": null,
   "id": "9c48b58c",
   "metadata": {},
   "outputs": [],
   "source": [
    "def scatter_rel(data, x):\n",
    "    sns.scatterplot(data = data, x = x, y = 'SalePrice')\n"
   ]
  },
  {
   "cell_type": "code",
   "execution_count": null,
   "id": "529c3d5f",
   "metadata": {},
   "outputs": [],
   "source": [
    "plt.subplot(222)\n",
    "scatter_rel(df_numeric,\"GarageArea\"); \n"
   ]
  },
  {
   "cell_type": "code",
   "execution_count": null,
   "id": "5e2a109a",
   "metadata": {},
   "outputs": [],
   "source": [
    "homes[\"GarageArea\"].value_counts().sort_values() #we have 127 garage areas with 0 squarefeet\n",
    "scatter_rel(df_numeric_new, \"GarageArea\")"
   ]
  },
  {
   "cell_type": "code",
   "execution_count": null,
   "id": "e312928e",
   "metadata": {},
   "outputs": [],
   "source": [
    "scatter_rel(df_numeric, \"LotArea\"); "
   ]
  },
  {
   "cell_type": "code",
   "execution_count": null,
   "id": "afea1c68",
   "metadata": {},
   "outputs": [],
   "source": [
    "scatter_rel(df_numeric_new, \"LotArea\"); "
   ]
  },
  {
   "cell_type": "code",
   "execution_count": null,
   "id": "8c592b9e",
   "metadata": {},
   "outputs": [],
   "source": [
    "scatter_rel(\"GrLivArea\"); "
   ]
  },
  {
   "cell_type": "code",
   "execution_count": null,
   "id": "2c051df6",
   "metadata": {},
   "outputs": [],
   "source": [
    "scatter_rel(df_numeric, \"LotArea\"); "
   ]
  },
  {
   "cell_type": "code",
   "execution_count": null,
   "id": "0a5f6095",
   "metadata": {},
   "outputs": [],
   "source": [
    "scatter_rel('1stFlrSF'); #highly correlated"
   ]
  },
  {
   "cell_type": "code",
   "execution_count": null,
   "id": "40d9f557",
   "metadata": {},
   "outputs": [],
   "source": [
    "scatter_rel(df_numeric,\n",
    "            'TotalBsmtSF')"
   ]
  },
  {
   "cell_type": "code",
   "execution_count": null,
   "id": "1ca8bd13",
   "metadata": {},
   "outputs": [],
   "source": [
    "scatter_rel(df_numeric_new,\n",
    "            'TotalBsmtSF')"
   ]
  },
  {
   "cell_type": "code",
   "execution_count": null,
   "id": "ef069f5d",
   "metadata": {},
   "outputs": [],
   "source": [
    "homes['TotalBsmtSF'].isna().sum()"
   ]
  },
  {
   "cell_type": "markdown",
   "id": "e663279a",
   "metadata": {},
   "source": [
    "## Exploring Categorical Columns With Target"
   ]
  },
  {
   "cell_type": "code",
   "execution_count": null,
   "id": "31b20fd3",
   "metadata": {},
   "outputs": [],
   "source": [
    "homes.head()"
   ]
  },
  {
   "cell_type": "code",
   "execution_count": null,
   "id": "7730c014",
   "metadata": {},
   "outputs": [],
   "source": [
    "sns.boxplot(data = homes, x =\"LotConfig\", y =\"SalePrice\");"
   ]
  },
  {
   "cell_type": "code",
   "execution_count": null,
   "id": "d5113745",
   "metadata": {},
   "outputs": [],
   "source": [
    "homes[\"LotConfig\"].value_counts().plot.bar();"
   ]
  },
  {
   "cell_type": "code",
   "execution_count": null,
   "id": "0a0cbcf3",
   "metadata": {},
   "outputs": [],
   "source": [
    "def box_plot(data,x,hue = None, y = 'SalePrice', orient = 'v'):\n",
    "    plt.figure(figsize=(20,12));\n",
    "    plt.title('Average Sales Price & '+ str(x))\n",
    "    return sns.boxplot(data = data, x = x, hue = hue, y = y, orient = orient);\n",
    "\n",
    "box_plot(data = df_numeric,x = \"OverallQual\");"
   ]
  },
  {
   "cell_type": "code",
   "execution_count": null,
   "id": "5be324d1",
   "metadata": {},
   "outputs": [],
   "source": [
    "def bar_plot(data,x,hue = None, y = 'SalePrice', orient = 'v'):\n",
    "    plt.figure(figsize=(20,12));\n",
    "    plt.title('Average Sales Price & '+ str(x))\n",
    "    return sns.barplot(data = data, x = x, hue = hue, y = y, orient = orient);\n",
    "\n",
    "bar_plot(data = df_numeric,x = \"OverallQual\");"
   ]
  },
  {
   "cell_type": "code",
   "execution_count": null,
   "id": "781b807c",
   "metadata": {},
   "outputs": [],
   "source": [
    "bar_plot(data = df_numeric,x = \"OverallCond\"); \n",
    "# Average Salesprice for homes with condition of '5', is higher than all other conditions that are higher.\n",
    "# this could mean that some people prefer to buy homes in better neighborhoods with lower condiotion score.\n",
    "# We can further explore this hypothesis below."
   ]
  },
  {
   "cell_type": "code",
   "execution_count": null,
   "id": "1953cdc6",
   "metadata": {},
   "outputs": [],
   "source": [
    "box_plot(data = homes,x = \"Neighborhood\", hue = 'OverallCond'); "
   ]
  },
  {
   "cell_type": "code",
   "execution_count": null,
   "id": "78d69772",
   "metadata": {},
   "outputs": [],
   "source": [
    "sns.barplot(data = homes[homes['SalePrice']>200000], x = 'SalePrice', y = \"Neighborhood\");\n",
    "# We want to see how homes with higher price-point, more than $200,000, in terms of neighborhood.\n",
    "plt.tight_layout() "
   ]
  },
  {
   "cell_type": "code",
   "execution_count": null,
   "id": "bb085990",
   "metadata": {},
   "outputs": [],
   "source": [
    "sns.barplot(data = homes[homes['SalePrice']>300000], x = 'OverallCond', y = \"Neighborhood\");\n",
    "# filtering homes with price of more than $200,000 will enable us to see why average price of \n",
    "#homes with 'condition' of '5' occur more than homes with better 'condition' \n"
   ]
  },
  {
   "cell_type": "code",
   "execution_count": null,
   "id": "496d69e8",
   "metadata": {},
   "outputs": [],
   "source": [
    "sns.barplot(data = homes[homes['SalePrice']<300000], x = 'OverallCond', y = \"Neighborhood\");"
   ]
  },
  {
   "cell_type": "code",
   "execution_count": null,
   "id": "05e2d56e",
   "metadata": {},
   "outputs": [],
   "source": [
    "box_plot(df_numeric, \"GarageCars\");"
   ]
  },
  {
   "cell_type": "code",
   "execution_count": null,
   "id": "23d7c4be",
   "metadata": {},
   "outputs": [],
   "source": [
    "box_plot(df_numeric, \"MSSubClass\");\n",
    "#MSSubClass: Identifies the type of dwelling involved in the sale.\t\n",
    "\n",
    "#         20\t1-STORY 1946 & NEWER ALL STYLES\n",
    "#         30\t1-STORY 1945 & OLDER\n",
    "#         40\t1-STORY W/FINISHED ATTIC ALL AGES\n",
    "#         45\t1-1/2 STORY - UNFINISHED ALL AGES\n",
    "#         50\t1-1/2 STORY FINISHED ALL AGES\n",
    "#         60\t\"LotFrontage\"\n",
    "#         70\t2-STORY 1945 & OLDER\n",
    "#         75\t2-1/2 STORY ALL AGES\n",
    "#         80\tSPLIT OR MULTI-LEVEL\n",
    "#         85\tSPLIT FOYER\n",
    "#         90\tDUPLEX - ALL STYLES AND AGES\n",
    "#        120\t1-STORY PUD (Planned Unit Development) - 1946 & NEWER\n",
    "#        150\t1-1/2 STORY PUD - ALL AGES\n",
    "#        160\t2-STORY PUD - 1946 & NEWER\n",
    "#        180\tPUD - MULTILEVEL - INCL SPLIT LEV/FOYER\n",
    "#        190\t2 FAMILY CONVERSION - ALL STYLES AND AGES"
   ]
  },
  {
   "cell_type": "code",
   "execution_count": null,
   "id": "eb41b18c",
   "metadata": {},
   "outputs": [],
   "source": [
    "sns.catplot(data = df_numeric, x = \"MSSubClass\", y = \"SalePrice\");"
   ]
  },
  {
   "cell_type": "code",
   "execution_count": null,
   "id": "17f2d557",
   "metadata": {},
   "outputs": [],
   "source": [
    "box_plot(df_numeric, \"OverallCond\");"
   ]
  },
  {
   "cell_type": "code",
   "execution_count": null,
   "id": "9d0cf8b9",
   "metadata": {},
   "outputs": [],
   "source": [
    "box_plot(homes, \"MSZoning\");"
   ]
  },
  {
   "cell_type": "code",
   "execution_count": null,
   "id": "87d1f53b",
   "metadata": {},
   "outputs": [],
   "source": [
    "scatter_rel(df_numeric, \"YearBuilt\"); "
   ]
  },
  {
   "cell_type": "code",
   "execution_count": null,
   "id": "38c41c24",
   "metadata": {},
   "outputs": [],
   "source": []
  },
  {
   "cell_type": "code",
   "execution_count": null,
   "id": "81c7206d",
   "metadata": {},
   "outputs": [],
   "source": [
    "scatter_rel(df_numeric, \"YearRemodAdd\"); "
   ]
  },
  {
   "cell_type": "code",
   "execution_count": null,
   "id": "380f7f61",
   "metadata": {},
   "outputs": [],
   "source": [
    "scatter_rel(df_numeric, \"LotFrontage\"); "
   ]
  },
  {
   "cell_type": "code",
   "execution_count": null,
   "id": "fbefb830",
   "metadata": {},
   "outputs": [],
   "source": []
  },
  {
   "cell_type": "code",
   "execution_count": null,
   "id": "397e3912",
   "metadata": {},
   "outputs": [],
   "source": [
    "homes['LotFrontage'].isna().count()"
   ]
  },
  {
   "cell_type": "code",
   "execution_count": null,
   "id": "14696528",
   "metadata": {},
   "outputs": [],
   "source": [
    "scatter_rel(homes, \"LotArea\"); "
   ]
  },
  {
   "cell_type": "code",
   "execution_count": null,
   "id": "0451f85b",
   "metadata": {},
   "outputs": [],
   "source": [
    "scatter_rel(homes, \"LotFrontage\"); "
   ]
  },
  {
   "cell_type": "code",
   "execution_count": null,
   "id": "d04b8a9d",
   "metadata": {},
   "outputs": [],
   "source": [
    "# GrLivArea\n",
    "\n",
    "homes['GrLivArea'].isna().sum() # no na values\n",
    "scatter_rel(homes, \"GrLivArea\"); "
   ]
  },
  {
   "cell_type": "code",
   "execution_count": null,
   "id": "9d1fbb04",
   "metadata": {},
   "outputs": [],
   "source": [
    "homes['MasVnrType'].head()"
   ]
  },
  {
   "cell_type": "code",
   "execution_count": null,
   "id": "f38a0ade",
   "metadata": {},
   "outputs": [],
   "source": [
    "homes['MasVnrType'].isna().sum()"
   ]
  },
  {
   "cell_type": "code",
   "execution_count": null,
   "id": "8e68190d",
   "metadata": {},
   "outputs": [],
   "source": [
    "homes['MasVnrType'].value_counts()\n",
    "#None       1559"
   ]
  },
  {
   "cell_type": "code",
   "execution_count": null,
   "id": "6ace3d35",
   "metadata": {},
   "outputs": [],
   "source": [
    "homes[\"MasVnrType\"].value_counts().plot.bar();\n",
    "\n"
   ]
  },
  {
   "cell_type": "code",
   "execution_count": null,
   "id": "73373b2a",
   "metadata": {},
   "outputs": [],
   "source": []
  },
  {
   "cell_type": "markdown",
   "id": "01d484dd",
   "metadata": {},
   "source": [
    "### Dealing with Categorical Values  and determining how to encode"
   ]
  },
  {
   "cell_type": "code",
   "execution_count": null,
   "id": "0a2ab341",
   "metadata": {},
   "outputs": [],
   "source": [
    "homes.head()"
   ]
  },
  {
   "cell_type": "code",
   "execution_count": null,
   "id": "c46aebaa",
   "metadata": {},
   "outputs": [],
   "source": [
    "cat = list(df_object.columns) + ['MSSubClass']+ ['OverallQual']+ ['OverallCond']\n",
    "h = {}\n",
    "for i in cat:\n",
    "\n",
    "    h[i] = homes[i].value_counts()\n",
    "    \n",
    "    \n",
    "print(h) #all classes for all categorical columns"
   ]
  },
  {
   "cell_type": "code",
   "execution_count": null,
   "id": "748bc2fd",
   "metadata": {},
   "outputs": [],
   "source": [
    "box_plot(homes, 'Neighborhood') # MSZoning has not large impact on SalePrice --> nominal"
   ]
  },
  {
   "cell_type": "code",
   "execution_count": null,
   "id": "d30e4d3a",
   "metadata": {},
   "outputs": [],
   "source": [
    "check_class_imbalance(df_object, 11,4)"
   ]
  },
  {
   "cell_type": "code",
   "execution_count": null,
   "id": "a4ba6443",
   "metadata": {},
   "outputs": [],
   "source": [
    "homes.columns"
   ]
  },
  {
   "cell_type": "code",
   "execution_count": null,
   "id": "51dc49f3",
   "metadata": {},
   "outputs": [],
   "source": [
    "homes.head(20)"
   ]
  },
  {
   "cell_type": "code",
   "execution_count": null,
   "id": "222fe3e0",
   "metadata": {},
   "outputs": [],
   "source": [
    "homes['GrLivArea'].value_counts()"
   ]
  },
  {
   "cell_type": "code",
   "execution_count": null,
   "id": "2b23f490",
   "metadata": {},
   "outputs": [],
   "source": [
    "sns.scatterplot(data = homes, x = 'GrLivArea', y = 'SalePrice');"
   ]
  },
  {
   "cell_type": "code",
   "execution_count": null,
   "id": "5be40277",
   "metadata": {},
   "outputs": [],
   "source": [
    "\n",
    "plt.title(\"Sales Price & Relationship Between Remodelling and Construction Date\")\n",
    "sns.scatterplot(data = homes, x = 'YearBuilt', y = 'SalePrice', hue = 'YearRemodAdd');\n",
    "\n",
    "plt.tight_layout()\n"
   ]
  },
  {
   "cell_type": "code",
   "execution_count": null,
   "id": "ca3beec4",
   "metadata": {},
   "outputs": [],
   "source": [
    "plt.title('How Garage Year Built Influences Sale Price')\n",
    "sns.scatterplot(data = homes[homes.GarageYrBlt>1980], x = 'GarageYrBlt', y = 'SalePrice');\n",
    "sns.scatterplot(data = homes[homes.GarageYrBlt<1980], x = 'GarageYrBlt', y = 'SalePrice');"
   ]
  },
  {
   "cell_type": "code",
   "execution_count": null,
   "id": "a0f00073",
   "metadata": {},
   "outputs": [],
   "source": [
    "homes[homes.GarageYrBlt<2000]['SalePrice'].mean() #1980 (65%) 1990"
   ]
  },
  {
   "cell_type": "code",
   "execution_count": null,
   "id": "675b7477",
   "metadata": {},
   "outputs": [],
   "source": [
    "homes['PavedDrive'].value_counts()"
   ]
  },
  {
   "cell_type": "code",
   "execution_count": null,
   "id": "d8b5b91d",
   "metadata": {},
   "outputs": [],
   "source": [
    "plt.title(\"Fireplace Quality and Impact on Sale Price\")\n",
    "\n",
    "sns.barplot(data = homes, x = 'MSSubClass', y = 'SalePrice');"
   ]
  },
  {
   "cell_type": "code",
   "execution_count": null,
   "id": "318be345",
   "metadata": {},
   "outputs": [],
   "source": [
    "# scatter_re"
   ]
  },
  {
   "cell_type": "markdown",
   "id": "f0ee589b",
   "metadata": {},
   "source": [
    "## Feature Selection & Engineering\n",
    "\n",
    "\n",
    "\n",
    "### Initial Column Drops\n",
    "\n",
    "<del>'Unnamed: 0'</del>: <i>Provides no valuable information</i>\n",
    "<br>\n",
    "<del>'PID'</del>: <i>Provides no valuable information BUT **will be used to merge if second dataset is used </i>\n",
    "<br>\n",
    "<del>'Alley'</del>: <i>More than 90% NA Values. Provides no valuable information</i>\n",
    "<br>\n",
    "<del>'PoolQC'</del>: <i>More than 90% NA Values. Provides no valuable information</i>\n",
    "<br>\n",
    "<del>'Fence'</del>: <i>More than 90% NA Values. Provides no valuable information</i>\n",
    "<br>\n",
    "<del>'MiscFeature'</del>: <i>More than 90% NA Values. Provides no valuable information</i>\n",
    "<br>\n",
    "<del>'MoSold'</del>: <i>Data Leakage Problem. Column information attained at sale</i>\n",
    "<br>\n",
    "<del>'YrSold'</del>: <i>Data Leakage Problem. Column information attained at sale</i>\n",
    "<br>\n",
    "<del>'SaleType'</del>: <i>Data Leakage Problem. Column information attained at sale</i>\n",
    "<br>\n",
    "<del>'SaleCondition'</del>: <i>Data Leakage Problem. Column information attained at sale</i>\n",
    "<br>\n",
    "<del>'MiscVal'</del>: <i>Provides no valuable information </i>\n",
    "<br>\n",
    "<del>'PoolArea'</del>: <i>See Feature Engineering Section</i>\n",
    "<br>\n",
    "<del>'ScreenPorch',3SsnPorch,EnclosedPorch, OpenPorchSF </del>: <i>See Feature Engineering Section</i>\n",
    "<br>\n",
    "<del>'WoodDeckSF'</del>: <i>See Feature Engineering Section</i>\n",
    "<br>\n",
    "<del>'GarageQual'</del>: <i>Almost identical to GarageCond especially considering tha minority classes will be combined.</i>\n",
    "<br>\n",
    "<del>'GarageCars'</del>: <i>GarageCars and GarageArea are linearly correlated (multicolinearity). GarageCars will be dropped. *** MAY EXPLORE BY INTERCHANGING BOTH AS GarageCars as ordinal Cat. may improve model.</i>\n",
    "<br>\n",
    "<del>'FireplaceQu and  Fireplaces '</del>: <i>Since almost half od the homes in the dataset do not have a fireplace and Fireplace Quality classes are skewed, these columns will be dropped and new one will be created to show if fireplace/nofireplace no matter how many fireplaces .See Feature Engineering Section</i>\n",
    "<br>\n",
    "<del>'Functionality'</del>: <i>Majority of homes are not damaged and homes with minor damages have average sale price that is not too far away from overall average home price. If we had more examples of 'Salvaged' homes, then it would make sense to keep this column.</i>\n",
    "<br>\n",
    "<del>'KitchenAbvGr'</del>: <i>No correlation with SalePrice and similar to KitchenQual.</i>\n",
    "<br>\n",
    "<del>'BedroomAbvGr'</del>: <i>No Valuable Information</i>\n",
    "<br>\n",
    "<del>'BsmtHalfBath'</del>: <i>No Valuable Information</i>\n",
    "<br>\n",
    "<del>'BsmtFullBath'</del>: <i>Create new column boolean : bsmntfullbath, See Feature Engineering Section </i>\n",
    "<br>\n",
    "<del>'LowQualFinSF'</del>: <i>Provides no valuable information </i>\n",
    "<br>\n",
    "<del>'1stFlrSF' and 2ndFlrSF</del>: <i>Combine the two into totalsft. See Feature Engineering </i>\n",
    "<del>'Electrical'</del>: <i>Create new columns. isStandElectr.See Feature Engineering </i>\n",
    "<br>\n",
    "CentralAir: drop and create new one. Is central air or not\n",
    "<br>\n",
    "Heating: most data is gas. no valuable information.\n",
    "<br>\n",
    "TotalBsmtSF: combine with totalsft\n",
    "<br>\n",
    "BsmtUnfSF: not much correlation with price and low volumen.\n",
    "<br>\n",
    "BsmtFinSF2\n",
    "<br>\n",
    "BsmtFinType2\n",
    "<br>\n",
    "BsmtFinSF1\n",
    "<br>\n",
    "BsmtFinType1:\n",
    "<br>\n",
    "BsmtCond: Similar to BsmtQual but with more class imbalance\n",
    "<br>\n",
    "MasVnrType and MasVnrArea: drop and feature engineer (hasMasVnr)\n",
    "<br>\n",
    "Exterior2nd\n",
    "<br>\n",
    "RoofMatl: Mostly Standards\n",
    "<br>\n",
    "Overall condition: overallQual has better correlation with SalePrice (**May keep**)\n",
    "<br>\n",
    "Condition2: all normal\n",
    "<br>\n",
    "LotConfig: is_culdesac?\n",
    "<br>\n",
    "LandSlope: No valuable information\n",
    "<br>\n",
    "Utilities: all same class\n",
    "<br>\n",
    "LandContour: isLandContourhls? bollean new column\n",
    "<br>\n",
    "LotShape: regular or not (boolean)\n",
    "\n",
    "<br>\n",
    "Street: everything is paved almost\n",
    "\n",
    "<br>\n",
    "LotArea: not much correlation\n",
    "\n",
    "<br>\n",
    "\n",
    "\n",
    "<br>\n",
    "\n",
    "<br>\n",
    "<br>\n",
    "<br>\n",
    "<br>\n",
    "<br>\n",
    "### Feature Selection & Engineering\n",
    "\n",
    "PoolArea: There is no linear relationship between pool area and SalePrice. If more than 0 square/feet, create new column to indicate pool/no pool.\n",
    "<br>\n",
    "OpenPorchSF, EnclosedPorch, 3SsnPorch, ScreenPorch: All porch related columns have identical relationship with\n",
    "SalePrice. 4 columns will be dropped and new columns will be created indicating porch/no porch.\n",
    "<br>\n",
    "WoodDeckSF: Some linear relationship with SalePrice. If more than 0 square/feet, create new column to indicate wood deck/no wood deck.\n",
    "<br>\n",
    "PavedDrive: Imbalanced classes. Most driveways are paved. Combine Minority Classes.\n",
    "<br>\n",
    "GarageCond: Imbalanced classes.  (TA    2356 Gd      14 Ex.   3), (Fa      67 Po      11) \n",
    "<br>\n",
    "GarageArea: Only 127NA values. Good linear relationship with SalePrice. 127 entries @0sqrft. Will be used instead of GarageCars\n",
    "<br>\n",
    "GarageFinish: 129 NA's (Finished, Rough Finished) Unfinished (ordinal?)\n",
    "<br>\n",
    "GarageYrBlt: Up untill 2000, GarageYrBlt has low correlation with SalePrice but after 2000 that relationship increases. New Column will be made of boolean values (built before 2000 and after 2000). There is ~66% change\n",
    "in average home price when garage is built before 2000 and after 2000. This trend is evident starting from 1980 but since this data is already old (2007-2010), I will use 2000 as the cut-off.**Expecting Similar trend for yrblt of home.**\n",
    "<br>\n",
    "GarageType: (Attchd     1527 BuiltIn     153) & (Detchd      716 Basment      27 2Types       21 CarPort       9)\n",
    "<br>\n",
    "'FireplaceQu and  Fireplaces ': delete and create new column \"YesFireplace\"\n",
    "<br>\n",
    "TotRmsAbvGrd: As grade goes up, sale price goes up as well until grade 11 and then decline. Ordinal?\n",
    "<br>\n",
    "KitchenQual: (TA, Fair, Poor) (Ex) (GD)\n",
    "<br>\n",
    "HalfBath: Convert to boolean 0, (1,2) == 1\n",
    "<br>\n",
    "FullBath: odinal 1,2,3 bath (3 being best)\n",
    "<br>\n",
    "'BsmtFullBath': Create boolean for all basements with full bath\n",
    "<br>\n",
    "1stFlrSF' and 2ndFlrSF and TotalBsmtSF : Combine the two columns by adding squarefeet. TotalSQFT (71 homes with no basement)\n",
    "<br>\n",
    "Electrical: create new boolean columns. is standard electricity or not\n",
    "<br>\n",
    "HeatingQC: create ordinal (Ex) (Good, average) (poor, fair)\n",
    "<br>\n",
    "BsmtExposure: Yes or no Boolean\n",
    "<br>\n",
    "BsmtQual: ordinal 3-way\n",
    "<br>\n",
    "Foundation: combine some minority and ordinal\n",
    "<br>\n",
    "MasVnrType and MasVnrArea: new columns hasMasVnr and is MsVnrabv400\n",
    "<br>\n",
    "Exterior1st: some encoding\n",
    "<br>\n",
    "RoofStyle: Combine Hip/Shade + Gable/everything else\n",
    "<br>\n",
    "YearRemodAdd , YearBuilt: is it above yearbuilt above 1980 and yearremod >2000?\n",
    "<br>\n",
    "HouseStyle: nominal with minority class combined\n",
    "<br>\n",
    "BldgType: 1fam Twnhouse + everything else (nominal)\n",
    "<br>\n",
    "Condition1: nominal encoding and combine minority\n",
    "<br>\n",
    "Neighborhood : nominal some minoriity\n",
    "<br>\n",
    "LotConfig: is cul-de-sac?\n",
    "<br>\n",
    "LandContour: isLandContourhls boolean\n",
    "<br>\n",
    "LotShape: Regulaar or not Boolean\n",
    "<br>\n",
    "LotFrontage:  462 Nas --> impute // important columns\n",
    "<br>\n",
    "MSZoning: Nominal (FV RL) (everything else)\n",
    "<br>\n",
    "MSSubClass: Nominal and minority\n",
    "\n",
    "\n",
    "\n",
    "\n",
    "### Feature Selection\n",
    "\n",
    "\n",
    "\n",
    "\n",
    "### Encoding Columns \n",
    "#### Minority Classes of Imbalanced Columns Will Be Combined Based on Impact on Sale Price\n",
    "\n",
    "<br> \n",
    "<br> \n",
    " \n",
    "<strong><em>Nominal Encoding:</em></strong> <i>There is no order or rank to the variable's feature.</i>\n",
    "<br> \n",
    "<br> \n",
    "<b>Ordinal Encoding:</b> <i>There is  order or rank to the variable's feature.</i>\n",
    "\n",
    "<br>\n",
    "\n",
    "<del>'Unnamed: 0'</del>: <i>Provides no valuable information</i>\n",
    "<br>\n",
    "<del>'PID'</del>: <i>Provides no valuable information BUT **will be used to merge if second dataset is used </i>\n",
    "<br>\n",
    "\n",
    "<br>\n",
    "\n",
    "<br>\n",
    "\n",
    "<br>\n",
    "\n",
    "<br>\n",
    "\n",
    "<br>\n",
    "\n",
    "<br>\n",
    "\n",
    "<br>\n",
    "\n",
    "<br>\n",
    "\n",
    "<br>\n",
    "\n",
    "<br>\n",
    "\n",
    "<br>\n",
    "\n",
    "<br>\n",
    "\n",
    "<br>\n",
    "\n",
    "<br>\n",
    "\n",
    "<br>\n",
    "\n",
    "<br>\n",
    "\n",
    "<br>\n",
    "\n",
    "<br>\n",
    "\n",
    "\n"
   ]
  },
  {
   "cell_type": "code",
   "execution_count": null,
   "id": "fbed9792",
   "metadata": {},
   "outputs": [],
   "source": [
    "'''\n",
    "\n",
    "Nominal Encoding:\n",
    "\n",
    "'MSZoning' -- >  RL is most of the class\n",
    "'Street' --> all paved\n",
    "'Alley' --> Drop (more than 90% )\n",
    "'LotShape' -->  Ref and IRl\n",
    "'LandContour'  -- mostly Lvl\n",
    "'Utilities' -->all one\n",
    "'LotConfig',  -- > Inside ==> rest\n",
    "'LandSlope',  -- > Gtl primarily\n",
    "\n",
    "'Condition1',  --> Norm\n",
    "'Condition2', --> Drop\n",
    "'BldgType',  --> mostly 1fam\n",
    "'HouseStyle',  -- 1story, 2story, rest\n",
    "'RoofStyle',  --> Gable, hip\n",
    "'RoofMatl',  --. one \n",
    "'Exterior1st', -->4 and the rest\n",
    "\n",
    "\n",
    "Ordinal Encoding:\n",
    "\n",
    "'Neighborhood' --> *** DISTANCE?? ***\n",
    "'Condition'\n",
    "'Condition1',  --> Norm\n",
    "'Condition2', --> Drop\n",
    "Exterior1st --> based on price?\n",
    "ExterQual --> TA, GD\n",
    "ExterCond --> TA, GD (dorop either one depending on correlation)\n",
    "BsmtQual --> TA, Gd, missing 50% or not existing\n",
    "BsmtCond --> less na (Ta and the rest\n",
    "KitchenQual\n",
    "\n",
    "\n",
    "'''"
   ]
  },
  {
   "cell_type": "code",
   "execution_count": null,
   "id": "1bb72b43",
   "metadata": {},
   "outputs": [],
   "source": [
    "target_correlation(df_numeric,10,4)"
   ]
  },
  {
   "cell_type": "code",
   "execution_count": null,
   "id": "c4e9b5c5",
   "metadata": {},
   "outputs": [],
   "source": [
    "homes.head(10)"
   ]
  },
  {
   "cell_type": "markdown",
   "id": "9ada5e1c",
   "metadata": {},
   "source": [
    "### Reducing Dimensionality/Random Noise & Feature Engineering"
   ]
  },
  {
   "cell_type": "code",
   "execution_count": null,
   "id": "419e3918",
   "metadata": {},
   "outputs": [],
   "source": [
    "trial = homes.copy()"
   ]
  },
  {
   "cell_type": "code",
   "execution_count": null,
   "id": "ae9741ef",
   "metadata": {},
   "outputs": [],
   "source": [
    "trial"
   ]
  },
  {
   "cell_type": "code",
   "execution_count": null,
   "id": "329c2cbd",
   "metadata": {},
   "outputs": [],
   "source": [
    "def preprocessed_DF(df):\n",
    "    trial = homes.copy()\n",
    "    \n",
    "    \n",
    "    ## How features will be classified based ond EDA and preprocessing \n",
    "    \n",
    "    num_feat = ['GrLivArea','LotFrontage', 'LotArea','YearBuilt','GarageArea', 'TotSft','YearRemodAdd','BsmtFinSF1',\n",
    "           'BsmtUnfSF','TotalBsmtSF','1stFlrSF','2ndFlrSF','LowQualFinSF','BsmtFullBath','BsmtHalfBath','FullBath',\n",
    "           'HalfBath','BedroomAbvGr','KitchenAbvGr','TotRmsAbvGrd','Fireplaces','GarageYrBlt','WoodDeckSF',]\n",
    "\n",
    "    ord_cat = ['Condition1','Condition2', 'OverallQual','OverallCond','ExterQual','ExterCond',\n",
    "          'BsmtQual','BsmtCond','KitchenQual','GarageQual','GarageCond', 'HeatingQC', 'Neighborhood','GarageFinish',\n",
    "          'GarageCars',]\n",
    "\n",
    "\n",
    "    nom_cat = ['MSSubClass','MSZoning','Street','LotShape','LandContour','Utilities','LotConfig','LandSlope',\n",
    "          'BldgType','HouseStyle','RoofStyle','RoofMatl','Exterior1st','Exterior2nd',\n",
    "          'Foundation','BsmtExposure','BsmtFinType1', 'BsmtFinType2', 'Heating','CentralAir',\n",
    "          'Electrical','Functional', 'GarageType', 'GarageFinish']\n",
    "    \n",
    "    '''\n",
    "    *** Feature Engineering based on EDA ***\n",
    "    '''\n",
    "    # homes that were built after 1980 and redomeled after 2000 displayed most correlation with increasing sale price\n",
    "    trial['newBltRmd'] = np.where((homes.YearBuilt > 1980) & (homes.YearRemodAdd > 2000), 1, 0) \n",
    "    # MasVnrType has minimal correlation with \n",
    "    trial['hasMasVnr'] = np.where((homes.MasVnrArea > 0) & (homes.MasVnrType != 'None'), 1, 0) \n",
    "    trial['TotSft'] = trial['TotalBsmtSF']+trial['1stFlrSF'] +trial['2ndFlrSF']\n",
    "    trial['UnfBsmt'] = np.where(trial.BsmtUnfSF>0, 1,0)\n",
    "    trial['NewGarage'] = np.where(trial['GarageYrBlt']>2000,1,0)\n",
    "    trial['HasWoodDk'] = np.where(trial['WoodDeckSF']>0,1,0)\n",
    "    trial['HasPorch'] = np.where((homes.OpenPorchSF > 0) | (homes.EnclosedPorch > 0) \n",
    "                             |(homes['3SsnPorch'] > 0) |(homes.ScreenPorch > 0) , 1, 0) \n",
    "    trial['HasPool'] = np.where(trial.PoolArea>0,1,0)\n",
    "    trial['PavedDrWay'] = np.where(trial.PavedDrive  == 'Y',1,0) #combined minority classes\n",
    "    trial.drop(['Unnamed: 0','Alley', 'FireplaceQu','PoolQC','Fence','MiscFeature','MiscVal',\n",
    "           'MoSold','YrSold','SaleType','SaleCondition'], axis = 1, inplace = True)\n",
    "    trial['HasBsmntType2'] = np.where(trial.BsmtFinSF2 >0, 1,0)\n",
    "    \n",
    "    \n",
    "    "
   ]
  },
  {
   "cell_type": "code",
   "execution_count": null,
   "id": "282a4fa4",
   "metadata": {},
   "outputs": [],
   "source": [
    "trial['newBltRmd'] = np.where((homes.YearBuilt > 1980) & (homes.YearRemodAdd > 2000), 1, 0) \n",
    "#removing remodel year. adding boolean if home built after 1980 and remodeled after 2000\n",
    "#trial.drop('YearRemodAdd', axis = 1, inplace = True)"
   ]
  },
  {
   "cell_type": "code",
   "execution_count": 1,
   "id": "83dc3b05",
   "metadata": {},
   "outputs": [
    {
     "ename": "NameError",
     "evalue": "name 'trial' is not defined",
     "output_type": "error",
     "traceback": [
      "\u001b[0;31m---------------------------------------------------------------------------\u001b[0m",
      "\u001b[0;31mNameError\u001b[0m                                 Traceback (most recent call last)",
      "\u001b[0;32m/var/folders/r1/cq24m6mn5j1c896ftltp3tjw0000gn/T/ipykernel_20927/1328520343.py\u001b[0m in \u001b[0;36m<module>\u001b[0;34m\u001b[0m\n\u001b[0;32m----> 1\u001b[0;31m \u001b[0mtrial\u001b[0m\u001b[0;34m.\u001b[0m\u001b[0mhead\u001b[0m\u001b[0;34m(\u001b[0m\u001b[0;34m)\u001b[0m\u001b[0;34m\u001b[0m\u001b[0;34m\u001b[0m\u001b[0m\n\u001b[0m",
      "\u001b[0;31mNameError\u001b[0m: name 'trial' is not defined"
     ]
    }
   ],
   "source": [
    "trial.head()"
   ]
  },
  {
   "cell_type": "code",
   "execution_count": null,
   "id": "47b46798",
   "metadata": {},
   "outputs": [],
   "source": [
    "trial['hasMasVnr'] = np.where((homes.MasVnrArea > 0) & (homes.MasVnrType != 'None'), 1, 0) \n",
    "#trial.drop(['MasVnrArea', 'MasVnrType'], axis = 1, inplace = True)\n",
    "#since all homes with MasVnr were correlated with price identically, we only need to check if a home has the feature."
   ]
  },
  {
   "cell_type": "code",
   "execution_count": null,
   "id": "4847a105",
   "metadata": {},
   "outputs": [],
   "source": [
    "trial['TotSft'] = trial['TotalBsmtSF']+trial['1stFlrSF'] +trial['2ndFlrSF']\n",
    "#trial.drop(['2ndFlrSF','BsmtFinSF2','TotalBsmtSF', '1stFlrSF','2ndFlrSF' ], axis = 1, inplace = True)\n",
    "#trial.drop('BsmtFinSF1', axis = 1, inplace = True)"
   ]
  },
  {
   "cell_type": "code",
   "execution_count": null,
   "id": "735adb9d",
   "metadata": {},
   "outputs": [],
   "source": [
    "trial['UnfBsmt'] = np.where(trial.BsmtUnfSF>0, 1,0)\n",
    "#trial.drop('BsmtUnfSF',axis = 1, inplace = True)"
   ]
  },
  {
   "cell_type": "code",
   "execution_count": null,
   "id": "bac4033b",
   "metadata": {},
   "outputs": [],
   "source": [
    "trial['NewGarage'] = np.where(trial['GarageYrBlt']>2000,1,0)\n",
    "#trial.drop('GarageYrBlt', axis = 1, inplace = True)"
   ]
  },
  {
   "cell_type": "code",
   "execution_count": null,
   "id": "8fd77fce",
   "metadata": {},
   "outputs": [],
   "source": [
    "trial['HasWoodDk'] = np.where(trial['WoodDeckSF']>0,1,0)\n",
    "#trial.drop('WoodDeckSF',axis = 1, inplace = True)"
   ]
  },
  {
   "cell_type": "code",
   "execution_count": null,
   "id": "414e27fa",
   "metadata": {},
   "outputs": [],
   "source": [
    "trial['HasPorch'] = np.where((homes.OpenPorchSF > 0) | (homes.EnclosedPorch > 0) \n",
    "                             |(homes['3SsnPorch'] > 0) |(homes.ScreenPorch > 0) , 1, 0) \n",
    "\n",
    "\n",
    "#trial.drop(['OpenPorchSF','EnclosedPorch','3SsnPorch','ScreenPorch'], axis = 1, inplace = True)\n",
    "\n",
    "\n"
   ]
  },
  {
   "cell_type": "code",
   "execution_count": null,
   "id": "5a74c852",
   "metadata": {},
   "outputs": [],
   "source": [
    "trial['HasPool'] = np.where(trial.PoolArea>0,1,0)\n",
    "#trial.drop('PoolArea', axis = 1, inplace = True)"
   ]
  },
  {
   "cell_type": "code",
   "execution_count": null,
   "id": "1f0c2855",
   "metadata": {},
   "outputs": [],
   "source": [
    "trial['PavedDrWay'] = np.where(trial.PavedDrive  == 'Y',1,0) #combined minority classes\n",
    "trial.drop(['Unnamed: 0','Alley', 'FireplaceQu','PoolQC','Fence','MiscFeature','MiscVal',\n",
    "           'MoSold','YrSold','SaleType','SaleCondition'], axis = 1, inplace = True)"
   ]
  },
  {
   "cell_type": "code",
   "execution_count": null,
   "id": "fcd3db3a",
   "metadata": {},
   "outputs": [],
   "source": [
    "trial['HasBsmntType2'] = np.where(trial.BsmtFinSF2 >0, 1,0)"
   ]
  },
  {
   "cell_type": "code",
   "execution_count": null,
   "id": "f3704cdd",
   "metadata": {},
   "outputs": [],
   "source": [
    "trial.shape"
   ]
  },
  {
   "cell_type": "code",
   "execution_count": null,
   "id": "fe47355f",
   "metadata": {},
   "outputs": [],
   "source": [
    "trial.info()"
   ]
  },
  {
   "cell_type": "code",
   "execution_count": null,
   "id": "6fb539f2",
   "metadata": {},
   "outputs": [],
   "source": [
    "trial.head(10)"
   ]
  },
  {
   "cell_type": "code",
   "execution_count": null,
   "id": "9498eea0",
   "metadata": {},
   "outputs": [],
   "source": []
  },
  {
   "cell_type": "code",
   "execution_count": null,
   "id": "07bc0596",
   "metadata": {},
   "outputs": [],
   "source": [
    "from sklearn.pipeline import make_pipeline, Pipeline\n",
    "from sklearn.experimental import enable_iterative_imputer #enables iterative imputer \n",
    "from sklearn.impute import IterativeImputer, SimpleImputer, KNNImputer,MissingIndicator\n",
    "from sklearn.preprocessing import OrdinalEncoder\n",
    "from sklearn.compose import ColumnTransformer\n",
    "from sklearn.impute import KNNImputer\n",
    "from sklearn.preprocessing import OneHotEncoder\n",
    "from sklearn.preprocessing import StandardScaler,RobustScaler\n"
   ]
  },
  {
   "cell_type": "code",
   "execution_count": null,
   "id": "b68d3684",
   "metadata": {},
   "outputs": [],
   "source": [
    "num_feat = ['GrLivArea','LotFrontage', 'LotArea','YearBuilt','GarageArea', 'TotSft','YearRemodAdd','BsmtFinSF1',\n",
    "           'BsmtUnfSF','TotalBsmtSF','1stFlrSF','2ndFlrSF','LowQualFinSF','BsmtFullBath','BsmtHalfBath','FullBath',\n",
    "           'HalfBath','BedroomAbvGr','KitchenAbvGr','TotRmsAbvGrd','Fireplaces','GarageYrBlt','WoodDeckSF',]\n",
    "\n",
    "ord_cat = ['Condition1','Condition2', 'OverallQual','OverallCond','ExterQual','ExterCond',\n",
    "          'BsmtQual','BsmtCond','KitchenQual','GarageQual','GarageCond', 'HeatingQC', 'Neighborhood','GarageFinish',\n",
    "          'GarageCars',]\n",
    "\n",
    "\n",
    "nom_cat = ['MSSubClass','MSZoning','Street','LotShape','LandContour','Utilities','LotConfig','LandSlope',\n",
    "          'BldgType','HouseStyle','RoofStyle','RoofMatl','Exterior1st','Exterior2nd',\n",
    "          'Foundation','BsmtExposure','BsmtFinType1', 'BsmtFinType2', 'Heating','CentralAir',\n",
    "          'Electrical','Functional', 'GarageType', 'GarageFinish']\n"
   ]
  },
  {
   "cell_type": "code",
   "execution_count": null,
   "id": "22ffcf91",
   "metadata": {},
   "outputs": [],
   "source": [
    "impute = IterativeImputer(n_nearest_features=10,initial_strategy='median',max_iter=200,random_state=101)"
   ]
  },
  {
   "cell_type": "code",
   "execution_count": null,
   "id": "717e4e21",
   "metadata": {},
   "outputs": [],
   "source": [
    "trial[num_feat] = impute.fit_transform(trial[num_feat])"
   ]
  },
  {
   "cell_type": "code",
   "execution_count": null,
   "id": "c9b831f1",
   "metadata": {},
   "outputs": [],
   "source": [
    "scaler = RobustScaler()\n",
    "trial[num_feat] = scaler.fit_transform(trial[num_feat])"
   ]
  },
  {
   "cell_type": "code",
   "execution_count": null,
   "id": "8707b18d",
   "metadata": {},
   "outputs": [],
   "source": [
    "ordEncode = OrdinalEncoder()\n",
    "trial[ord_cat] = ordEncode.fit_transform(trial[ord_cat])"
   ]
  },
  {
   "cell_type": "code",
   "execution_count": null,
   "id": "31a6fe55",
   "metadata": {},
   "outputs": [],
   "source": [
    "impute_nom = SimpleImputer(strategy='most_frequent')\n",
    "trial[nom_cat] = impute_nom.fit_transform(trial[nom_cat])\n",
    "\n"
   ]
  },
  {
   "cell_type": "code",
   "execution_count": null,
   "id": "44ad6407",
   "metadata": {},
   "outputs": [],
   "source": [
    "dumm = pd.get_dummies(trial[nom_cat],prefix='_is', drop_first=True)"
   ]
  },
  {
   "cell_type": "code",
   "execution_count": null,
   "id": "ae64b791",
   "metadata": {},
   "outputs": [],
   "source": [
    "trial.drop(nom_cat,axis=1, inplace=True)\n",
    "trial = trial.join(dumm)"
   ]
  },
  {
   "cell_type": "code",
   "execution_count": null,
   "id": "5d970ce0",
   "metadata": {},
   "outputs": [],
   "source": [
    "trial.drop(['MasVnrType', 'PavedDrive'], axis = 1, inplace=True)"
   ]
  },
  {
   "cell_type": "code",
   "execution_count": null,
   "id": "8c7b4923",
   "metadata": {},
   "outputs": [],
   "source": [
    "# ct = ColumnTransformer(\n",
    "#     [(\"impute_num\", IterativeImputer(n_nearest_features=10, \n",
    "#                                                  initial_strategy='median',max_iter=200,random_state=101),num_feat),\n",
    "#      (\"scale\", RobustScaler(), num_feat),\n",
    "#    (\"ordinal\", OrdinalEncoder(), ord_cat),\n",
    "#     (\"nominal\", OneHotEncoder(drop='first'),nom_cat),\n",
    "#     (\"impute_nom\", SimpleImputer(strategy='most_frequent'), nom_cat)],remainder='passthrough',verbose_feature_names_out=False)\n",
    "\n",
    "\n",
    "# ct.fit_transform(trial)\n",
    "\n"
   ]
  },
  {
   "cell_type": "code",
   "execution_count": null,
   "id": "b33845ae",
   "metadata": {},
   "outputs": [],
   "source": [
    "trial.fillna(1.0,inplace=True)"
   ]
  },
  {
   "cell_type": "code",
   "execution_count": null,
   "id": "92d84aa5",
   "metadata": {},
   "outputs": [],
   "source": [
    "trial.isna().sum()"
   ]
  },
  {
   "cell_type": "code",
   "execution_count": null,
   "id": "596d09d1",
   "metadata": {},
   "outputs": [],
   "source": []
  },
  {
   "cell_type": "code",
   "execution_count": null,
   "id": "eb2e22ba",
   "metadata": {},
   "outputs": [],
   "source": [
    "y = np.log(trial.SalePrice)"
   ]
  },
  {
   "cell_type": "code",
   "execution_count": null,
   "id": "2e2240aa",
   "metadata": {},
   "outputs": [],
   "source": [
    "X = trial.drop(['SalePrice','PID'],axis=1)\n",
    "X"
   ]
  },
  {
   "cell_type": "code",
   "execution_count": null,
   "id": "5b76daea",
   "metadata": {},
   "outputs": [],
   "source": [
    "# sts = RobustScaler(quantile_range=(30.0,70.0)) # scaling has no impact on score whether standard or robust (for now)\n",
    "# X[num_feat] = sts.fit_transform(X[num_feat])\n"
   ]
  },
  {
   "cell_type": "code",
   "execution_count": null,
   "id": "90bad26b",
   "metadata": {},
   "outputs": [],
   "source": [
    "X.head()"
   ]
  },
  {
   "cell_type": "code",
   "execution_count": null,
   "id": "64281130",
   "metadata": {},
   "outputs": [],
   "source": [
    "X.isna().sum()"
   ]
  },
  {
   "cell_type": "code",
   "execution_count": null,
   "id": "f76c84f8",
   "metadata": {},
   "outputs": [],
   "source": [
    "from sklearn.model_selection import train_test_split\n",
    "from sklearn.linear_model import LinearRegression, Lasso, Ridge, ElasticNet, HuberRegressor\n",
    "from sklearn.metrics import r2_score\n",
    "X_train, X_test, y_train, y_test = train_test_split(X,y,test_size=.30, random_state=101)\n",
    "\n",
    "mlr = LinearRegression()\n",
    "mlr.fit(X_train, y_train)\n",
    "y_pred = mlr.predict(X_test)\n",
    "r2_score(y_test, y_pred)"
   ]
  },
  {
   "cell_type": "code",
   "execution_count": null,
   "id": "8e5a6830",
   "metadata": {},
   "outputs": [],
   "source": [
    "sns.regplot(y_test, y_pred);"
   ]
  },
  {
   "cell_type": "code",
   "execution_count": null,
   "id": "44eb5223",
   "metadata": {},
   "outputs": [],
   "source": [
    "import statsmodels.api as sm"
   ]
  },
  {
   "cell_type": "code",
   "execution_count": null,
   "id": "7a4bc6d6",
   "metadata": {},
   "outputs": [],
   "source": [
    "x_const=sm.add_constant(X_train)\n",
    "model = sm.OLS(y_train, x_const)\n",
    "ols = model.fit()\n",
    "print(ols.summary())\n",
    "\n",
    "\n",
    "ols.pvalues"
   ]
  },
  {
   "cell_type": "code",
   "execution_count": null,
   "id": "c33e7d1f",
   "metadata": {},
   "outputs": [],
   "source": [
    "pvalue = pd.DataFrame(ols.pvalues, columns=['PValue'])\n",
    "new_features = list((pvalue[pvalue.PValue<0.05]).index)"
   ]
  },
  {
   "cell_type": "code",
   "execution_count": null,
   "id": "76e29661",
   "metadata": {},
   "outputs": [],
   "source": [
    "pvalue[pvalue.PValue<0.05]"
   ]
  },
  {
   "cell_type": "code",
   "execution_count": null,
   "id": "3d68b551",
   "metadata": {},
   "outputs": [],
   "source": [
    "X1 = trial[new_features[1:]]\n",
    "\n",
    "'''\n",
    "\n",
    "From 179 to 81 columns\n",
    "\n",
    "'''\n",
    "X_train1, X_test1, y_train1, y_test1 = train_test_split(X1,y,test_size=.30, random_state=101)\n",
    "\n",
    "mlr1 = LinearRegression()\n",
    "mlr1.fit(X_train1, y_train1)\n",
    "y_pred1 = mlr1.predict(X_test1)\n",
    "r2_score(y_test1, y_pred1)\n",
    "\n",
    "\n"
   ]
  },
  {
   "cell_type": "code",
   "execution_count": null,
   "id": "b51b5cea",
   "metadata": {},
   "outputs": [],
   "source": [
    "sns.regplot(y_test, y_pred);"
   ]
  },
  {
   "cell_type": "markdown",
   "id": "fe0f6531",
   "metadata": {},
   "source": [
    "# Machine Learning Models\n",
    "\n"
   ]
  },
  {
   "cell_type": "markdown",
   "id": "2565d413",
   "metadata": {},
   "source": [
    "### Support Vector Machine (SVR)"
   ]
  },
  {
   "cell_type": "code",
   "execution_count": null,
   "id": "7a5bef52",
   "metadata": {},
   "outputs": [],
   "source": [
    "from sklearn.svm import SVR"
   ]
  },
  {
   "cell_type": "code",
   "execution_count": null,
   "id": "5cc0cf25",
   "metadata": {},
   "outputs": [],
   "source": [
    "trial.head()"
   ]
  },
  {
   "cell_type": "code",
   "execution_count": null,
   "id": "3c6eebc9",
   "metadata": {},
   "outputs": [],
   "source": []
  },
  {
   "cell_type": "code",
   "execution_count": null,
   "id": "e48d4746",
   "metadata": {},
   "outputs": [],
   "source": []
  },
  {
   "cell_type": "code",
   "execution_count": null,
   "id": "970ad926",
   "metadata": {},
   "outputs": [],
   "source": []
  },
  {
   "cell_type": "code",
   "execution_count": null,
   "id": "0659a471",
   "metadata": {},
   "outputs": [],
   "source": []
  },
  {
   "cell_type": "code",
   "execution_count": null,
   "id": "50e654d7",
   "metadata": {},
   "outputs": [],
   "source": []
  },
  {
   "cell_type": "code",
   "execution_count": null,
   "id": "06f255e9",
   "metadata": {},
   "outputs": [],
   "source": []
  },
  {
   "cell_type": "code",
   "execution_count": null,
   "id": "f3ddcda9",
   "metadata": {},
   "outputs": [],
   "source": []
  },
  {
   "cell_type": "code",
   "execution_count": null,
   "id": "e28cd2f9",
   "metadata": {},
   "outputs": [],
   "source": []
  },
  {
   "cell_type": "code",
   "execution_count": null,
   "id": "89bdd5bf",
   "metadata": {},
   "outputs": [],
   "source": []
  },
  {
   "cell_type": "code",
   "execution_count": null,
   "id": "55370577",
   "metadata": {},
   "outputs": [],
   "source": []
  },
  {
   "cell_type": "code",
   "execution_count": null,
   "id": "41902570",
   "metadata": {},
   "outputs": [],
   "source": []
  },
  {
   "cell_type": "code",
   "execution_count": null,
   "id": "2f40c45b",
   "metadata": {},
   "outputs": [],
   "source": []
  },
  {
   "cell_type": "code",
   "execution_count": null,
   "id": "434aa316",
   "metadata": {},
   "outputs": [],
   "source": []
  },
  {
   "cell_type": "code",
   "execution_count": null,
   "id": "46fd3678",
   "metadata": {},
   "outputs": [],
   "source": []
  },
  {
   "cell_type": "markdown",
   "id": "04441280",
   "metadata": {},
   "source": [
    "## Decision Tree & Random Forest, XGBoost"
   ]
  },
  {
   "cell_type": "code",
   "execution_count": null,
   "id": "d6ae9246",
   "metadata": {},
   "outputs": [],
   "source": [
    "from sklearn.ensemble import RandomForestRegressor, BaggingRegressor, GradientBoostingRegressor\n",
    "from sklearn.tree import DecisionTreeRegressor"
   ]
  },
  {
   "cell_type": "code",
   "execution_count": null,
   "id": "82ea91e7",
   "metadata": {},
   "outputs": [],
   "source": []
  },
  {
   "cell_type": "code",
   "execution_count": null,
   "id": "4c9a51e8",
   "metadata": {},
   "outputs": [],
   "source": []
  },
  {
   "cell_type": "code",
   "execution_count": null,
   "id": "13d671ce",
   "metadata": {},
   "outputs": [],
   "source": []
  },
  {
   "cell_type": "code",
   "execution_count": null,
   "id": "ec26c056",
   "metadata": {},
   "outputs": [],
   "source": []
  },
  {
   "cell_type": "code",
   "execution_count": null,
   "id": "8c7b620d",
   "metadata": {},
   "outputs": [],
   "source": []
  },
  {
   "cell_type": "code",
   "execution_count": null,
   "id": "7dad1c3b",
   "metadata": {},
   "outputs": [],
   "source": []
  },
  {
   "cell_type": "code",
   "execution_count": null,
   "id": "66f1318a",
   "metadata": {},
   "outputs": [],
   "source": []
  },
  {
   "cell_type": "code",
   "execution_count": null,
   "id": "723c81f4",
   "metadata": {},
   "outputs": [],
   "source": []
  },
  {
   "cell_type": "code",
   "execution_count": null,
   "id": "f96f7262",
   "metadata": {},
   "outputs": [],
   "source": []
  },
  {
   "cell_type": "code",
   "execution_count": null,
   "id": "00913146",
   "metadata": {},
   "outputs": [],
   "source": []
  },
  {
   "cell_type": "code",
   "execution_count": null,
   "id": "c23242fe",
   "metadata": {},
   "outputs": [],
   "source": []
  },
  {
   "cell_type": "code",
   "execution_count": null,
   "id": "5de37c32",
   "metadata": {},
   "outputs": [],
   "source": []
  },
  {
   "cell_type": "code",
   "execution_count": null,
   "id": "1dbdbe8f",
   "metadata": {},
   "outputs": [],
   "source": []
  },
  {
   "cell_type": "code",
   "execution_count": null,
   "id": "20277837",
   "metadata": {},
   "outputs": [],
   "source": []
  },
  {
   "cell_type": "code",
   "execution_count": null,
   "id": "5756b58c",
   "metadata": {},
   "outputs": [],
   "source": []
  },
  {
   "cell_type": "markdown",
   "id": "70488f6c",
   "metadata": {},
   "source": [
    "## Problems With The Dataset"
   ]
  },
  {
   "cell_type": "markdown",
   "id": "8b4977e2",
   "metadata": {},
   "source": [
    " - Some Categorical Columns are very imbalanced, hence some of them were dropped as to not interfere with our model authenticity. Due to this, some information was lost and our model will only work with specific homes. To illustrate, because we had to drop 'Functionality' columns due to insufficient examples of 'salvage' homes and skewed majority class, we can only predict on homes with no degree of damage. Another example would be type of home. Since most homes in the dataset are for single-family homes, our model would not work on any other type"
   ]
  },
  {
   "cell_type": "code",
   "execution_count": null,
   "id": "24b9002a",
   "metadata": {},
   "outputs": [],
   "source": [
    "import os"
   ]
  },
  {
   "cell_type": "code",
   "execution_count": null,
   "id": "065624aa",
   "metadata": {},
   "outputs": [],
   "source": [
    "dir(os)"
   ]
  },
  {
   "cell_type": "code",
   "execution_count": null,
   "id": "d73e06fa",
   "metadata": {},
   "outputs": [],
   "source": []
  },
  {
   "cell_type": "code",
   "execution_count": null,
   "id": "658e905f",
   "metadata": {},
   "outputs": [],
   "source": [
    "/Users/tiko/Documents/Machine_Learning_Ames_Housing_Kaggle/Tigran_V"
   ]
  }
 ],
 "metadata": {
  "kernelspec": {
   "display_name": "Python 3 (ipykernel)",
   "language": "python",
   "name": "python3"
  },
  "language_info": {
   "codemirror_mode": {
    "name": "ipython",
    "version": 3
   },
   "file_extension": ".py",
   "mimetype": "text/x-python",
   "name": "python",
   "nbconvert_exporter": "python",
   "pygments_lexer": "ipython3",
   "version": "3.9.7"
  }
 },
 "nbformat": 4,
 "nbformat_minor": 5
}
